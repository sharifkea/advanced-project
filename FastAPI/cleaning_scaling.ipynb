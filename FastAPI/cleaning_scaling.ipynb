{
 "cells": [
  {
   "cell_type": "code",
   "execution_count": 1,
   "id": "f18e5af8",
   "metadata": {
    "executionInfo": {
     "elapsed": 2755,
     "status": "ok",
     "timestamp": 1759238149709,
     "user": {
      "displayName": "Md Sharif Uddin Khan",
      "userId": "13262859669309775885"
     },
     "user_tz": -360
    },
    "id": "f18e5af8"
   },
   "outputs": [
    {
     "name": "stdout",
     "output_type": "stream",
     "text": [
      "PY: c:\\Users\\Gurpreet Kaur\\AndroidStudioProjects\\advanced-project\\venv\\Scripts\\python.exe\n",
      "NumPy: 2.3.2\n"
     ]
    }
   ],
   "source": [
    "import sys, numpy\n",
    "print(\"PY:\", sys.executable)\n",
    "print(\"NumPy:\", numpy.__version__)"
   ]
  },
  {
   "cell_type": "code",
   "execution_count": 2,
   "id": "e9a332c8",
   "metadata": {},
   "outputs": [],
   "source": [
    "\n",
    "import numpy as np\n",
    "import pandas as pd\n",
    "import matplotlib.pyplot as plt\n",
    "import seaborn as sns"
   ]
  },
  {
   "cell_type": "code",
   "execution_count": 3,
   "id": "5014939f",
   "metadata": {
    "colab": {
     "base_uri": "https://localhost:8080/",
     "height": 206
    },
    "executionInfo": {
     "elapsed": 484,
     "status": "ok",
     "timestamp": 1759238458061,
     "user": {
      "displayName": "Md Sharif Uddin Khan",
      "userId": "13262859669309775885"
     },
     "user_tz": -360
    },
    "id": "5014939f",
    "outputId": "f1880201-b170-44fb-b6e5-e3c683b82316"
   },
   "outputs": [
    {
     "data": {
      "text/html": [
       "<div>\n",
       "<style scoped>\n",
       "    .dataframe tbody tr th:only-of-type {\n",
       "        vertical-align: middle;\n",
       "    }\n",
       "\n",
       "    .dataframe tbody tr th {\n",
       "        vertical-align: top;\n",
       "    }\n",
       "\n",
       "    .dataframe thead th {\n",
       "        text-align: right;\n",
       "    }\n",
       "</style>\n",
       "<table border=\"1\" class=\"dataframe\">\n",
       "  <thead>\n",
       "    <tr style=\"text-align: right;\">\n",
       "      <th></th>\n",
       "      <th>id</th>\n",
       "      <th>age</th>\n",
       "      <th>gender</th>\n",
       "      <th>height</th>\n",
       "      <th>weight</th>\n",
       "      <th>ap_hi</th>\n",
       "      <th>ap_lo</th>\n",
       "      <th>cholesterol</th>\n",
       "      <th>gluc</th>\n",
       "      <th>smoke</th>\n",
       "      <th>alco</th>\n",
       "      <th>active</th>\n",
       "      <th>cardio</th>\n",
       "    </tr>\n",
       "  </thead>\n",
       "  <tbody>\n",
       "    <tr>\n",
       "      <th>0</th>\n",
       "      <td>0</td>\n",
       "      <td>18393</td>\n",
       "      <td>2</td>\n",
       "      <td>168</td>\n",
       "      <td>62.0</td>\n",
       "      <td>110</td>\n",
       "      <td>80</td>\n",
       "      <td>1</td>\n",
       "      <td>1</td>\n",
       "      <td>0</td>\n",
       "      <td>0</td>\n",
       "      <td>1</td>\n",
       "      <td>0</td>\n",
       "    </tr>\n",
       "    <tr>\n",
       "      <th>1</th>\n",
       "      <td>1</td>\n",
       "      <td>20228</td>\n",
       "      <td>1</td>\n",
       "      <td>156</td>\n",
       "      <td>85.0</td>\n",
       "      <td>140</td>\n",
       "      <td>90</td>\n",
       "      <td>3</td>\n",
       "      <td>1</td>\n",
       "      <td>0</td>\n",
       "      <td>0</td>\n",
       "      <td>1</td>\n",
       "      <td>1</td>\n",
       "    </tr>\n",
       "    <tr>\n",
       "      <th>2</th>\n",
       "      <td>2</td>\n",
       "      <td>18857</td>\n",
       "      <td>1</td>\n",
       "      <td>165</td>\n",
       "      <td>64.0</td>\n",
       "      <td>130</td>\n",
       "      <td>70</td>\n",
       "      <td>3</td>\n",
       "      <td>1</td>\n",
       "      <td>0</td>\n",
       "      <td>0</td>\n",
       "      <td>0</td>\n",
       "      <td>1</td>\n",
       "    </tr>\n",
       "    <tr>\n",
       "      <th>3</th>\n",
       "      <td>3</td>\n",
       "      <td>17623</td>\n",
       "      <td>2</td>\n",
       "      <td>169</td>\n",
       "      <td>82.0</td>\n",
       "      <td>150</td>\n",
       "      <td>100</td>\n",
       "      <td>1</td>\n",
       "      <td>1</td>\n",
       "      <td>0</td>\n",
       "      <td>0</td>\n",
       "      <td>1</td>\n",
       "      <td>1</td>\n",
       "    </tr>\n",
       "    <tr>\n",
       "      <th>4</th>\n",
       "      <td>4</td>\n",
       "      <td>17474</td>\n",
       "      <td>1</td>\n",
       "      <td>156</td>\n",
       "      <td>56.0</td>\n",
       "      <td>100</td>\n",
       "      <td>60</td>\n",
       "      <td>1</td>\n",
       "      <td>1</td>\n",
       "      <td>0</td>\n",
       "      <td>0</td>\n",
       "      <td>0</td>\n",
       "      <td>0</td>\n",
       "    </tr>\n",
       "  </tbody>\n",
       "</table>\n",
       "</div>"
      ],
      "text/plain": [
       "   id    age  gender  height  weight  ap_hi  ap_lo  cholesterol  gluc  smoke  \\\n",
       "0   0  18393       2     168    62.0    110     80            1     1      0   \n",
       "1   1  20228       1     156    85.0    140     90            3     1      0   \n",
       "2   2  18857       1     165    64.0    130     70            3     1      0   \n",
       "3   3  17623       2     169    82.0    150    100            1     1      0   \n",
       "4   4  17474       1     156    56.0    100     60            1     1      0   \n",
       "\n",
       "   alco  active  cardio  \n",
       "0     0       1       0  \n",
       "1     0       1       1  \n",
       "2     0       0       1  \n",
       "3     0       1       1  \n",
       "4     0       0       0  "
      ]
     },
     "execution_count": 3,
     "metadata": {},
     "output_type": "execute_result"
    }
   ],
   "source": [
    "# Load the dataset\n",
    "df = pd.read_csv(\"cardio_train.csv\", sep=\";\")\n",
    "df.head()"
   ]
  },
  {
   "cell_type": "markdown",
   "id": "f008fb32",
   "metadata": {
    "id": "f008fb32"
   },
   "source": [
    "## Notice that age is in days format, so we are converting those in years format."
   ]
  },
  {
   "cell_type": "code",
   "execution_count": 4,
   "id": "3cee9076",
   "metadata": {
    "executionInfo": {
     "elapsed": 17,
     "status": "ok",
     "timestamp": 1759238466350,
     "user": {
      "displayName": "Md Sharif Uddin Khan",
      "userId": "13262859669309775885"
     },
     "user_tz": -360
    },
    "id": "3cee9076"
   },
   "outputs": [],
   "source": [
    "# Convert age from days to years and round to nearest integer\n",
    "df['age_years'] = (df['age'] / 365).round()\n"
   ]
  },
  {
   "cell_type": "code",
   "execution_count": 5,
   "id": "a1e312e1",
   "metadata": {
    "colab": {
     "base_uri": "https://localhost:8080/",
     "height": 226
    },
    "executionInfo": {
     "elapsed": 51,
     "status": "ok",
     "timestamp": 1759238469440,
     "user": {
      "displayName": "Md Sharif Uddin Khan",
      "userId": "13262859669309775885"
     },
     "user_tz": -360
    },
    "id": "a1e312e1",
    "outputId": "18eaf46f-ef79-46cf-caa4-3378992b5c0d"
   },
   "outputs": [
    {
     "data": {
      "text/html": [
       "<div>\n",
       "<style scoped>\n",
       "    .dataframe tbody tr th:only-of-type {\n",
       "        vertical-align: middle;\n",
       "    }\n",
       "\n",
       "    .dataframe tbody tr th {\n",
       "        vertical-align: top;\n",
       "    }\n",
       "\n",
       "    .dataframe thead th {\n",
       "        text-align: right;\n",
       "    }\n",
       "</style>\n",
       "<table border=\"1\" class=\"dataframe\">\n",
       "  <thead>\n",
       "    <tr style=\"text-align: right;\">\n",
       "      <th></th>\n",
       "      <th>id</th>\n",
       "      <th>age</th>\n",
       "      <th>gender</th>\n",
       "      <th>height</th>\n",
       "      <th>weight</th>\n",
       "      <th>ap_hi</th>\n",
       "      <th>ap_lo</th>\n",
       "      <th>cholesterol</th>\n",
       "      <th>gluc</th>\n",
       "      <th>smoke</th>\n",
       "      <th>alco</th>\n",
       "      <th>active</th>\n",
       "      <th>cardio</th>\n",
       "      <th>age_years</th>\n",
       "    </tr>\n",
       "  </thead>\n",
       "  <tbody>\n",
       "    <tr>\n",
       "      <th>0</th>\n",
       "      <td>0</td>\n",
       "      <td>18393</td>\n",
       "      <td>2</td>\n",
       "      <td>168</td>\n",
       "      <td>62.0</td>\n",
       "      <td>110</td>\n",
       "      <td>80</td>\n",
       "      <td>1</td>\n",
       "      <td>1</td>\n",
       "      <td>0</td>\n",
       "      <td>0</td>\n",
       "      <td>1</td>\n",
       "      <td>0</td>\n",
       "      <td>50.0</td>\n",
       "    </tr>\n",
       "    <tr>\n",
       "      <th>1</th>\n",
       "      <td>1</td>\n",
       "      <td>20228</td>\n",
       "      <td>1</td>\n",
       "      <td>156</td>\n",
       "      <td>85.0</td>\n",
       "      <td>140</td>\n",
       "      <td>90</td>\n",
       "      <td>3</td>\n",
       "      <td>1</td>\n",
       "      <td>0</td>\n",
       "      <td>0</td>\n",
       "      <td>1</td>\n",
       "      <td>1</td>\n",
       "      <td>55.0</td>\n",
       "    </tr>\n",
       "    <tr>\n",
       "      <th>2</th>\n",
       "      <td>2</td>\n",
       "      <td>18857</td>\n",
       "      <td>1</td>\n",
       "      <td>165</td>\n",
       "      <td>64.0</td>\n",
       "      <td>130</td>\n",
       "      <td>70</td>\n",
       "      <td>3</td>\n",
       "      <td>1</td>\n",
       "      <td>0</td>\n",
       "      <td>0</td>\n",
       "      <td>0</td>\n",
       "      <td>1</td>\n",
       "      <td>52.0</td>\n",
       "    </tr>\n",
       "    <tr>\n",
       "      <th>3</th>\n",
       "      <td>3</td>\n",
       "      <td>17623</td>\n",
       "      <td>2</td>\n",
       "      <td>169</td>\n",
       "      <td>82.0</td>\n",
       "      <td>150</td>\n",
       "      <td>100</td>\n",
       "      <td>1</td>\n",
       "      <td>1</td>\n",
       "      <td>0</td>\n",
       "      <td>0</td>\n",
       "      <td>1</td>\n",
       "      <td>1</td>\n",
       "      <td>48.0</td>\n",
       "    </tr>\n",
       "    <tr>\n",
       "      <th>4</th>\n",
       "      <td>4</td>\n",
       "      <td>17474</td>\n",
       "      <td>1</td>\n",
       "      <td>156</td>\n",
       "      <td>56.0</td>\n",
       "      <td>100</td>\n",
       "      <td>60</td>\n",
       "      <td>1</td>\n",
       "      <td>1</td>\n",
       "      <td>0</td>\n",
       "      <td>0</td>\n",
       "      <td>0</td>\n",
       "      <td>0</td>\n",
       "      <td>48.0</td>\n",
       "    </tr>\n",
       "  </tbody>\n",
       "</table>\n",
       "</div>"
      ],
      "text/plain": [
       "   id    age  gender  height  weight  ap_hi  ap_lo  cholesterol  gluc  smoke  \\\n",
       "0   0  18393       2     168    62.0    110     80            1     1      0   \n",
       "1   1  20228       1     156    85.0    140     90            3     1      0   \n",
       "2   2  18857       1     165    64.0    130     70            3     1      0   \n",
       "3   3  17623       2     169    82.0    150    100            1     1      0   \n",
       "4   4  17474       1     156    56.0    100     60            1     1      0   \n",
       "\n",
       "   alco  active  cardio  age_years  \n",
       "0     0       1       0       50.0  \n",
       "1     0       1       1       55.0  \n",
       "2     0       0       1       52.0  \n",
       "3     0       1       1       48.0  \n",
       "4     0       0       0       48.0  "
      ]
     },
     "execution_count": 5,
     "metadata": {},
     "output_type": "execute_result"
    }
   ],
   "source": [
    "df.head()"
   ]
  },
  {
   "cell_type": "code",
   "execution_count": 6,
   "id": "80ce5a88",
   "metadata": {
    "colab": {
     "base_uri": "https://localhost:8080/",
     "height": 320
    },
    "executionInfo": {
     "elapsed": 262,
     "status": "ok",
     "timestamp": 1759238475607,
     "user": {
      "displayName": "Md Sharif Uddin Khan",
      "userId": "13262859669309775885"
     },
     "user_tz": -360
    },
    "id": "80ce5a88",
    "outputId": "8ab60c7c-e444-49ed-d580-5c1687daa7e3"
   },
   "outputs": [
    {
     "data": {
      "text/html": [
       "<div>\n",
       "<style scoped>\n",
       "    .dataframe tbody tr th:only-of-type {\n",
       "        vertical-align: middle;\n",
       "    }\n",
       "\n",
       "    .dataframe tbody tr th {\n",
       "        vertical-align: top;\n",
       "    }\n",
       "\n",
       "    .dataframe thead th {\n",
       "        text-align: right;\n",
       "    }\n",
       "</style>\n",
       "<table border=\"1\" class=\"dataframe\">\n",
       "  <thead>\n",
       "    <tr style=\"text-align: right;\">\n",
       "      <th></th>\n",
       "      <th>id</th>\n",
       "      <th>age</th>\n",
       "      <th>gender</th>\n",
       "      <th>height</th>\n",
       "      <th>weight</th>\n",
       "      <th>ap_hi</th>\n",
       "      <th>ap_lo</th>\n",
       "      <th>cholesterol</th>\n",
       "      <th>gluc</th>\n",
       "      <th>smoke</th>\n",
       "      <th>alco</th>\n",
       "      <th>active</th>\n",
       "      <th>cardio</th>\n",
       "      <th>age_years</th>\n",
       "    </tr>\n",
       "  </thead>\n",
       "  <tbody>\n",
       "    <tr>\n",
       "      <th>count</th>\n",
       "      <td>70000.000000</td>\n",
       "      <td>70000.000000</td>\n",
       "      <td>70000.000000</td>\n",
       "      <td>70000.000000</td>\n",
       "      <td>70000.000000</td>\n",
       "      <td>70000.000000</td>\n",
       "      <td>70000.000000</td>\n",
       "      <td>70000.000000</td>\n",
       "      <td>70000.000000</td>\n",
       "      <td>70000.000000</td>\n",
       "      <td>70000.000000</td>\n",
       "      <td>70000.000000</td>\n",
       "      <td>70000.000000</td>\n",
       "      <td>70000.000000</td>\n",
       "    </tr>\n",
       "    <tr>\n",
       "      <th>mean</th>\n",
       "      <td>49972.419900</td>\n",
       "      <td>19468.865814</td>\n",
       "      <td>1.349571</td>\n",
       "      <td>164.359229</td>\n",
       "      <td>74.205690</td>\n",
       "      <td>128.817286</td>\n",
       "      <td>96.630414</td>\n",
       "      <td>1.366871</td>\n",
       "      <td>1.226457</td>\n",
       "      <td>0.088129</td>\n",
       "      <td>0.053771</td>\n",
       "      <td>0.803729</td>\n",
       "      <td>0.499700</td>\n",
       "      <td>53.338686</td>\n",
       "    </tr>\n",
       "    <tr>\n",
       "      <th>std</th>\n",
       "      <td>28851.302323</td>\n",
       "      <td>2467.251667</td>\n",
       "      <td>0.476838</td>\n",
       "      <td>8.210126</td>\n",
       "      <td>14.395757</td>\n",
       "      <td>154.011419</td>\n",
       "      <td>188.472530</td>\n",
       "      <td>0.680250</td>\n",
       "      <td>0.572270</td>\n",
       "      <td>0.283484</td>\n",
       "      <td>0.225568</td>\n",
       "      <td>0.397179</td>\n",
       "      <td>0.500003</td>\n",
       "      <td>6.765294</td>\n",
       "    </tr>\n",
       "    <tr>\n",
       "      <th>min</th>\n",
       "      <td>0.000000</td>\n",
       "      <td>10798.000000</td>\n",
       "      <td>1.000000</td>\n",
       "      <td>55.000000</td>\n",
       "      <td>10.000000</td>\n",
       "      <td>-150.000000</td>\n",
       "      <td>-70.000000</td>\n",
       "      <td>1.000000</td>\n",
       "      <td>1.000000</td>\n",
       "      <td>0.000000</td>\n",
       "      <td>0.000000</td>\n",
       "      <td>0.000000</td>\n",
       "      <td>0.000000</td>\n",
       "      <td>30.000000</td>\n",
       "    </tr>\n",
       "    <tr>\n",
       "      <th>25%</th>\n",
       "      <td>25006.750000</td>\n",
       "      <td>17664.000000</td>\n",
       "      <td>1.000000</td>\n",
       "      <td>159.000000</td>\n",
       "      <td>65.000000</td>\n",
       "      <td>120.000000</td>\n",
       "      <td>80.000000</td>\n",
       "      <td>1.000000</td>\n",
       "      <td>1.000000</td>\n",
       "      <td>0.000000</td>\n",
       "      <td>0.000000</td>\n",
       "      <td>1.000000</td>\n",
       "      <td>0.000000</td>\n",
       "      <td>48.000000</td>\n",
       "    </tr>\n",
       "    <tr>\n",
       "      <th>50%</th>\n",
       "      <td>50001.500000</td>\n",
       "      <td>19703.000000</td>\n",
       "      <td>1.000000</td>\n",
       "      <td>165.000000</td>\n",
       "      <td>72.000000</td>\n",
       "      <td>120.000000</td>\n",
       "      <td>80.000000</td>\n",
       "      <td>1.000000</td>\n",
       "      <td>1.000000</td>\n",
       "      <td>0.000000</td>\n",
       "      <td>0.000000</td>\n",
       "      <td>1.000000</td>\n",
       "      <td>0.000000</td>\n",
       "      <td>54.000000</td>\n",
       "    </tr>\n",
       "    <tr>\n",
       "      <th>75%</th>\n",
       "      <td>74889.250000</td>\n",
       "      <td>21327.000000</td>\n",
       "      <td>2.000000</td>\n",
       "      <td>170.000000</td>\n",
       "      <td>82.000000</td>\n",
       "      <td>140.000000</td>\n",
       "      <td>90.000000</td>\n",
       "      <td>2.000000</td>\n",
       "      <td>1.000000</td>\n",
       "      <td>0.000000</td>\n",
       "      <td>0.000000</td>\n",
       "      <td>1.000000</td>\n",
       "      <td>1.000000</td>\n",
       "      <td>58.000000</td>\n",
       "    </tr>\n",
       "    <tr>\n",
       "      <th>max</th>\n",
       "      <td>99999.000000</td>\n",
       "      <td>23713.000000</td>\n",
       "      <td>2.000000</td>\n",
       "      <td>250.000000</td>\n",
       "      <td>200.000000</td>\n",
       "      <td>16020.000000</td>\n",
       "      <td>11000.000000</td>\n",
       "      <td>3.000000</td>\n",
       "      <td>3.000000</td>\n",
       "      <td>1.000000</td>\n",
       "      <td>1.000000</td>\n",
       "      <td>1.000000</td>\n",
       "      <td>1.000000</td>\n",
       "      <td>65.000000</td>\n",
       "    </tr>\n",
       "  </tbody>\n",
       "</table>\n",
       "</div>"
      ],
      "text/plain": [
       "                 id           age        gender        height        weight  \\\n",
       "count  70000.000000  70000.000000  70000.000000  70000.000000  70000.000000   \n",
       "mean   49972.419900  19468.865814      1.349571    164.359229     74.205690   \n",
       "std    28851.302323   2467.251667      0.476838      8.210126     14.395757   \n",
       "min        0.000000  10798.000000      1.000000     55.000000     10.000000   \n",
       "25%    25006.750000  17664.000000      1.000000    159.000000     65.000000   \n",
       "50%    50001.500000  19703.000000      1.000000    165.000000     72.000000   \n",
       "75%    74889.250000  21327.000000      2.000000    170.000000     82.000000   \n",
       "max    99999.000000  23713.000000      2.000000    250.000000    200.000000   \n",
       "\n",
       "              ap_hi         ap_lo   cholesterol          gluc         smoke  \\\n",
       "count  70000.000000  70000.000000  70000.000000  70000.000000  70000.000000   \n",
       "mean     128.817286     96.630414      1.366871      1.226457      0.088129   \n",
       "std      154.011419    188.472530      0.680250      0.572270      0.283484   \n",
       "min     -150.000000    -70.000000      1.000000      1.000000      0.000000   \n",
       "25%      120.000000     80.000000      1.000000      1.000000      0.000000   \n",
       "50%      120.000000     80.000000      1.000000      1.000000      0.000000   \n",
       "75%      140.000000     90.000000      2.000000      1.000000      0.000000   \n",
       "max    16020.000000  11000.000000      3.000000      3.000000      1.000000   \n",
       "\n",
       "               alco        active        cardio     age_years  \n",
       "count  70000.000000  70000.000000  70000.000000  70000.000000  \n",
       "mean       0.053771      0.803729      0.499700     53.338686  \n",
       "std        0.225568      0.397179      0.500003      6.765294  \n",
       "min        0.000000      0.000000      0.000000     30.000000  \n",
       "25%        0.000000      1.000000      0.000000     48.000000  \n",
       "50%        0.000000      1.000000      0.000000     54.000000  \n",
       "75%        0.000000      1.000000      1.000000     58.000000  \n",
       "max        1.000000      1.000000      1.000000     65.000000  "
      ]
     },
     "execution_count": 6,
     "metadata": {},
     "output_type": "execute_result"
    }
   ],
   "source": [
    "df.describe()"
   ]
  },
  {
   "cell_type": "markdown",
   "id": "875dfc87",
   "metadata": {
    "id": "875dfc87"
   },
   "source": [
    "## Now Lets create a BMI index which might come in handy later."
   ]
  },
  {
   "cell_type": "code",
   "execution_count": 7,
   "id": "58983020",
   "metadata": {
    "colab": {
     "base_uri": "https://localhost:8080/",
     "height": 226
    },
    "executionInfo": {
     "elapsed": 125,
     "status": "ok",
     "timestamp": 1759238480972,
     "user": {
      "displayName": "Md Sharif Uddin Khan",
      "userId": "13262859669309775885"
     },
     "user_tz": -360
    },
    "id": "58983020",
    "outputId": "f34d44ae-b9a8-4377-b7fb-0016154f3f49"
   },
   "outputs": [
    {
     "data": {
      "text/html": [
       "<div>\n",
       "<style scoped>\n",
       "    .dataframe tbody tr th:only-of-type {\n",
       "        vertical-align: middle;\n",
       "    }\n",
       "\n",
       "    .dataframe tbody tr th {\n",
       "        vertical-align: top;\n",
       "    }\n",
       "\n",
       "    .dataframe thead th {\n",
       "        text-align: right;\n",
       "    }\n",
       "</style>\n",
       "<table border=\"1\" class=\"dataframe\">\n",
       "  <thead>\n",
       "    <tr style=\"text-align: right;\">\n",
       "      <th></th>\n",
       "      <th>id</th>\n",
       "      <th>age</th>\n",
       "      <th>gender</th>\n",
       "      <th>height</th>\n",
       "      <th>weight</th>\n",
       "      <th>ap_hi</th>\n",
       "      <th>ap_lo</th>\n",
       "      <th>cholesterol</th>\n",
       "      <th>gluc</th>\n",
       "      <th>smoke</th>\n",
       "      <th>alco</th>\n",
       "      <th>active</th>\n",
       "      <th>cardio</th>\n",
       "      <th>age_years</th>\n",
       "      <th>BMI</th>\n",
       "    </tr>\n",
       "  </thead>\n",
       "  <tbody>\n",
       "    <tr>\n",
       "      <th>0</th>\n",
       "      <td>0</td>\n",
       "      <td>18393</td>\n",
       "      <td>2</td>\n",
       "      <td>168</td>\n",
       "      <td>62.0</td>\n",
       "      <td>110</td>\n",
       "      <td>80</td>\n",
       "      <td>1</td>\n",
       "      <td>1</td>\n",
       "      <td>0</td>\n",
       "      <td>0</td>\n",
       "      <td>1</td>\n",
       "      <td>0</td>\n",
       "      <td>50.0</td>\n",
       "      <td>21.967120</td>\n",
       "    </tr>\n",
       "    <tr>\n",
       "      <th>1</th>\n",
       "      <td>1</td>\n",
       "      <td>20228</td>\n",
       "      <td>1</td>\n",
       "      <td>156</td>\n",
       "      <td>85.0</td>\n",
       "      <td>140</td>\n",
       "      <td>90</td>\n",
       "      <td>3</td>\n",
       "      <td>1</td>\n",
       "      <td>0</td>\n",
       "      <td>0</td>\n",
       "      <td>1</td>\n",
       "      <td>1</td>\n",
       "      <td>55.0</td>\n",
       "      <td>34.927679</td>\n",
       "    </tr>\n",
       "    <tr>\n",
       "      <th>2</th>\n",
       "      <td>2</td>\n",
       "      <td>18857</td>\n",
       "      <td>1</td>\n",
       "      <td>165</td>\n",
       "      <td>64.0</td>\n",
       "      <td>130</td>\n",
       "      <td>70</td>\n",
       "      <td>3</td>\n",
       "      <td>1</td>\n",
       "      <td>0</td>\n",
       "      <td>0</td>\n",
       "      <td>0</td>\n",
       "      <td>1</td>\n",
       "      <td>52.0</td>\n",
       "      <td>23.507805</td>\n",
       "    </tr>\n",
       "    <tr>\n",
       "      <th>3</th>\n",
       "      <td>3</td>\n",
       "      <td>17623</td>\n",
       "      <td>2</td>\n",
       "      <td>169</td>\n",
       "      <td>82.0</td>\n",
       "      <td>150</td>\n",
       "      <td>100</td>\n",
       "      <td>1</td>\n",
       "      <td>1</td>\n",
       "      <td>0</td>\n",
       "      <td>0</td>\n",
       "      <td>1</td>\n",
       "      <td>1</td>\n",
       "      <td>48.0</td>\n",
       "      <td>28.710479</td>\n",
       "    </tr>\n",
       "    <tr>\n",
       "      <th>4</th>\n",
       "      <td>4</td>\n",
       "      <td>17474</td>\n",
       "      <td>1</td>\n",
       "      <td>156</td>\n",
       "      <td>56.0</td>\n",
       "      <td>100</td>\n",
       "      <td>60</td>\n",
       "      <td>1</td>\n",
       "      <td>1</td>\n",
       "      <td>0</td>\n",
       "      <td>0</td>\n",
       "      <td>0</td>\n",
       "      <td>0</td>\n",
       "      <td>48.0</td>\n",
       "      <td>23.011177</td>\n",
       "    </tr>\n",
       "  </tbody>\n",
       "</table>\n",
       "</div>"
      ],
      "text/plain": [
       "   id    age  gender  height  weight  ap_hi  ap_lo  cholesterol  gluc  smoke  \\\n",
       "0   0  18393       2     168    62.0    110     80            1     1      0   \n",
       "1   1  20228       1     156    85.0    140     90            3     1      0   \n",
       "2   2  18857       1     165    64.0    130     70            3     1      0   \n",
       "3   3  17623       2     169    82.0    150    100            1     1      0   \n",
       "4   4  17474       1     156    56.0    100     60            1     1      0   \n",
       "\n",
       "   alco  active  cardio  age_years        BMI  \n",
       "0     0       1       0       50.0  21.967120  \n",
       "1     0       1       1       55.0  34.927679  \n",
       "2     0       0       1       52.0  23.507805  \n",
       "3     0       1       1       48.0  28.710479  \n",
       "4     0       0       0       48.0  23.011177  "
      ]
     },
     "execution_count": 7,
     "metadata": {},
     "output_type": "execute_result"
    }
   ],
   "source": [
    "# Calculate BMI and add as a new column\n",
    "df['BMI'] = df['weight'] / ( (df['height'] / 100) ** 2 )\n",
    "df.head()\n"
   ]
  },
  {
   "cell_type": "markdown",
   "id": "1c3f2df5",
   "metadata": {
    "id": "1c3f2df5"
   },
   "source": [
    "## Lets add another column which will categorize the BMI index value. This way we can understand clearly where a person stands physical aspect wise."
   ]
  },
  {
   "cell_type": "code",
   "execution_count": 8,
   "id": "df629dd7",
   "metadata": {
    "executionInfo": {
     "elapsed": 10,
     "status": "ok",
     "timestamp": 1759238486503,
     "user": {
      "displayName": "Md Sharif Uddin Khan",
      "userId": "13262859669309775885"
     },
     "user_tz": -360
    },
    "id": "df629dd7"
   },
   "outputs": [],
   "source": [
    "bins = [0, 18.5, 25, 30, float('inf')]\n",
    "labels = [1, 2, 3, 4] # 'Underweight':1, 'Normal': 2, 'Overweight': 3, 'Obese': 4\n",
    "\n",
    "df['BMI_category_num'] = pd.cut(df['BMI'], bins=bins, labels=labels).astype(int)\n"
   ]
  },
  {
   "cell_type": "code",
   "execution_count": 9,
   "id": "cbf7fb16",
   "metadata": {
    "colab": {
     "base_uri": "https://localhost:8080/",
     "height": 226
    },
    "executionInfo": {
     "elapsed": 125,
     "status": "ok",
     "timestamp": 1759238491486,
     "user": {
      "displayName": "Md Sharif Uddin Khan",
      "userId": "13262859669309775885"
     },
     "user_tz": -360
    },
    "id": "cbf7fb16",
    "outputId": "6665b75e-f792-4504-a9dc-e4a6e8a33d0f"
   },
   "outputs": [
    {
     "data": {
      "text/html": [
       "<div>\n",
       "<style scoped>\n",
       "    .dataframe tbody tr th:only-of-type {\n",
       "        vertical-align: middle;\n",
       "    }\n",
       "\n",
       "    .dataframe tbody tr th {\n",
       "        vertical-align: top;\n",
       "    }\n",
       "\n",
       "    .dataframe thead th {\n",
       "        text-align: right;\n",
       "    }\n",
       "</style>\n",
       "<table border=\"1\" class=\"dataframe\">\n",
       "  <thead>\n",
       "    <tr style=\"text-align: right;\">\n",
       "      <th></th>\n",
       "      <th>id</th>\n",
       "      <th>age</th>\n",
       "      <th>gender</th>\n",
       "      <th>height</th>\n",
       "      <th>weight</th>\n",
       "      <th>ap_hi</th>\n",
       "      <th>ap_lo</th>\n",
       "      <th>cholesterol</th>\n",
       "      <th>gluc</th>\n",
       "      <th>smoke</th>\n",
       "      <th>alco</th>\n",
       "      <th>active</th>\n",
       "      <th>cardio</th>\n",
       "      <th>age_years</th>\n",
       "      <th>BMI</th>\n",
       "      <th>BMI_category_num</th>\n",
       "    </tr>\n",
       "  </thead>\n",
       "  <tbody>\n",
       "    <tr>\n",
       "      <th>0</th>\n",
       "      <td>0</td>\n",
       "      <td>18393</td>\n",
       "      <td>2</td>\n",
       "      <td>168</td>\n",
       "      <td>62.0</td>\n",
       "      <td>110</td>\n",
       "      <td>80</td>\n",
       "      <td>1</td>\n",
       "      <td>1</td>\n",
       "      <td>0</td>\n",
       "      <td>0</td>\n",
       "      <td>1</td>\n",
       "      <td>0</td>\n",
       "      <td>50.0</td>\n",
       "      <td>21.967120</td>\n",
       "      <td>2</td>\n",
       "    </tr>\n",
       "    <tr>\n",
       "      <th>1</th>\n",
       "      <td>1</td>\n",
       "      <td>20228</td>\n",
       "      <td>1</td>\n",
       "      <td>156</td>\n",
       "      <td>85.0</td>\n",
       "      <td>140</td>\n",
       "      <td>90</td>\n",
       "      <td>3</td>\n",
       "      <td>1</td>\n",
       "      <td>0</td>\n",
       "      <td>0</td>\n",
       "      <td>1</td>\n",
       "      <td>1</td>\n",
       "      <td>55.0</td>\n",
       "      <td>34.927679</td>\n",
       "      <td>4</td>\n",
       "    </tr>\n",
       "    <tr>\n",
       "      <th>2</th>\n",
       "      <td>2</td>\n",
       "      <td>18857</td>\n",
       "      <td>1</td>\n",
       "      <td>165</td>\n",
       "      <td>64.0</td>\n",
       "      <td>130</td>\n",
       "      <td>70</td>\n",
       "      <td>3</td>\n",
       "      <td>1</td>\n",
       "      <td>0</td>\n",
       "      <td>0</td>\n",
       "      <td>0</td>\n",
       "      <td>1</td>\n",
       "      <td>52.0</td>\n",
       "      <td>23.507805</td>\n",
       "      <td>2</td>\n",
       "    </tr>\n",
       "    <tr>\n",
       "      <th>3</th>\n",
       "      <td>3</td>\n",
       "      <td>17623</td>\n",
       "      <td>2</td>\n",
       "      <td>169</td>\n",
       "      <td>82.0</td>\n",
       "      <td>150</td>\n",
       "      <td>100</td>\n",
       "      <td>1</td>\n",
       "      <td>1</td>\n",
       "      <td>0</td>\n",
       "      <td>0</td>\n",
       "      <td>1</td>\n",
       "      <td>1</td>\n",
       "      <td>48.0</td>\n",
       "      <td>28.710479</td>\n",
       "      <td>3</td>\n",
       "    </tr>\n",
       "    <tr>\n",
       "      <th>4</th>\n",
       "      <td>4</td>\n",
       "      <td>17474</td>\n",
       "      <td>1</td>\n",
       "      <td>156</td>\n",
       "      <td>56.0</td>\n",
       "      <td>100</td>\n",
       "      <td>60</td>\n",
       "      <td>1</td>\n",
       "      <td>1</td>\n",
       "      <td>0</td>\n",
       "      <td>0</td>\n",
       "      <td>0</td>\n",
       "      <td>0</td>\n",
       "      <td>48.0</td>\n",
       "      <td>23.011177</td>\n",
       "      <td>2</td>\n",
       "    </tr>\n",
       "  </tbody>\n",
       "</table>\n",
       "</div>"
      ],
      "text/plain": [
       "   id    age  gender  height  weight  ap_hi  ap_lo  cholesterol  gluc  smoke  \\\n",
       "0   0  18393       2     168    62.0    110     80            1     1      0   \n",
       "1   1  20228       1     156    85.0    140     90            3     1      0   \n",
       "2   2  18857       1     165    64.0    130     70            3     1      0   \n",
       "3   3  17623       2     169    82.0    150    100            1     1      0   \n",
       "4   4  17474       1     156    56.0    100     60            1     1      0   \n",
       "\n",
       "   alco  active  cardio  age_years        BMI  BMI_category_num  \n",
       "0     0       1       0       50.0  21.967120                 2  \n",
       "1     0       1       1       55.0  34.927679                 4  \n",
       "2     0       0       1       52.0  23.507805                 2  \n",
       "3     0       1       1       48.0  28.710479                 3  \n",
       "4     0       0       0       48.0  23.011177                 2  "
      ]
     },
     "execution_count": 9,
     "metadata": {},
     "output_type": "execute_result"
    }
   ],
   "source": [
    "df.head()"
   ]
  },
  {
   "cell_type": "markdown",
   "id": "97d6e543",
   "metadata": {
    "id": "97d6e543"
   },
   "source": [
    "## We need to convert the BMI category into numbers like 1, 2, 3 , 4 etc. This way it's easier for the model to train effectively because some ML model works better on numeric encoding."
   ]
  },
  {
   "cell_type": "code",
   "execution_count": 10,
   "id": "ec4097a1",
   "metadata": {
    "executionInfo": {
     "elapsed": 10,
     "status": "ok",
     "timestamp": 1759238500787,
     "user": {
      "displayName": "Md Sharif Uddin Khan",
      "userId": "13262859669309775885"
     },
     "user_tz": -360
    },
    "id": "ec4097a1"
   },
   "outputs": [
    {
     "name": "stdout",
     "output_type": "stream",
     "text": [
      "<class 'pandas.core.frame.DataFrame'>\n",
      "RangeIndex: 70000 entries, 0 to 69999\n",
      "Data columns (total 16 columns):\n",
      " #   Column            Non-Null Count  Dtype  \n",
      "---  ------            --------------  -----  \n",
      " 0   id                70000 non-null  int64  \n",
      " 1   age               70000 non-null  int64  \n",
      " 2   gender            70000 non-null  int64  \n",
      " 3   height            70000 non-null  int64  \n",
      " 4   weight            70000 non-null  float64\n",
      " 5   ap_hi             70000 non-null  int64  \n",
      " 6   ap_lo             70000 non-null  int64  \n",
      " 7   cholesterol       70000 non-null  int64  \n",
      " 8   gluc              70000 non-null  int64  \n",
      " 9   smoke             70000 non-null  int64  \n",
      " 10  alco              70000 non-null  int64  \n",
      " 11  active            70000 non-null  int64  \n",
      " 12  cardio            70000 non-null  int64  \n",
      " 13  age_years         70000 non-null  float64\n",
      " 14  BMI               70000 non-null  float64\n",
      " 15  BMI_category_num  70000 non-null  int64  \n",
      "dtypes: float64(3), int64(13)\n",
      "memory usage: 8.5 MB\n"
     ]
    }
   ],
   "source": [
    "df.info()\n"
   ]
  },
  {
   "cell_type": "markdown",
   "id": "c51372b1",
   "metadata": {
    "id": "c51372b1"
   },
   "source": [
    "## Now Lets focus on cleaning the dataset, this is crucial for the future steps in our project."
   ]
  },
  {
   "cell_type": "markdown",
   "id": "9d5d89c6",
   "metadata": {
    "id": "9d5d89c6"
   },
   "source": [
    "### Starting off with seeing if there is any missing values or not."
   ]
  },
  {
   "cell_type": "code",
   "execution_count": 11,
   "id": "139bca2e",
   "metadata": {
    "colab": {
     "base_uri": "https://localhost:8080/",
     "height": 617
    },
    "executionInfo": {
     "elapsed": 62,
     "status": "ok",
     "timestamp": 1759238510015,
     "user": {
      "displayName": "Md Sharif Uddin Khan",
      "userId": "13262859669309775885"
     },
     "user_tz": -360
    },
    "id": "139bca2e",
    "outputId": "b5daef71-747b-4b81-9c5c-119c06c89b35"
   },
   "outputs": [
    {
     "data": {
      "text/plain": [
       "id                  0\n",
       "age                 0\n",
       "gender              0\n",
       "height              0\n",
       "weight              0\n",
       "ap_hi               0\n",
       "ap_lo               0\n",
       "cholesterol         0\n",
       "gluc                0\n",
       "smoke               0\n",
       "alco                0\n",
       "active              0\n",
       "cardio              0\n",
       "age_years           0\n",
       "BMI                 0\n",
       "BMI_category_num    0\n",
       "dtype: int64"
      ]
     },
     "execution_count": 11,
     "metadata": {},
     "output_type": "execute_result"
    }
   ],
   "source": [
    "df.isnull().sum()"
   ]
  },
  {
   "cell_type": "markdown",
   "id": "9b9849d9",
   "metadata": {
    "id": "9b9849d9"
   },
   "source": [
    "## Looks like there isn't any missing values, but we still need to look out for abnormal values or outliers which will harm our model's accuracy."
   ]
  },
  {
   "cell_type": "code",
   "execution_count": 12,
   "id": "b6f4bb6b",
   "metadata": {
    "colab": {
     "base_uri": "https://localhost:8080/",
     "height": 226
    },
    "executionInfo": {
     "elapsed": 74,
     "status": "ok",
     "timestamp": 1759238515709,
     "user": {
      "displayName": "Md Sharif Uddin Khan",
      "userId": "13262859669309775885"
     },
     "user_tz": -360
    },
    "id": "b6f4bb6b",
    "outputId": "164ca0e6-517e-445b-ffc3-11dae69d7a84"
   },
   "outputs": [
    {
     "data": {
      "text/html": [
       "<div>\n",
       "<style scoped>\n",
       "    .dataframe tbody tr th:only-of-type {\n",
       "        vertical-align: middle;\n",
       "    }\n",
       "\n",
       "    .dataframe tbody tr th {\n",
       "        vertical-align: top;\n",
       "    }\n",
       "\n",
       "    .dataframe thead th {\n",
       "        text-align: right;\n",
       "    }\n",
       "</style>\n",
       "<table border=\"1\" class=\"dataframe\">\n",
       "  <thead>\n",
       "    <tr style=\"text-align: right;\">\n",
       "      <th></th>\n",
       "      <th>id</th>\n",
       "      <th>age</th>\n",
       "      <th>gender</th>\n",
       "      <th>height</th>\n",
       "      <th>weight</th>\n",
       "      <th>ap_hi</th>\n",
       "      <th>ap_lo</th>\n",
       "      <th>cholesterol</th>\n",
       "      <th>gluc</th>\n",
       "      <th>smoke</th>\n",
       "      <th>alco</th>\n",
       "      <th>active</th>\n",
       "      <th>cardio</th>\n",
       "      <th>age_years</th>\n",
       "      <th>BMI</th>\n",
       "      <th>BMI_category_num</th>\n",
       "    </tr>\n",
       "  </thead>\n",
       "  <tbody>\n",
       "    <tr>\n",
       "      <th>0</th>\n",
       "      <td>0</td>\n",
       "      <td>18393</td>\n",
       "      <td>2</td>\n",
       "      <td>168</td>\n",
       "      <td>62.0</td>\n",
       "      <td>110</td>\n",
       "      <td>80</td>\n",
       "      <td>1</td>\n",
       "      <td>1</td>\n",
       "      <td>0</td>\n",
       "      <td>0</td>\n",
       "      <td>1</td>\n",
       "      <td>0</td>\n",
       "      <td>50.0</td>\n",
       "      <td>21.967120</td>\n",
       "      <td>2</td>\n",
       "    </tr>\n",
       "    <tr>\n",
       "      <th>1</th>\n",
       "      <td>1</td>\n",
       "      <td>20228</td>\n",
       "      <td>1</td>\n",
       "      <td>156</td>\n",
       "      <td>85.0</td>\n",
       "      <td>140</td>\n",
       "      <td>90</td>\n",
       "      <td>3</td>\n",
       "      <td>1</td>\n",
       "      <td>0</td>\n",
       "      <td>0</td>\n",
       "      <td>1</td>\n",
       "      <td>1</td>\n",
       "      <td>55.0</td>\n",
       "      <td>34.927679</td>\n",
       "      <td>4</td>\n",
       "    </tr>\n",
       "    <tr>\n",
       "      <th>2</th>\n",
       "      <td>2</td>\n",
       "      <td>18857</td>\n",
       "      <td>1</td>\n",
       "      <td>165</td>\n",
       "      <td>64.0</td>\n",
       "      <td>130</td>\n",
       "      <td>70</td>\n",
       "      <td>3</td>\n",
       "      <td>1</td>\n",
       "      <td>0</td>\n",
       "      <td>0</td>\n",
       "      <td>0</td>\n",
       "      <td>1</td>\n",
       "      <td>52.0</td>\n",
       "      <td>23.507805</td>\n",
       "      <td>2</td>\n",
       "    </tr>\n",
       "    <tr>\n",
       "      <th>3</th>\n",
       "      <td>3</td>\n",
       "      <td>17623</td>\n",
       "      <td>2</td>\n",
       "      <td>169</td>\n",
       "      <td>82.0</td>\n",
       "      <td>150</td>\n",
       "      <td>100</td>\n",
       "      <td>1</td>\n",
       "      <td>1</td>\n",
       "      <td>0</td>\n",
       "      <td>0</td>\n",
       "      <td>1</td>\n",
       "      <td>1</td>\n",
       "      <td>48.0</td>\n",
       "      <td>28.710479</td>\n",
       "      <td>3</td>\n",
       "    </tr>\n",
       "    <tr>\n",
       "      <th>4</th>\n",
       "      <td>4</td>\n",
       "      <td>17474</td>\n",
       "      <td>1</td>\n",
       "      <td>156</td>\n",
       "      <td>56.0</td>\n",
       "      <td>100</td>\n",
       "      <td>60</td>\n",
       "      <td>1</td>\n",
       "      <td>1</td>\n",
       "      <td>0</td>\n",
       "      <td>0</td>\n",
       "      <td>0</td>\n",
       "      <td>0</td>\n",
       "      <td>48.0</td>\n",
       "      <td>23.011177</td>\n",
       "      <td>2</td>\n",
       "    </tr>\n",
       "  </tbody>\n",
       "</table>\n",
       "</div>"
      ],
      "text/plain": [
       "   id    age  gender  height  weight  ap_hi  ap_lo  cholesterol  gluc  smoke  \\\n",
       "0   0  18393       2     168    62.0    110     80            1     1      0   \n",
       "1   1  20228       1     156    85.0    140     90            3     1      0   \n",
       "2   2  18857       1     165    64.0    130     70            3     1      0   \n",
       "3   3  17623       2     169    82.0    150    100            1     1      0   \n",
       "4   4  17474       1     156    56.0    100     60            1     1      0   \n",
       "\n",
       "   alco  active  cardio  age_years        BMI  BMI_category_num  \n",
       "0     0       1       0       50.0  21.967120                 2  \n",
       "1     0       1       1       55.0  34.927679                 4  \n",
       "2     0       0       1       52.0  23.507805                 2  \n",
       "3     0       1       1       48.0  28.710479                 3  \n",
       "4     0       0       0       48.0  23.011177                 2  "
      ]
     },
     "execution_count": 12,
     "metadata": {},
     "output_type": "execute_result"
    }
   ],
   "source": [
    "df_clean = df.copy() # Create a copy to preserve the original data\n",
    "df_clean.head()"
   ]
  },
  {
   "cell_type": "markdown",
   "id": "9b0a129a",
   "metadata": {
    "id": "9b0a129a"
   },
   "source": [
    "### Lets look at age"
   ]
  },
  {
   "cell_type": "markdown",
   "id": "af5a87cd",
   "metadata": {
    "id": "af5a87cd"
   },
   "source": [
    "Reference: World Health Organization (WHO). \"Adolescent health.\" Defines adulthood starting from 18 years.\n",
    "\n",
    "Rationale: We exclude <18 (children) and >100 (extreme outliers)."
   ]
  },
  {
   "cell_type": "code",
   "execution_count": 13,
   "id": "e78b92a0",
   "metadata": {
    "colab": {
     "base_uri": "https://localhost:8080/"
    },
    "executionInfo": {
     "elapsed": 12,
     "status": "ok",
     "timestamp": 1759238520994,
     "user": {
      "displayName": "Md Sharif Uddin Khan",
      "userId": "13262859669309775885"
     },
     "user_tz": -360
    },
    "id": "e78b92a0",
    "outputId": "1fede2b0-97ff-4ec9-e0e4-d547167e01cc"
   },
   "outputs": [
    {
     "name": "stdout",
     "output_type": "stream",
     "text": [
      "Min age: 30.0\n",
      "Max age: 65.0\n",
      "Abnormal ages found: 0\n",
      "Remaining rows after age cleaning: 70000\n"
     ]
    }
   ],
   "source": [
    "\n",
    "\n",
    "# --- AGE CLEANING ---\n",
    "print(\"Min age:\", df_clean['age_years'].min())\n",
    "print(\"Max age:\", df_clean['age_years'].max())\n",
    "\n",
    "# Count abnormal ages\n",
    "abnormal_age = df_clean[(df_clean['age_years'] < 18) | (df_clean['age_years'] > 100)]\n",
    "print(\"Abnormal ages found:\", abnormal_age.shape[0])\n",
    "\n",
    "# Drop them\n",
    "df_clean = df_clean[(df_clean['age_years'] >= 18) & (df_clean['age_years'] <= 100)]\n",
    "print(\"Remaining rows after age cleaning:\", df_clean.shape[0])\n"
   ]
  },
  {
   "cell_type": "markdown",
   "id": "37920262",
   "metadata": {
    "id": "37920262"
   },
   "source": [
    "## Lets look at the height now."
   ]
  },
  {
   "cell_type": "markdown",
   "id": "58c9f021",
   "metadata": {
    "id": "58c9f021"
   },
   "source": [
    "Reference: Centers for Disease Control and Prevention (CDC), Anthropometric Reference Data for U.S. Adults, 2015–2018.\n",
    "\n",
    "Adult height typically ranges ~140–200 cm, but rare cases can extend beyond.\n",
    "\n",
    "Rationale: We used 80–250 cm as a broad but realistic filter to exclude data entry errors.\n",
    "\n",
    "\n",
    "\n"
   ]
  },
  {
   "cell_type": "code",
   "execution_count": 14,
   "id": "c0e3be8b",
   "metadata": {
    "colab": {
     "base_uri": "https://localhost:8080/"
    },
    "executionInfo": {
     "elapsed": 42,
     "status": "ok",
     "timestamp": 1759238531630,
     "user": {
      "displayName": "Md Sharif Uddin Khan",
      "userId": "13262859669309775885"
     },
     "user_tz": -360
    },
    "id": "c0e3be8b",
    "outputId": "0dcbe65a-f44c-4ca5-9a33-4c4d63e5fa3b"
   },
   "outputs": [
    {
     "name": "stdout",
     "output_type": "stream",
     "text": [
      "Min height: 55\n",
      "Max height: 250\n",
      "Abnormal heights found: 22\n",
      "Remaining rows after height cleaning: 69978\n"
     ]
    }
   ],
   "source": [
    "# --- HEIGHT CLEANING (80–250 cm) ---\n",
    "print(\"Min height:\", df_clean['height'].min())\n",
    "print(\"Max height:\", df_clean['height'].max())\n",
    "\n",
    "# Count abnormal heights\n",
    "abnormal_height = df_clean[(df_clean['height'] < 80) | (df_clean['height'] > 250)]\n",
    "print(\"Abnormal heights found:\", abnormal_height.shape[0])\n",
    "\n",
    "# Drop them\n",
    "df_clean = df_clean[(df_clean['height'] >= 80) & (df_clean['height'] <= 250)]\n",
    "print(\"Remaining rows after height cleaning:\", df_clean.shape[0])\n"
   ]
  },
  {
   "cell_type": "markdown",
   "id": "e24e383f",
   "metadata": {
    "id": "e24e383f"
   },
   "source": [
    "## Lets look at weight now."
   ]
  },
  {
   "cell_type": "markdown",
   "id": "dd3a9e93",
   "metadata": {
    "id": "dd3a9e93"
   },
   "source": [
    "Reference: CDC Anthropometric Reference Data 2015–2018.\n",
    "\n",
    "Adult weight distribution: ~45–120 kg for most adults, but can extend higher.\n",
    "\n",
    "Rationale: We set 40–200 kg as plausible to allow for heavier individuals while filtering errors."
   ]
  },
  {
   "cell_type": "code",
   "execution_count": 15,
   "id": "be955f41",
   "metadata": {
    "colab": {
     "base_uri": "https://localhost:8080/"
    },
    "executionInfo": {
     "elapsed": 10,
     "status": "ok",
     "timestamp": 1759238537813,
     "user": {
      "displayName": "Md Sharif Uddin Khan",
      "userId": "13262859669309775885"
     },
     "user_tz": -360
    },
    "id": "be955f41",
    "outputId": "52730c95-68f0-42dc-9395-b0523a5f1712"
   },
   "outputs": [
    {
     "name": "stdout",
     "output_type": "stream",
     "text": [
      "Min weight: 10.0\n",
      "Max weight: 200.0\n",
      "Abnormal weights found: 52\n",
      "Remaining rows after weight cleaning: 69926\n"
     ]
    }
   ],
   "source": [
    "\n",
    "print(\"Min weight:\", df_clean['weight'].min())\n",
    "print(\"Max weight:\", df_clean['weight'].max())\n",
    "\n",
    "# Count abnormal weights\n",
    "abnormal_weight = df_clean[(df_clean['weight'] < 40) | (df_clean['weight'] > 200)]\n",
    "print(\"Abnormal weights found:\", abnormal_weight.shape[0])\n",
    "\n",
    "# Drop them\n",
    "df_clean = df_clean[(df_clean['weight'] >= 40) & (df_clean['weight'] <= 200)]\n",
    "print(\"Remaining rows after weight cleaning:\", df_clean.shape[0])\n"
   ]
  },
  {
   "cell_type": "markdown",
   "id": "648e8199",
   "metadata": {
    "id": "648e8199"
   },
   "source": [
    "## Lets look at blood pressure"
   ]
  },
  {
   "cell_type": "markdown",
   "id": "4eac696a",
   "metadata": {
    "id": "4eac696a"
   },
   "source": [
    "Reference: American Heart Association (AHA) – 2017 Guidelines.\n",
    "\n",
    "Physiological bounds: 60–240 systolic (ap_hi), 40–130 diastolic (ap_lo)."
   ]
  },
  {
   "cell_type": "code",
   "execution_count": 16,
   "id": "07f72eee",
   "metadata": {
    "colab": {
     "base_uri": "https://localhost:8080/",
     "height": 306
    },
    "executionInfo": {
     "elapsed": 139,
     "status": "ok",
     "timestamp": 1759238555892,
     "user": {
      "displayName": "Md Sharif Uddin Khan",
      "userId": "13262859669309775885"
     },
     "user_tz": -360
    },
    "id": "07f72eee",
    "outputId": "026f2f1f-0f64-444a-e259-cee08d3cca0d"
   },
   "outputs": [
    {
     "name": "stdout",
     "output_type": "stream",
     "text": [
      "Number of records with ap_hi < 0: 7\n"
     ]
    },
    {
     "data": {
      "text/html": [
       "<div>\n",
       "<style scoped>\n",
       "    .dataframe tbody tr th:only-of-type {\n",
       "        vertical-align: middle;\n",
       "    }\n",
       "\n",
       "    .dataframe tbody tr th {\n",
       "        vertical-align: top;\n",
       "    }\n",
       "\n",
       "    .dataframe thead th {\n",
       "        text-align: right;\n",
       "    }\n",
       "</style>\n",
       "<table border=\"1\" class=\"dataframe\">\n",
       "  <thead>\n",
       "    <tr style=\"text-align: right;\">\n",
       "      <th></th>\n",
       "      <th>id</th>\n",
       "      <th>age</th>\n",
       "      <th>gender</th>\n",
       "      <th>height</th>\n",
       "      <th>weight</th>\n",
       "      <th>ap_hi</th>\n",
       "      <th>ap_lo</th>\n",
       "      <th>cholesterol</th>\n",
       "      <th>gluc</th>\n",
       "      <th>smoke</th>\n",
       "      <th>alco</th>\n",
       "      <th>active</th>\n",
       "      <th>cardio</th>\n",
       "      <th>age_years</th>\n",
       "      <th>BMI</th>\n",
       "      <th>BMI_category_num</th>\n",
       "    </tr>\n",
       "  </thead>\n",
       "  <tbody>\n",
       "    <tr>\n",
       "      <th>4607</th>\n",
       "      <td>6525</td>\n",
       "      <td>15281</td>\n",
       "      <td>1</td>\n",
       "      <td>165</td>\n",
       "      <td>78.0</td>\n",
       "      <td>-100</td>\n",
       "      <td>80</td>\n",
       "      <td>2</td>\n",
       "      <td>1</td>\n",
       "      <td>0</td>\n",
       "      <td>0</td>\n",
       "      <td>1</td>\n",
       "      <td>0</td>\n",
       "      <td>42.0</td>\n",
       "      <td>28.650138</td>\n",
       "      <td>3</td>\n",
       "    </tr>\n",
       "    <tr>\n",
       "      <th>16021</th>\n",
       "      <td>22881</td>\n",
       "      <td>22108</td>\n",
       "      <td>2</td>\n",
       "      <td>161</td>\n",
       "      <td>90.0</td>\n",
       "      <td>-115</td>\n",
       "      <td>70</td>\n",
       "      <td>1</td>\n",
       "      <td>1</td>\n",
       "      <td>0</td>\n",
       "      <td>0</td>\n",
       "      <td>1</td>\n",
       "      <td>0</td>\n",
       "      <td>61.0</td>\n",
       "      <td>34.720883</td>\n",
       "      <td>4</td>\n",
       "    </tr>\n",
       "    <tr>\n",
       "      <th>20536</th>\n",
       "      <td>29313</td>\n",
       "      <td>15581</td>\n",
       "      <td>1</td>\n",
       "      <td>153</td>\n",
       "      <td>54.0</td>\n",
       "      <td>-100</td>\n",
       "      <td>70</td>\n",
       "      <td>1</td>\n",
       "      <td>1</td>\n",
       "      <td>0</td>\n",
       "      <td>0</td>\n",
       "      <td>1</td>\n",
       "      <td>0</td>\n",
       "      <td>43.0</td>\n",
       "      <td>23.068051</td>\n",
       "      <td>2</td>\n",
       "    </tr>\n",
       "    <tr>\n",
       "      <th>23988</th>\n",
       "      <td>34295</td>\n",
       "      <td>18301</td>\n",
       "      <td>1</td>\n",
       "      <td>162</td>\n",
       "      <td>74.0</td>\n",
       "      <td>-140</td>\n",
       "      <td>90</td>\n",
       "      <td>1</td>\n",
       "      <td>1</td>\n",
       "      <td>0</td>\n",
       "      <td>0</td>\n",
       "      <td>1</td>\n",
       "      <td>1</td>\n",
       "      <td>50.0</td>\n",
       "      <td>28.196921</td>\n",
       "      <td>3</td>\n",
       "    </tr>\n",
       "    <tr>\n",
       "      <th>25240</th>\n",
       "      <td>36025</td>\n",
       "      <td>14711</td>\n",
       "      <td>2</td>\n",
       "      <td>168</td>\n",
       "      <td>50.0</td>\n",
       "      <td>-120</td>\n",
       "      <td>80</td>\n",
       "      <td>2</td>\n",
       "      <td>1</td>\n",
       "      <td>0</td>\n",
       "      <td>0</td>\n",
       "      <td>0</td>\n",
       "      <td>1</td>\n",
       "      <td>40.0</td>\n",
       "      <td>17.715420</td>\n",
       "      <td>1</td>\n",
       "    </tr>\n",
       "    <tr>\n",
       "      <th>35040</th>\n",
       "      <td>50055</td>\n",
       "      <td>23325</td>\n",
       "      <td>2</td>\n",
       "      <td>168</td>\n",
       "      <td>59.0</td>\n",
       "      <td>-150</td>\n",
       "      <td>80</td>\n",
       "      <td>1</td>\n",
       "      <td>1</td>\n",
       "      <td>0</td>\n",
       "      <td>0</td>\n",
       "      <td>1</td>\n",
       "      <td>1</td>\n",
       "      <td>64.0</td>\n",
       "      <td>20.904195</td>\n",
       "      <td>2</td>\n",
       "    </tr>\n",
       "    <tr>\n",
       "      <th>46627</th>\n",
       "      <td>66571</td>\n",
       "      <td>23646</td>\n",
       "      <td>2</td>\n",
       "      <td>160</td>\n",
       "      <td>59.0</td>\n",
       "      <td>-120</td>\n",
       "      <td>80</td>\n",
       "      <td>1</td>\n",
       "      <td>1</td>\n",
       "      <td>0</td>\n",
       "      <td>0</td>\n",
       "      <td>0</td>\n",
       "      <td>0</td>\n",
       "      <td>65.0</td>\n",
       "      <td>23.046875</td>\n",
       "      <td>2</td>\n",
       "    </tr>\n",
       "  </tbody>\n",
       "</table>\n",
       "</div>"
      ],
      "text/plain": [
       "          id    age  gender  height  weight  ap_hi  ap_lo  cholesterol  gluc  \\\n",
       "4607    6525  15281       1     165    78.0   -100     80            2     1   \n",
       "16021  22881  22108       2     161    90.0   -115     70            1     1   \n",
       "20536  29313  15581       1     153    54.0   -100     70            1     1   \n",
       "23988  34295  18301       1     162    74.0   -140     90            1     1   \n",
       "25240  36025  14711       2     168    50.0   -120     80            2     1   \n",
       "35040  50055  23325       2     168    59.0   -150     80            1     1   \n",
       "46627  66571  23646       2     160    59.0   -120     80            1     1   \n",
       "\n",
       "       smoke  alco  active  cardio  age_years        BMI  BMI_category_num  \n",
       "4607       0     0       1       0       42.0  28.650138                 3  \n",
       "16021      0     0       1       0       61.0  34.720883                 4  \n",
       "20536      0     0       1       0       43.0  23.068051                 2  \n",
       "23988      0     0       1       1       50.0  28.196921                 3  \n",
       "25240      0     0       0       1       40.0  17.715420                 1  \n",
       "35040      0     0       1       1       64.0  20.904195                 2  \n",
       "46627      0     0       0       0       65.0  23.046875                 2  "
      ]
     },
     "metadata": {},
     "output_type": "display_data"
    },
    {
     "name": "stdout",
     "output_type": "stream",
     "text": [
      "Number of records with ap_lo < 0: 1\n"
     ]
    },
    {
     "data": {
      "text/html": [
       "<div>\n",
       "<style scoped>\n",
       "    .dataframe tbody tr th:only-of-type {\n",
       "        vertical-align: middle;\n",
       "    }\n",
       "\n",
       "    .dataframe tbody tr th {\n",
       "        vertical-align: top;\n",
       "    }\n",
       "\n",
       "    .dataframe thead th {\n",
       "        text-align: right;\n",
       "    }\n",
       "</style>\n",
       "<table border=\"1\" class=\"dataframe\">\n",
       "  <thead>\n",
       "    <tr style=\"text-align: right;\">\n",
       "      <th></th>\n",
       "      <th>id</th>\n",
       "      <th>age</th>\n",
       "      <th>gender</th>\n",
       "      <th>height</th>\n",
       "      <th>weight</th>\n",
       "      <th>ap_hi</th>\n",
       "      <th>ap_lo</th>\n",
       "      <th>cholesterol</th>\n",
       "      <th>gluc</th>\n",
       "      <th>smoke</th>\n",
       "      <th>alco</th>\n",
       "      <th>active</th>\n",
       "      <th>cardio</th>\n",
       "      <th>age_years</th>\n",
       "      <th>BMI</th>\n",
       "      <th>BMI_category_num</th>\n",
       "    </tr>\n",
       "  </thead>\n",
       "  <tbody>\n",
       "    <tr>\n",
       "      <th>60106</th>\n",
       "      <td>85816</td>\n",
       "      <td>22571</td>\n",
       "      <td>1</td>\n",
       "      <td>167</td>\n",
       "      <td>74.0</td>\n",
       "      <td>15</td>\n",
       "      <td>-70</td>\n",
       "      <td>1</td>\n",
       "      <td>1</td>\n",
       "      <td>0</td>\n",
       "      <td>0</td>\n",
       "      <td>1</td>\n",
       "      <td>1</td>\n",
       "      <td>62.0</td>\n",
       "      <td>26.533759</td>\n",
       "      <td>3</td>\n",
       "    </tr>\n",
       "  </tbody>\n",
       "</table>\n",
       "</div>"
      ],
      "text/plain": [
       "          id    age  gender  height  weight  ap_hi  ap_lo  cholesterol  gluc  \\\n",
       "60106  85816  22571       1     167    74.0     15    -70            1     1   \n",
       "\n",
       "       smoke  alco  active  cardio  age_years        BMI  BMI_category_num  \n",
       "60106      0     0       1       1       62.0  26.533759                 3  "
      ]
     },
     "metadata": {},
     "output_type": "display_data"
    }
   ],
   "source": [
    "# Show rows where systolic blood pressure (ap_hi) is less than 0\n",
    "low_ap_hi = df_clean[df_clean['ap_hi'] < 0]\n",
    "low_ap_lo = df_clean[df_clean['ap_lo'] < 0]\n",
    "print(f\"Number of records with ap_hi < 0: {len(low_ap_hi) }\")\n",
    "display(low_ap_hi)\n",
    "print(f\"Number of records with ap_lo < 0: {len(low_ap_lo) }\")\n",
    "display(low_ap_lo)\n"
   ]
  },
  {
   "cell_type": "code",
   "execution_count": 17,
   "id": "5cd4d5da",
   "metadata": {},
   "outputs": [],
   "source": [
    "df_clean['ap_hi'] = df_clean['ap_hi'].abs()\n",
    "df_clean['ap_lo'] = df_clean['ap_lo'].abs()"
   ]
  },
  {
   "cell_type": "code",
   "execution_count": 18,
   "id": "0f46a32b",
   "metadata": {
    "colab": {
     "base_uri": "https://localhost:8080/",
     "height": 461
    },
    "executionInfo": {
     "elapsed": 46,
     "status": "ok",
     "timestamp": 1759238567363,
     "user": {
      "displayName": "Md Sharif Uddin Khan",
      "userId": "13262859669309775885"
     },
     "user_tz": -360
    },
    "id": "0f46a32b",
    "outputId": "149d2a4a-6d8e-4e06-cec2-a2202f26e7ad"
   },
   "outputs": [
    {
     "name": "stdout",
     "output_type": "stream",
     "text": [
      "Number of records with ap_lo > 200: 950\n"
     ]
    },
    {
     "data": {
      "text/html": [
       "<div>\n",
       "<style scoped>\n",
       "    .dataframe tbody tr th:only-of-type {\n",
       "        vertical-align: middle;\n",
       "    }\n",
       "\n",
       "    .dataframe tbody tr th {\n",
       "        vertical-align: top;\n",
       "    }\n",
       "\n",
       "    .dataframe thead th {\n",
       "        text-align: right;\n",
       "    }\n",
       "</style>\n",
       "<table border=\"1\" class=\"dataframe\">\n",
       "  <thead>\n",
       "    <tr style=\"text-align: right;\">\n",
       "      <th></th>\n",
       "      <th>id</th>\n",
       "      <th>age</th>\n",
       "      <th>gender</th>\n",
       "      <th>height</th>\n",
       "      <th>weight</th>\n",
       "      <th>ap_hi</th>\n",
       "      <th>ap_lo</th>\n",
       "      <th>cholesterol</th>\n",
       "      <th>gluc</th>\n",
       "      <th>smoke</th>\n",
       "      <th>alco</th>\n",
       "      <th>active</th>\n",
       "      <th>cardio</th>\n",
       "      <th>age_years</th>\n",
       "      <th>BMI</th>\n",
       "      <th>BMI_category_num</th>\n",
       "    </tr>\n",
       "  </thead>\n",
       "  <tbody>\n",
       "    <tr>\n",
       "      <th>228</th>\n",
       "      <td>314</td>\n",
       "      <td>17489</td>\n",
       "      <td>2</td>\n",
       "      <td>183</td>\n",
       "      <td>98.0</td>\n",
       "      <td>160</td>\n",
       "      <td>1100</td>\n",
       "      <td>1</td>\n",
       "      <td>2</td>\n",
       "      <td>1</td>\n",
       "      <td>0</td>\n",
       "      <td>1</td>\n",
       "      <td>1</td>\n",
       "      <td>48.0</td>\n",
       "      <td>29.263340</td>\n",
       "      <td>3</td>\n",
       "    </tr>\n",
       "    <tr>\n",
       "      <th>241</th>\n",
       "      <td>334</td>\n",
       "      <td>21932</td>\n",
       "      <td>2</td>\n",
       "      <td>157</td>\n",
       "      <td>60.0</td>\n",
       "      <td>160</td>\n",
       "      <td>1000</td>\n",
       "      <td>2</td>\n",
       "      <td>1</td>\n",
       "      <td>0</td>\n",
       "      <td>0</td>\n",
       "      <td>0</td>\n",
       "      <td>1</td>\n",
       "      <td>60.0</td>\n",
       "      <td>24.341758</td>\n",
       "      <td>2</td>\n",
       "    </tr>\n",
       "    <tr>\n",
       "      <th>260</th>\n",
       "      <td>357</td>\n",
       "      <td>18217</td>\n",
       "      <td>1</td>\n",
       "      <td>150</td>\n",
       "      <td>83.0</td>\n",
       "      <td>140</td>\n",
       "      <td>800</td>\n",
       "      <td>1</td>\n",
       "      <td>1</td>\n",
       "      <td>0</td>\n",
       "      <td>0</td>\n",
       "      <td>1</td>\n",
       "      <td>1</td>\n",
       "      <td>50.0</td>\n",
       "      <td>36.888889</td>\n",
       "      <td>4</td>\n",
       "    </tr>\n",
       "    <tr>\n",
       "      <th>329</th>\n",
       "      <td>458</td>\n",
       "      <td>23407</td>\n",
       "      <td>1</td>\n",
       "      <td>176</td>\n",
       "      <td>63.0</td>\n",
       "      <td>160</td>\n",
       "      <td>1000</td>\n",
       "      <td>2</td>\n",
       "      <td>2</td>\n",
       "      <td>0</td>\n",
       "      <td>0</td>\n",
       "      <td>0</td>\n",
       "      <td>1</td>\n",
       "      <td>64.0</td>\n",
       "      <td>20.338326</td>\n",
       "      <td>2</td>\n",
       "    </tr>\n",
       "    <tr>\n",
       "      <th>345</th>\n",
       "      <td>482</td>\n",
       "      <td>18704</td>\n",
       "      <td>1</td>\n",
       "      <td>154</td>\n",
       "      <td>81.0</td>\n",
       "      <td>140</td>\n",
       "      <td>1000</td>\n",
       "      <td>2</td>\n",
       "      <td>1</td>\n",
       "      <td>0</td>\n",
       "      <td>0</td>\n",
       "      <td>1</td>\n",
       "      <td>1</td>\n",
       "      <td>51.0</td>\n",
       "      <td>34.154158</td>\n",
       "      <td>4</td>\n",
       "    </tr>\n",
       "    <tr>\n",
       "      <th>...</th>\n",
       "      <td>...</td>\n",
       "      <td>...</td>\n",
       "      <td>...</td>\n",
       "      <td>...</td>\n",
       "      <td>...</td>\n",
       "      <td>...</td>\n",
       "      <td>...</td>\n",
       "      <td>...</td>\n",
       "      <td>...</td>\n",
       "      <td>...</td>\n",
       "      <td>...</td>\n",
       "      <td>...</td>\n",
       "      <td>...</td>\n",
       "      <td>...</td>\n",
       "      <td>...</td>\n",
       "      <td>...</td>\n",
       "    </tr>\n",
       "    <tr>\n",
       "      <th>69771</th>\n",
       "      <td>99659</td>\n",
       "      <td>23330</td>\n",
       "      <td>1</td>\n",
       "      <td>167</td>\n",
       "      <td>81.0</td>\n",
       "      <td>160</td>\n",
       "      <td>1000</td>\n",
       "      <td>1</td>\n",
       "      <td>1</td>\n",
       "      <td>0</td>\n",
       "      <td>0</td>\n",
       "      <td>1</td>\n",
       "      <td>1</td>\n",
       "      <td>64.0</td>\n",
       "      <td>29.043709</td>\n",
       "      <td>3</td>\n",
       "    </tr>\n",
       "    <tr>\n",
       "      <th>69872</th>\n",
       "      <td>99798</td>\n",
       "      <td>21808</td>\n",
       "      <td>1</td>\n",
       "      <td>152</td>\n",
       "      <td>56.0</td>\n",
       "      <td>160</td>\n",
       "      <td>1000</td>\n",
       "      <td>1</td>\n",
       "      <td>1</td>\n",
       "      <td>0</td>\n",
       "      <td>0</td>\n",
       "      <td>1</td>\n",
       "      <td>1</td>\n",
       "      <td>60.0</td>\n",
       "      <td>24.238227</td>\n",
       "      <td>2</td>\n",
       "    </tr>\n",
       "    <tr>\n",
       "      <th>69878</th>\n",
       "      <td>99807</td>\n",
       "      <td>21239</td>\n",
       "      <td>2</td>\n",
       "      <td>168</td>\n",
       "      <td>95.0</td>\n",
       "      <td>160</td>\n",
       "      <td>1000</td>\n",
       "      <td>1</td>\n",
       "      <td>1</td>\n",
       "      <td>0</td>\n",
       "      <td>0</td>\n",
       "      <td>1</td>\n",
       "      <td>1</td>\n",
       "      <td>58.0</td>\n",
       "      <td>33.659297</td>\n",
       "      <td>4</td>\n",
       "    </tr>\n",
       "    <tr>\n",
       "      <th>69885</th>\n",
       "      <td>99816</td>\n",
       "      <td>22417</td>\n",
       "      <td>2</td>\n",
       "      <td>166</td>\n",
       "      <td>78.0</td>\n",
       "      <td>170</td>\n",
       "      <td>1000</td>\n",
       "      <td>1</td>\n",
       "      <td>1</td>\n",
       "      <td>0</td>\n",
       "      <td>0</td>\n",
       "      <td>0</td>\n",
       "      <td>0</td>\n",
       "      <td>61.0</td>\n",
       "      <td>28.305995</td>\n",
       "      <td>3</td>\n",
       "    </tr>\n",
       "    <tr>\n",
       "      <th>69967</th>\n",
       "      <td>99955</td>\n",
       "      <td>21416</td>\n",
       "      <td>2</td>\n",
       "      <td>168</td>\n",
       "      <td>63.0</td>\n",
       "      <td>140</td>\n",
       "      <td>1000</td>\n",
       "      <td>1</td>\n",
       "      <td>1</td>\n",
       "      <td>0</td>\n",
       "      <td>0</td>\n",
       "      <td>1</td>\n",
       "      <td>1</td>\n",
       "      <td>59.0</td>\n",
       "      <td>22.321429</td>\n",
       "      <td>2</td>\n",
       "    </tr>\n",
       "  </tbody>\n",
       "</table>\n",
       "<p>950 rows × 16 columns</p>\n",
       "</div>"
      ],
      "text/plain": [
       "          id    age  gender  height  weight  ap_hi  ap_lo  cholesterol  gluc  \\\n",
       "228      314  17489       2     183    98.0    160   1100            1     2   \n",
       "241      334  21932       2     157    60.0    160   1000            2     1   \n",
       "260      357  18217       1     150    83.0    140    800            1     1   \n",
       "329      458  23407       1     176    63.0    160   1000            2     2   \n",
       "345      482  18704       1     154    81.0    140   1000            2     1   \n",
       "...      ...    ...     ...     ...     ...    ...    ...          ...   ...   \n",
       "69771  99659  23330       1     167    81.0    160   1000            1     1   \n",
       "69872  99798  21808       1     152    56.0    160   1000            1     1   \n",
       "69878  99807  21239       2     168    95.0    160   1000            1     1   \n",
       "69885  99816  22417       2     166    78.0    170   1000            1     1   \n",
       "69967  99955  21416       2     168    63.0    140   1000            1     1   \n",
       "\n",
       "       smoke  alco  active  cardio  age_years        BMI  BMI_category_num  \n",
       "228        1     0       1       1       48.0  29.263340                 3  \n",
       "241        0     0       0       1       60.0  24.341758                 2  \n",
       "260        0     0       1       1       50.0  36.888889                 4  \n",
       "329        0     0       0       1       64.0  20.338326                 2  \n",
       "345        0     0       1       1       51.0  34.154158                 4  \n",
       "...      ...   ...     ...     ...        ...        ...               ...  \n",
       "69771      0     0       1       1       64.0  29.043709                 3  \n",
       "69872      0     0       1       1       60.0  24.238227                 2  \n",
       "69878      0     0       1       1       58.0  33.659297                 4  \n",
       "69885      0     0       0       0       61.0  28.305995                 3  \n",
       "69967      0     0       1       1       59.0  22.321429                 2  \n",
       "\n",
       "[950 rows x 16 columns]"
      ]
     },
     "metadata": {},
     "output_type": "display_data"
    }
   ],
   "source": [
    "# Show rows where diastolic blood pressure (ap_lo) is greater than 200\n",
    "high_ap_lo = df_clean[df_clean['ap_lo'] > 200]\n",
    "print(f\"Number of records with ap_lo > 200: {len(high_ap_lo)}\")\n",
    "display(high_ap_lo)"
   ]
  },
  {
   "cell_type": "code",
   "execution_count": 19,
   "id": "b2f0fb0e",
   "metadata": {
    "executionInfo": {
     "elapsed": 22,
     "status": "ok",
     "timestamp": 1759238572926,
     "user": {
      "displayName": "Md Sharif Uddin Khan",
      "userId": "13262859669309775885"
     },
     "user_tz": -360
    },
    "id": "b2f0fb0e"
   },
   "outputs": [],
   "source": [
    "# (SBP: 60-240, DBP: 40-130)\n",
    "# Defining plausible limits\n",
    "MIN_SYSTOLIC  = 60\n",
    "MAX_SYSTOLIC  = 240\n",
    "MIN_DIASTOLIC = 40\n",
    "MAX_DIASTOLIC = 130\n"
   ]
  },
  {
   "cell_type": "code",
   "execution_count": null,
   "id": "94da0049",
   "metadata": {},
   "outputs": [],
   "source": []
  },
  {
   "cell_type": "code",
   "execution_count": 20,
   "id": "b048d2e5",
   "metadata": {
    "colab": {
     "base_uri": "https://localhost:8080/"
    },
    "executionInfo": {
     "elapsed": 25,
     "status": "ok",
     "timestamp": 1759238575399,
     "user": {
      "displayName": "Md Sharif Uddin Khan",
      "userId": "13262859669309775885"
     },
     "user_tz": -360
    },
    "id": "b048d2e5",
    "outputId": "8ae7c8fe-5fb3-4c9c-c82d-0503ffc70bb8"
   },
   "outputs": [
    {
     "name": "stdout",
     "output_type": "stream",
     "text": [
      "Corrected 848 diastolic values by dividing by 10.\n"
     ]
    }
   ],
   "source": [
    "# CORRECT THE COMMON DATA ENTRY ERROR: Missing decimal in Diastolic\n",
    "# We assume any diastolic value between 400 and 1300 with trailing '00' is meant to be divided by 10.\n",
    "suspicious_dia_range_lower = (400, 1300)\n",
    "\n",
    "\n",
    "dia_error_mask = (\n",
    "    (df_clean['ap_lo'] >= suspicious_dia_range_lower[0]) &\n",
    "    (df_clean['ap_lo'] <= suspicious_dia_range_lower[1]) &\n",
    "    (df_clean['ap_lo'] % 100 == 0)\n",
    ")\n",
    "\n",
    "before_corr = df_clean['ap_lo'].copy()\n",
    "df_clean.loc[dia_error_mask, 'ap_lo'] = df_clean.loc[dia_error_mask, 'ap_lo'] / 10\n",
    "print(f\"Corrected {dia_error_mask.sum()} diastolic values by dividing by 10.\")\n"
   ]
  },
  {
   "cell_type": "code",
   "execution_count": 21,
   "id": "80cd9ec0",
   "metadata": {},
   "outputs": [
    {
     "name": "stdout",
     "output_type": "stream",
     "text": [
      "Corrected 7 diastolic values by dividing by 10.\n"
     ]
    }
   ],
   "source": [
    "# CORRECT THE COMMON DATA ENTRY ERROR: Missing decimal in Systolic\n",
    "# We assume any systolic value between 600 and 2400 with trailing '00' is meant to be divided by 10.\n",
    "suspicious_dia_range_higher = (600, 2400)\n",
    "\n",
    "dia_error_mask = (\n",
    "    (df_clean['ap_hi'] >= suspicious_dia_range_higher[0]) &\n",
    "    (df_clean['ap_hi'] <= suspicious_dia_range_higher[1]) &\n",
    "    (df_clean['ap_hi'] % 100 == 0)\n",
    ")\n",
    "\n",
    "before_corr = df_clean['ap_hi'].copy()\n",
    "df_clean.loc[dia_error_mask, 'ap_hi'] = df_clean.loc[dia_error_mask, 'ap_hi'] / 10\n",
    "print(f\"Corrected {dia_error_mask.sum()} diastolic values by dividing by 10.\")"
   ]
  },
  {
   "cell_type": "code",
   "execution_count": 22,
   "id": "e0bcd186",
   "metadata": {
    "executionInfo": {
     "elapsed": 4,
     "status": "ok",
     "timestamp": 1759238580952,
     "user": {
      "displayName": "Md Sharif Uddin Khan",
      "userId": "13262859669309775885"
     },
     "user_tz": -360
    },
    "id": "e0bcd186"
   },
   "outputs": [],
   "source": [
    "# Create a boolean mask for rows that are within limits\n",
    "valid_data_mask = (\n",
    "    (df_clean['ap_hi'] >= MIN_SYSTOLIC)  &\n",
    "    (df_clean['ap_hi'] <= MAX_SYSTOLIC)  &\n",
    "    (df_clean['ap_lo'] >= MIN_DIASTOLIC) &\n",
    "    (df_clean['ap_lo'] <= MAX_DIASTOLIC)\n",
    ")\n"
   ]
  },
  {
   "cell_type": "code",
   "execution_count": 23,
   "id": "17003c30",
   "metadata": {
    "colab": {
     "base_uri": "https://localhost:8080/",
     "height": 337
    },
    "executionInfo": {
     "elapsed": 89,
     "status": "ok",
     "timestamp": 1759238586252,
     "user": {
      "displayName": "Md Sharif Uddin Khan",
      "userId": "13262859669309775885"
     },
     "user_tz": -360
    },
    "id": "17003c30",
    "outputId": "a97abdcc-f389-4786-c1bd-401ac97aec10"
   },
   "outputs": [
    {
     "name": "stdout",
     "output_type": "stream",
     "text": [
      "Rows kept after BP bounds: 69509 (dropped 417)\n"
     ]
    },
    {
     "data": {
      "text/html": [
       "<div>\n",
       "<style scoped>\n",
       "    .dataframe tbody tr th:only-of-type {\n",
       "        vertical-align: middle;\n",
       "    }\n",
       "\n",
       "    .dataframe tbody tr th {\n",
       "        vertical-align: top;\n",
       "    }\n",
       "\n",
       "    .dataframe thead th {\n",
       "        text-align: right;\n",
       "    }\n",
       "</style>\n",
       "<table border=\"1\" class=\"dataframe\">\n",
       "  <thead>\n",
       "    <tr style=\"text-align: right;\">\n",
       "      <th></th>\n",
       "      <th>id</th>\n",
       "      <th>age</th>\n",
       "      <th>gender</th>\n",
       "      <th>height</th>\n",
       "      <th>weight</th>\n",
       "      <th>ap_hi</th>\n",
       "      <th>ap_lo</th>\n",
       "      <th>cholesterol</th>\n",
       "      <th>gluc</th>\n",
       "      <th>smoke</th>\n",
       "      <th>alco</th>\n",
       "      <th>active</th>\n",
       "      <th>cardio</th>\n",
       "      <th>age_years</th>\n",
       "      <th>BMI</th>\n",
       "      <th>BMI_category_num</th>\n",
       "    </tr>\n",
       "  </thead>\n",
       "  <tbody>\n",
       "    <tr>\n",
       "      <th>count</th>\n",
       "      <td>69509.000000</td>\n",
       "      <td>69509.000000</td>\n",
       "      <td>69509.000000</td>\n",
       "      <td>69509.000000</td>\n",
       "      <td>69509.000000</td>\n",
       "      <td>69509.000000</td>\n",
       "      <td>69509.000000</td>\n",
       "      <td>69509.000000</td>\n",
       "      <td>69509.000000</td>\n",
       "      <td>69509.000000</td>\n",
       "      <td>69509.000000</td>\n",
       "      <td>69509.000000</td>\n",
       "      <td>69509.000000</td>\n",
       "      <td>69509.000000</td>\n",
       "      <td>69509.000000</td>\n",
       "      <td>69509.000000</td>\n",
       "    </tr>\n",
       "    <tr>\n",
       "      <th>mean</th>\n",
       "      <td>49976.992217</td>\n",
       "      <td>19468.831043</td>\n",
       "      <td>1.349595</td>\n",
       "      <td>164.396021</td>\n",
       "      <td>74.229096</td>\n",
       "      <td>126.974795</td>\n",
       "      <td>81.581594</td>\n",
       "      <td>1.367017</td>\n",
       "      <td>1.226187</td>\n",
       "      <td>0.088276</td>\n",
       "      <td>0.053619</td>\n",
       "      <td>0.803608</td>\n",
       "      <td>0.499202</td>\n",
       "      <td>53.338632</td>\n",
       "      <td>27.521972</td>\n",
       "      <td>2.877498</td>\n",
       "    </tr>\n",
       "    <tr>\n",
       "      <th>std</th>\n",
       "      <td>28855.782856</td>\n",
       "      <td>2467.390960</td>\n",
       "      <td>0.476845</td>\n",
       "      <td>8.013569</td>\n",
       "      <td>14.352133</td>\n",
       "      <td>16.991972</td>\n",
       "      <td>9.680232</td>\n",
       "      <td>0.680481</td>\n",
       "      <td>0.572075</td>\n",
       "      <td>0.283698</td>\n",
       "      <td>0.225266</td>\n",
       "      <td>0.397271</td>\n",
       "      <td>0.500003</td>\n",
       "      <td>6.765634</td>\n",
       "      <td>5.543647</td>\n",
       "      <td>0.807632</td>\n",
       "    </tr>\n",
       "    <tr>\n",
       "      <th>min</th>\n",
       "      <td>0.000000</td>\n",
       "      <td>10798.000000</td>\n",
       "      <td>1.000000</td>\n",
       "      <td>80.000000</td>\n",
       "      <td>40.000000</td>\n",
       "      <td>60.000000</td>\n",
       "      <td>40.000000</td>\n",
       "      <td>1.000000</td>\n",
       "      <td>1.000000</td>\n",
       "      <td>0.000000</td>\n",
       "      <td>0.000000</td>\n",
       "      <td>0.000000</td>\n",
       "      <td>0.000000</td>\n",
       "      <td>30.000000</td>\n",
       "      <td>13.520822</td>\n",
       "      <td>1.000000</td>\n",
       "    </tr>\n",
       "    <tr>\n",
       "      <th>25%</th>\n",
       "      <td>25000.000000</td>\n",
       "      <td>17663.000000</td>\n",
       "      <td>1.000000</td>\n",
       "      <td>159.000000</td>\n",
       "      <td>65.000000</td>\n",
       "      <td>120.000000</td>\n",
       "      <td>80.000000</td>\n",
       "      <td>1.000000</td>\n",
       "      <td>1.000000</td>\n",
       "      <td>0.000000</td>\n",
       "      <td>0.000000</td>\n",
       "      <td>1.000000</td>\n",
       "      <td>0.000000</td>\n",
       "      <td>48.000000</td>\n",
       "      <td>23.875115</td>\n",
       "      <td>2.000000</td>\n",
       "    </tr>\n",
       "    <tr>\n",
       "      <th>50%</th>\n",
       "      <td>50005.000000</td>\n",
       "      <td>19703.000000</td>\n",
       "      <td>1.000000</td>\n",
       "      <td>165.000000</td>\n",
       "      <td>72.000000</td>\n",
       "      <td>120.000000</td>\n",
       "      <td>80.000000</td>\n",
       "      <td>1.000000</td>\n",
       "      <td>1.000000</td>\n",
       "      <td>0.000000</td>\n",
       "      <td>0.000000</td>\n",
       "      <td>1.000000</td>\n",
       "      <td>0.000000</td>\n",
       "      <td>54.000000</td>\n",
       "      <td>26.395803</td>\n",
       "      <td>3.000000</td>\n",
       "    </tr>\n",
       "    <tr>\n",
       "      <th>75%</th>\n",
       "      <td>74899.000000</td>\n",
       "      <td>21327.000000</td>\n",
       "      <td>2.000000</td>\n",
       "      <td>170.000000</td>\n",
       "      <td>82.000000</td>\n",
       "      <td>140.000000</td>\n",
       "      <td>90.000000</td>\n",
       "      <td>2.000000</td>\n",
       "      <td>1.000000</td>\n",
       "      <td>0.000000</td>\n",
       "      <td>0.000000</td>\n",
       "      <td>1.000000</td>\n",
       "      <td>1.000000</td>\n",
       "      <td>58.000000</td>\n",
       "      <td>30.189591</td>\n",
       "      <td>4.000000</td>\n",
       "    </tr>\n",
       "    <tr>\n",
       "      <th>max</th>\n",
       "      <td>99999.000000</td>\n",
       "      <td>23713.000000</td>\n",
       "      <td>2.000000</td>\n",
       "      <td>250.000000</td>\n",
       "      <td>200.000000</td>\n",
       "      <td>240.000000</td>\n",
       "      <td>130.000000</td>\n",
       "      <td>3.000000</td>\n",
       "      <td>3.000000</td>\n",
       "      <td>1.000000</td>\n",
       "      <td>1.000000</td>\n",
       "      <td>1.000000</td>\n",
       "      <td>1.000000</td>\n",
       "      <td>65.000000</td>\n",
       "      <td>278.125000</td>\n",
       "      <td>4.000000</td>\n",
       "    </tr>\n",
       "  </tbody>\n",
       "</table>\n",
       "</div>"
      ],
      "text/plain": [
       "                 id           age        gender        height        weight  \\\n",
       "count  69509.000000  69509.000000  69509.000000  69509.000000  69509.000000   \n",
       "mean   49976.992217  19468.831043      1.349595    164.396021     74.229096   \n",
       "std    28855.782856   2467.390960      0.476845      8.013569     14.352133   \n",
       "min        0.000000  10798.000000      1.000000     80.000000     40.000000   \n",
       "25%    25000.000000  17663.000000      1.000000    159.000000     65.000000   \n",
       "50%    50005.000000  19703.000000      1.000000    165.000000     72.000000   \n",
       "75%    74899.000000  21327.000000      2.000000    170.000000     82.000000   \n",
       "max    99999.000000  23713.000000      2.000000    250.000000    200.000000   \n",
       "\n",
       "              ap_hi         ap_lo   cholesterol          gluc         smoke  \\\n",
       "count  69509.000000  69509.000000  69509.000000  69509.000000  69509.000000   \n",
       "mean     126.974795     81.581594      1.367017      1.226187      0.088276   \n",
       "std       16.991972      9.680232      0.680481      0.572075      0.283698   \n",
       "min       60.000000     40.000000      1.000000      1.000000      0.000000   \n",
       "25%      120.000000     80.000000      1.000000      1.000000      0.000000   \n",
       "50%      120.000000     80.000000      1.000000      1.000000      0.000000   \n",
       "75%      140.000000     90.000000      2.000000      1.000000      0.000000   \n",
       "max      240.000000    130.000000      3.000000      3.000000      1.000000   \n",
       "\n",
       "               alco        active        cardio     age_years           BMI  \\\n",
       "count  69509.000000  69509.000000  69509.000000  69509.000000  69509.000000   \n",
       "mean       0.053619      0.803608      0.499202     53.338632     27.521972   \n",
       "std        0.225266      0.397271      0.500003      6.765634      5.543647   \n",
       "min        0.000000      0.000000      0.000000     30.000000     13.520822   \n",
       "25%        0.000000      1.000000      0.000000     48.000000     23.875115   \n",
       "50%        0.000000      1.000000      0.000000     54.000000     26.395803   \n",
       "75%        0.000000      1.000000      1.000000     58.000000     30.189591   \n",
       "max        1.000000      1.000000      1.000000     65.000000    278.125000   \n",
       "\n",
       "       BMI_category_num  \n",
       "count      69509.000000  \n",
       "mean           2.877498  \n",
       "std            0.807632  \n",
       "min            1.000000  \n",
       "25%            2.000000  \n",
       "50%            3.000000  \n",
       "75%            4.000000  \n",
       "max            4.000000  "
      ]
     },
     "metadata": {},
     "output_type": "display_data"
    }
   ],
   "source": [
    "# Apply the mask to get your cleaned dataset (overwrite df_clean as requested)\n",
    "before_rows = df_clean.shape[0]\n",
    "df_clean = df_clean[valid_data_mask].copy()\n",
    "after_rows = df_clean.shape[0]\n",
    "\n",
    "print(f\"Rows kept after BP bounds: {after_rows} (dropped {before_rows - after_rows})\")\n",
    "display(df_clean.describe())\n"
   ]
  },
  {
   "cell_type": "markdown",
   "id": "895bc0fd",
   "metadata": {
    "id": "895bc0fd"
   },
   "source": [
    "## Lets look at BMI"
   ]
  },
  {
   "cell_type": "markdown",
   "id": "8325d535",
   "metadata": {
    "id": "8325d535"
   },
   "source": [
    "Reference: World Health Organization (WHO) BMI classification.\n",
    "\n",
    "Rationale: Plausible BMI for adults is generally 10–60. Values outside are considered unrealistic or erroneous."
   ]
  },
  {
   "cell_type": "code",
   "execution_count": 24,
   "id": "e2726714",
   "metadata": {
    "colab": {
     "base_uri": "https://localhost:8080/"
    },
    "executionInfo": {
     "elapsed": 70,
     "status": "ok",
     "timestamp": 1759238596619,
     "user": {
      "displayName": "Md Sharif Uddin Khan",
      "userId": "13262859669309775885"
     },
     "user_tz": -360
    },
    "id": "e2726714",
    "outputId": "d396b926-5b42-4cb2-e8dd-a75f32ca02ed"
   },
   "outputs": [
    {
     "name": "stdout",
     "output_type": "stream",
     "text": [
      "Min BMI: 13.520822065981614\n",
      "Max BMI: 278.12499999999994\n",
      "Abnormal BMI values found: 44\n"
     ]
    }
   ],
   "source": [
    "print(\"Min BMI:\", df_clean['BMI'].min())\n",
    "print(\"Max BMI:\", df_clean['BMI'].max())\n",
    "\n",
    "# Count abnormal BMI\n",
    "abnormal_bmi = df_clean[(df_clean['BMI'] < 10) | (df_clean['BMI'] > 60)]\n",
    "print(\"Abnormal BMI values found:\", abnormal_bmi.shape[0])\n"
   ]
  },
  {
   "cell_type": "code",
   "execution_count": 25,
   "id": "378d39ba",
   "metadata": {
    "colab": {
     "base_uri": "https://localhost:8080/"
    },
    "executionInfo": {
     "elapsed": 28,
     "status": "ok",
     "timestamp": 1759238598437,
     "user": {
      "displayName": "Md Sharif Uddin Khan",
      "userId": "13262859669309775885"
     },
     "user_tz": -360
    },
    "id": "378d39ba",
    "outputId": "1cd968e5-9285-4f17-fe3b-749a314acf6b"
   },
   "outputs": [
    {
     "name": "stdout",
     "output_type": "stream",
     "text": [
      "Rows kept after BMI cleaning: 69465 (dropped 44)\n"
     ]
    }
   ],
   "source": [
    "# Count rows before cleaning\n",
    "before_rows = df_clean.shape[0]\n",
    "\n",
    "# Drop abnormal BMI rows (<10 or >60)\n",
    "df_clean = df_clean[(df_clean['BMI'] >= 10) & (df_clean['BMI'] <= 60)].copy()\n",
    "\n",
    "# Count rows after cleaning\n",
    "after_rows = df_clean.shape[0]\n",
    "\n",
    "print(f\"Rows kept after BMI cleaning: {after_rows} (dropped {before_rows - after_rows})\")\n"
   ]
  },
  {
   "cell_type": "markdown",
   "id": "0fd8f6a4",
   "metadata": {
    "id": "0fd8f6a4"
   },
   "source": [
    "## we have done the most part of the cleaning, we just need to see if there's any duplicate values or not."
   ]
  },
  {
   "cell_type": "code",
   "execution_count": 26,
   "id": "8a8089be",
   "metadata": {
    "colab": {
     "base_uri": "https://localhost:8080/"
    },
    "executionInfo": {
     "elapsed": 24,
     "status": "ok",
     "timestamp": 1759238604843,
     "user": {
      "displayName": "Md Sharif Uddin Khan",
      "userId": "13262859669309775885"
     },
     "user_tz": -360
    },
    "id": "8a8089be",
    "outputId": "634d3691-6f2a-4acb-ebab-0eb2df69945f"
   },
   "outputs": [
    {
     "name": "stdout",
     "output_type": "stream",
     "text": [
      "Duplicate rows found: 0\n"
     ]
    }
   ],
   "source": [
    "# Count duplicate rows in the cleaned dataframe\n",
    "duplicate_rows = df_clean.duplicated().sum()\n",
    "print(\"Duplicate rows found:\", duplicate_rows)\n"
   ]
  },
  {
   "cell_type": "code",
   "execution_count": 27,
   "id": "d6f28a04",
   "metadata": {
    "colab": {
     "base_uri": "https://localhost:8080/",
     "height": 226
    },
    "executionInfo": {
     "elapsed": 56,
     "status": "ok",
     "timestamp": 1759238606914,
     "user": {
      "displayName": "Md Sharif Uddin Khan",
      "userId": "13262859669309775885"
     },
     "user_tz": -360
    },
    "id": "d6f28a04",
    "outputId": "3ab146d3-86af-4073-c54f-8a7b6fdfabeb"
   },
   "outputs": [
    {
     "name": "stdout",
     "output_type": "stream",
     "text": [
      "<class 'pandas.core.frame.DataFrame'>\n",
      "Index: 69465 entries, 0 to 69999\n",
      "Data columns (total 16 columns):\n",
      " #   Column            Non-Null Count  Dtype  \n",
      "---  ------            --------------  -----  \n",
      " 0   id                69465 non-null  int64  \n",
      " 1   age               69465 non-null  int64  \n",
      " 2   gender            69465 non-null  int64  \n",
      " 3   height            69465 non-null  int64  \n",
      " 4   weight            69465 non-null  float64\n",
      " 5   ap_hi             69465 non-null  int64  \n",
      " 6   ap_lo             69465 non-null  int64  \n",
      " 7   cholesterol       69465 non-null  int64  \n",
      " 8   gluc              69465 non-null  int64  \n",
      " 9   smoke             69465 non-null  int64  \n",
      " 10  alco              69465 non-null  int64  \n",
      " 11  active            69465 non-null  int64  \n",
      " 12  cardio            69465 non-null  int64  \n",
      " 13  age_years         69465 non-null  float64\n",
      " 14  BMI               69465 non-null  float64\n",
      " 15  BMI_category_num  69465 non-null  int64  \n",
      "dtypes: float64(3), int64(13)\n",
      "memory usage: 9.0 MB\n"
     ]
    }
   ],
   "source": [
    "df_clean.info()"
   ]
  },
  {
   "cell_type": "markdown",
   "id": "9135c4d6",
   "metadata": {
    "id": "9135c4d6"
   },
   "source": [
    "## Lets scale our data for the better readabilty and also our model need it so that it can train effectively"
   ]
  },
  {
   "cell_type": "code",
   "execution_count": 28,
   "id": "051eec9d",
   "metadata": {
    "colab": {
     "base_uri": "https://localhost:8080/",
     "height": 461
    },
    "executionInfo": {
     "elapsed": 261,
     "status": "ok",
     "timestamp": 1759238613412,
     "user": {
      "displayName": "Md Sharif Uddin Khan",
      "userId": "13262859669309775885"
     },
     "user_tz": -360
    },
    "id": "051eec9d",
    "outputId": "a9b38024-b467-4256-9483-b93d05020ae4"
   },
   "outputs": [
    {
     "name": "stdout",
     "output_type": "stream",
     "text": [
      "Scaled dataframe shape: (69465, 11)\n"
     ]
    },
    {
     "data": {
      "text/html": [
       "<div>\n",
       "<style scoped>\n",
       "    .dataframe tbody tr th:only-of-type {\n",
       "        vertical-align: middle;\n",
       "    }\n",
       "\n",
       "    .dataframe tbody tr th {\n",
       "        vertical-align: top;\n",
       "    }\n",
       "\n",
       "    .dataframe thead th {\n",
       "        text-align: right;\n",
       "    }\n",
       "</style>\n",
       "<table border=\"1\" class=\"dataframe\">\n",
       "  <thead>\n",
       "    <tr style=\"text-align: right;\">\n",
       "      <th></th>\n",
       "      <th>gender</th>\n",
       "      <th>height</th>\n",
       "      <th>ap_hi</th>\n",
       "      <th>ap_lo</th>\n",
       "      <th>cholesterol</th>\n",
       "      <th>gluc</th>\n",
       "      <th>smoke</th>\n",
       "      <th>alco</th>\n",
       "      <th>active</th>\n",
       "      <th>age_years</th>\n",
       "      <th>BMI</th>\n",
       "    </tr>\n",
       "  </thead>\n",
       "  <tbody>\n",
       "    <tr>\n",
       "      <th>0</th>\n",
       "      <td>1.0</td>\n",
       "      <td>0.453333</td>\n",
       "      <td>0.277778</td>\n",
       "      <td>0.444444</td>\n",
       "      <td>0.0</td>\n",
       "      <td>0.0</td>\n",
       "      <td>0.0</td>\n",
       "      <td>0.0</td>\n",
       "      <td>1.0</td>\n",
       "      <td>0.571429</td>\n",
       "      <td>0.181722</td>\n",
       "    </tr>\n",
       "    <tr>\n",
       "      <th>1</th>\n",
       "      <td>0.0</td>\n",
       "      <td>0.373333</td>\n",
       "      <td>0.444444</td>\n",
       "      <td>0.555556</td>\n",
       "      <td>1.0</td>\n",
       "      <td>0.0</td>\n",
       "      <td>0.0</td>\n",
       "      <td>0.0</td>\n",
       "      <td>1.0</td>\n",
       "      <td>0.714286</td>\n",
       "      <td>0.460569</td>\n",
       "    </tr>\n",
       "    <tr>\n",
       "      <th>2</th>\n",
       "      <td>0.0</td>\n",
       "      <td>0.433333</td>\n",
       "      <td>0.388889</td>\n",
       "      <td>0.333333</td>\n",
       "      <td>1.0</td>\n",
       "      <td>0.0</td>\n",
       "      <td>0.0</td>\n",
       "      <td>0.0</td>\n",
       "      <td>0.0</td>\n",
       "      <td>0.628571</td>\n",
       "      <td>0.214870</td>\n",
       "    </tr>\n",
       "    <tr>\n",
       "      <th>3</th>\n",
       "      <td>1.0</td>\n",
       "      <td>0.460000</td>\n",
       "      <td>0.500000</td>\n",
       "      <td>0.666667</td>\n",
       "      <td>0.0</td>\n",
       "      <td>0.0</td>\n",
       "      <td>0.0</td>\n",
       "      <td>0.0</td>\n",
       "      <td>1.0</td>\n",
       "      <td>0.514286</td>\n",
       "      <td>0.326806</td>\n",
       "    </tr>\n",
       "    <tr>\n",
       "      <th>4</th>\n",
       "      <td>0.0</td>\n",
       "      <td>0.373333</td>\n",
       "      <td>0.222222</td>\n",
       "      <td>0.222222</td>\n",
       "      <td>0.0</td>\n",
       "      <td>0.0</td>\n",
       "      <td>0.0</td>\n",
       "      <td>0.0</td>\n",
       "      <td>0.0</td>\n",
       "      <td>0.514286</td>\n",
       "      <td>0.204185</td>\n",
       "    </tr>\n",
       "    <tr>\n",
       "      <th>...</th>\n",
       "      <td>...</td>\n",
       "      <td>...</td>\n",
       "      <td>...</td>\n",
       "      <td>...</td>\n",
       "      <td>...</td>\n",
       "      <td>...</td>\n",
       "      <td>...</td>\n",
       "      <td>...</td>\n",
       "      <td>...</td>\n",
       "      <td>...</td>\n",
       "      <td>...</td>\n",
       "    </tr>\n",
       "    <tr>\n",
       "      <th>69995</th>\n",
       "      <td>1.0</td>\n",
       "      <td>0.453333</td>\n",
       "      <td>0.333333</td>\n",
       "      <td>0.444444</td>\n",
       "      <td>0.0</td>\n",
       "      <td>0.0</td>\n",
       "      <td>1.0</td>\n",
       "      <td>0.0</td>\n",
       "      <td>1.0</td>\n",
       "      <td>0.657143</td>\n",
       "      <td>0.288443</td>\n",
       "    </tr>\n",
       "    <tr>\n",
       "      <th>69996</th>\n",
       "      <td>0.0</td>\n",
       "      <td>0.386667</td>\n",
       "      <td>0.444444</td>\n",
       "      <td>0.555556</td>\n",
       "      <td>0.5</td>\n",
       "      <td>0.5</td>\n",
       "      <td>0.0</td>\n",
       "      <td>0.0</td>\n",
       "      <td>1.0</td>\n",
       "      <td>0.914286</td>\n",
       "      <td>0.795020</td>\n",
       "    </tr>\n",
       "    <tr>\n",
       "      <th>69997</th>\n",
       "      <td>1.0</td>\n",
       "      <td>0.553333</td>\n",
       "      <td>0.666667</td>\n",
       "      <td>0.555556</td>\n",
       "      <td>1.0</td>\n",
       "      <td>0.0</td>\n",
       "      <td>0.0</td>\n",
       "      <td>1.0</td>\n",
       "      <td>0.0</td>\n",
       "      <td>0.628571</td>\n",
       "      <td>0.383672</td>\n",
       "    </tr>\n",
       "    <tr>\n",
       "      <th>69998</th>\n",
       "      <td>0.0</td>\n",
       "      <td>0.420000</td>\n",
       "      <td>0.416667</td>\n",
       "      <td>0.444444</td>\n",
       "      <td>0.0</td>\n",
       "      <td>0.5</td>\n",
       "      <td>0.0</td>\n",
       "      <td>0.0</td>\n",
       "      <td>0.0</td>\n",
       "      <td>0.885714</td>\n",
       "      <td>0.292140</td>\n",
       "    </tr>\n",
       "    <tr>\n",
       "      <th>69999</th>\n",
       "      <td>0.0</td>\n",
       "      <td>0.466667</td>\n",
       "      <td>0.333333</td>\n",
       "      <td>0.444444</td>\n",
       "      <td>0.5</td>\n",
       "      <td>0.0</td>\n",
       "      <td>0.0</td>\n",
       "      <td>0.0</td>\n",
       "      <td>1.0</td>\n",
       "      <td>0.742857</td>\n",
       "      <td>0.245113</td>\n",
       "    </tr>\n",
       "  </tbody>\n",
       "</table>\n",
       "<p>69465 rows × 11 columns</p>\n",
       "</div>"
      ],
      "text/plain": [
       "       gender    height     ap_hi     ap_lo  cholesterol  gluc  smoke  alco  \\\n",
       "0         1.0  0.453333  0.277778  0.444444          0.0   0.0    0.0   0.0   \n",
       "1         0.0  0.373333  0.444444  0.555556          1.0   0.0    0.0   0.0   \n",
       "2         0.0  0.433333  0.388889  0.333333          1.0   0.0    0.0   0.0   \n",
       "3         1.0  0.460000  0.500000  0.666667          0.0   0.0    0.0   0.0   \n",
       "4         0.0  0.373333  0.222222  0.222222          0.0   0.0    0.0   0.0   \n",
       "...       ...       ...       ...       ...          ...   ...    ...   ...   \n",
       "69995     1.0  0.453333  0.333333  0.444444          0.0   0.0    1.0   0.0   \n",
       "69996     0.0  0.386667  0.444444  0.555556          0.5   0.5    0.0   0.0   \n",
       "69997     1.0  0.553333  0.666667  0.555556          1.0   0.0    0.0   1.0   \n",
       "69998     0.0  0.420000  0.416667  0.444444          0.0   0.5    0.0   0.0   \n",
       "69999     0.0  0.466667  0.333333  0.444444          0.5   0.0    0.0   0.0   \n",
       "\n",
       "       active  age_years       BMI  \n",
       "0         1.0   0.571429  0.181722  \n",
       "1         1.0   0.714286  0.460569  \n",
       "2         0.0   0.628571  0.214870  \n",
       "3         1.0   0.514286  0.326806  \n",
       "4         0.0   0.514286  0.204185  \n",
       "...       ...        ...       ...  \n",
       "69995     1.0   0.657143  0.288443  \n",
       "69996     1.0   0.914286  0.795020  \n",
       "69997     0.0   0.628571  0.383672  \n",
       "69998     0.0   0.885714  0.292140  \n",
       "69999     1.0   0.742857  0.245113  \n",
       "\n",
       "[69465 rows x 11 columns]"
      ]
     },
     "metadata": {},
     "output_type": "display_data"
    }
   ],
   "source": [
    "from sklearn.preprocessing import MinMaxScaler\n",
    "\n",
    "# Drop BMI_category and age (in days)\n",
    "df_to_scale = df_clean.drop(columns=['id', 'age', 'weight', 'BMI_category_num','cardio'])\n",
    "\n",
    "# Scale all remaining features\n",
    "scaler = MinMaxScaler()\n",
    "scaled_data = scaler.fit_transform(df_to_scale)\n",
    "\n",
    "# Put back into a DataFrame\n",
    "df_scaled = pd.DataFrame(scaled_data, columns=df_to_scale.columns, index=df_to_scale.index)\n",
    "\n",
    "print(\"Scaled dataframe shape:\", df_scaled.shape)\n",
    "display(df_scaled)\n"
   ]
  },
  {
   "cell_type": "code",
   "execution_count": 29,
   "id": "193e7e78",
   "metadata": {},
   "outputs": [],
   "source": [
    "to_file = df_scaled.join(df_clean[['cardio']])\n",
    "to_file.to_csv('cleaned_scaled_data.csv', index=False)"
   ]
  },
  {
   "cell_type": "code",
   "execution_count": 30,
   "id": "3ca423b0",
   "metadata": {},
   "outputs": [
    {
     "data": {
      "text/plain": [
       "['scaler.pkl']"
      ]
     },
     "execution_count": 30,
     "metadata": {},
     "output_type": "execute_result"
    }
   ],
   "source": [
    "import joblib\n",
    "joblib.dump(scaler, 'scaler.pkl')"
   ]
  },
  {
   "cell_type": "code",
   "execution_count": 31,
   "id": "0Mkovan-1HkE",
   "metadata": {
    "colab": {
     "base_uri": "https://localhost:8080/"
    },
    "executionInfo": {
     "elapsed": 55,
     "status": "ok",
     "timestamp": 1759240022215,
     "user": {
      "displayName": "Md Sharif Uddin Khan",
      "userId": "13262859669309775885"
     },
     "user_tz": -360
    },
    "id": "0Mkovan-1HkE",
    "outputId": "43c7840b-9219-4ad9-c270-f1808d2406bf"
   },
   "outputs": [
    {
     "name": "stdout",
     "output_type": "stream",
     "text": [
      "1. CHECKING DATA TYPES\n",
      "------------------------------\n",
      "DataFrame Info:\n",
      "<class 'pandas.core.frame.DataFrame'>\n",
      "Index: 69465 entries, 0 to 69999\n",
      "Data columns (total 11 columns):\n",
      " #   Column       Non-Null Count  Dtype  \n",
      "---  ------       --------------  -----  \n",
      " 0   gender       69465 non-null  float64\n",
      " 1   height       69465 non-null  float64\n",
      " 2   ap_hi        69465 non-null  float64\n",
      " 3   ap_lo        69465 non-null  float64\n",
      " 4   cholesterol  69465 non-null  float64\n",
      " 5   gluc         69465 non-null  float64\n",
      " 6   smoke        69465 non-null  float64\n",
      " 7   alco         69465 non-null  float64\n",
      " 8   active       69465 non-null  float64\n",
      " 9   age_years    69465 non-null  float64\n",
      " 10  BMI          69465 non-null  float64\n",
      "dtypes: float64(11)\n",
      "memory usage: 6.4 MB\n",
      "None\n",
      "\n",
      " Numerical columns selected: 11\n",
      "Features: ['gender', 'height', 'ap_hi', 'ap_lo', 'cholesterol', 'gluc', 'smoke', 'alco', 'active', 'age_years', 'BMI']\n",
      "Working dataset: 69465 rows, 11 columns\n"
     ]
    }
   ],
   "source": [
    "# DATA PREPARATION\n",
    "\n",
    "print(\"1. CHECKING DATA TYPES\")\n",
    "print(\"-\" * 30)\n",
    "\n",
    "# Display current data types\n",
    "print(\"DataFrame Info:\")\n",
    "print(df_scaled.info())\n",
    "\n",
    "# Identify numerical columns only\n",
    "numerical_columns = df_scaled.select_dtypes(include=['number']).columns\n",
    "print(f\"\\n Numerical columns selected: {len(numerical_columns)}\")\n",
    "print(f\"Features: {list(numerical_columns)}\")\n",
    "\n",
    "# Create numerical-only dataframe\n",
    "numerical_df = df_scaled[numerical_columns]\n",
    "print(f\"Working dataset: {numerical_df.shape[0]} rows, {numerical_df.shape[1]} columns\")"
   ]
  },
  {
   "cell_type": "code",
   "execution_count": 32,
   "id": "yMbY_Ny910cd",
   "metadata": {
    "colab": {
     "base_uri": "https://localhost:8080/"
    },
    "executionInfo": {
     "elapsed": 49,
     "status": "ok",
     "timestamp": 1759240000257,
     "user": {
      "displayName": "Md Sharif Uddin Khan",
      "userId": "13262859669309775885"
     },
     "user_tz": -360
    },
    "id": "yMbY_Ny910cd",
    "outputId": "5b3bcb7f-c3de-46d7-853d-0d9343506fd9"
   },
   "outputs": [
    {
     "name": "stdout",
     "output_type": "stream",
     "text": [
      "\n",
      "2. CALCULATING CORRELATION MATRIX\n",
      "------------------------------\n",
      "Correlation matrix shape: (11, 11)\n",
      "\n",
      "Correlation Matrix Values:\n",
      "             gender  height  ap_hi  ap_lo  cholesterol   gluc  smoke   alco  \\\n",
      "gender        1.000   0.515  0.062  0.068       -0.036 -0.021  0.338  0.171   \n",
      "height        0.515   1.000  0.017  0.035       -0.054 -0.020  0.194  0.098   \n",
      "ap_hi         0.062   0.017  1.000  0.723        0.196  0.092  0.027  0.033   \n",
      "ap_lo         0.068   0.035  0.723  1.000        0.162  0.073  0.026  0.038   \n",
      "cholesterol  -0.036  -0.054  0.196  0.162        1.000  0.451  0.011  0.035   \n",
      "gluc         -0.021  -0.020  0.092  0.073        0.451  1.000 -0.005  0.010   \n",
      "smoke         0.338   0.194  0.027  0.026        0.011 -0.005  1.000  0.340   \n",
      "alco          0.171   0.098  0.033  0.038        0.035  0.010  0.340  1.000   \n",
      "active        0.006  -0.008  0.000  0.000        0.010 -0.007  0.025  0.025   \n",
      "age_years    -0.023  -0.085  0.208  0.154        0.154  0.098 -0.048 -0.030   \n",
      "BMI          -0.111  -0.213  0.269  0.243        0.174  0.120 -0.033  0.016   \n",
      "\n",
      "             active  age_years    BMI  \n",
      "gender        0.006     -0.023 -0.111  \n",
      "height       -0.008     -0.085 -0.213  \n",
      "ap_hi         0.000      0.208  0.269  \n",
      "ap_lo         0.000      0.154  0.243  \n",
      "cholesterol   0.010      0.154  0.174  \n",
      "gluc         -0.007      0.098  0.120  \n",
      "smoke         0.025     -0.048 -0.033  \n",
      "alco          0.025     -0.030  0.016  \n",
      "active        1.000     -0.010 -0.015  \n",
      "age_years    -0.010      1.000  0.101  \n",
      "BMI          -0.015      0.101  1.000  \n"
     ]
    }
   ],
   "source": [
    "# CORRELATION CALCULATION\n",
    "\n",
    "print(\"\\n2. CALCULATING CORRELATION MATRIX\")\n",
    "print(\"-\" * 30)\n",
    "\n",
    "# Calculate correlation matrix\n",
    "correlation_matrix = numerical_df.corr()\n",
    "print(f\"Correlation matrix shape: {correlation_matrix.shape}\")\n",
    "\n",
    "# Display correlation matrix values\n",
    "print(\"\\nCorrelation Matrix Values:\")\n",
    "print(correlation_matrix.round(3))"
   ]
  },
  {
   "cell_type": "code",
   "execution_count": 33,
   "id": "NBuQXySo2Lpf",
   "metadata": {
    "colab": {
     "base_uri": "https://localhost:8080/",
     "height": 826
    },
    "executionInfo": {
     "elapsed": 789,
     "status": "ok",
     "timestamp": 1759239983336,
     "user": {
      "displayName": "Md Sharif Uddin Khan",
      "userId": "13262859669309775885"
     },
     "user_tz": -360
    },
    "id": "NBuQXySo2Lpf",
    "outputId": "6aaea72c-aea4-43fc-d9f0-46f9f0823594"
   },
   "outputs": [
    {
     "name": "stdout",
     "output_type": "stream",
     "text": [
      "\n",
      "3. CREATING CORRELATION HEATMAP\n",
      "------------------------------\n"
     ]
    },
    {
     "data": {
      "image/png": "[encoded data removed]",
      "text/plain": [
       "<Figure size 1400x1200 with 2 Axes>"
      ]
     },
     "metadata": {},
     "output_type": "display_data"
    }
   ],
   "source": [
    "# HEATMAP VISUALIZATION\n",
    "\n",
    "print(\"\\n3. CREATING CORRELATION HEATMAP\")\n",
    "print(\"-\" * 30)\n",
    "\n",
    "# Set up the figure\n",
    "plt.figure(figsize=(14, 12))\n",
    "\n",
    "# Create the heatmap\n",
    "heatmap = sns.heatmap(\n",
    "    correlation_matrix,\n",
    "    annot=True,           # Show correlation values\n",
    "    cmap='coolwarm',      # Color scheme (blue-white-red)\n",
    "    center=0,             # Center colormap at 0\n",
    "    fmt='.2f',            # Format numbers to 2 decimal places\n",
    "    linewidths=0.5,       # Add lines between cells\n",
    "    square=True,          # Make cells square\n",
    "    cbar_kws={\"shrink\": 0.8}  # Size of color bar\n",
    ")\n",
    "\n",
    "# Customize titles and labels\n",
    "plt.title('Feature Correlation Heatmap\\nCardiovascular Dataset',\n",
    "          fontsize=16, fontweight='bold', pad=20)\n",
    "plt.xticks(rotation=45, ha='right')  # Rotate x-axis labels\n",
    "plt.yticks(rotation=0)               # Keep y-axis labels horizontal\n",
    "\n",
    "plt.tight_layout()\n",
    "plt.show()"
   ]
  },
  {
   "cell_type": "code",
   "execution_count": 34,
   "id": "_GyujlF42jde",
   "metadata": {
    "colab": {
     "base_uri": "https://localhost:8080/"
    },
    "executionInfo": {
     "elapsed": 16,
     "status": "ok",
     "timestamp": 1759239964799,
     "user": {
      "displayName": "Md Sharif Uddin Khan",
      "userId": "13262859669309775885"
     },
     "user_tz": -360
    },
    "id": "_GyujlF42jde",
    "outputId": "4428b97b-8a21-422f-d18c-9873113ca605"
   },
   "outputs": [
    {
     "name": "stdout",
     "output_type": "stream",
     "text": [
      "\n",
      "4. CORRELATION ANALYSIS & INSIGHTS\n",
      "------------------------------\n",
      "STRONGEST CORRELATIONS:\n",
      "\n",
      "Top 10 Strongest Correlations (Absolute Value):\n",
      "   1. ap_lo           ↔ ap_hi           :  0.723 (↑ POSITIVE - STRONG)\n",
      "   2. ap_hi           ↔ ap_lo           :  0.723 (↑ POSITIVE - STRONG)\n",
      "   3. gender          ↔ height          :  0.515 (↑ POSITIVE - STRONG)\n",
      "   4. height          ↔ gender          :  0.515 (↑ POSITIVE - STRONG)\n",
      "   5. cholesterol     ↔ gluc            :  0.451 (↑ POSITIVE - MODERATE)\n",
      "   6. gluc            ↔ cholesterol     :  0.451 (↑ POSITIVE - MODERATE)\n",
      "   7. smoke           ↔ alco            :  0.340 (↑ POSITIVE - MODERATE)\n",
      "   8. alco            ↔ smoke           :  0.340 (↑ POSITIVE - MODERATE)\n",
      "   9. smoke           ↔ gender          :  0.338 (↑ POSITIVE - MODERATE)\n",
      "  10. gender          ↔ smoke           :  0.338 (↑ POSITIVE - MODERATE)\n"
     ]
    }
   ],
   "source": [
    "# CORRELATION ANALYSIS\n",
    "\n",
    "print(\"\\n4. CORRELATION ANALYSIS & INSIGHTS\")\n",
    "print(\"-\" * 30)\n",
    "\n",
    "# Get all correlation pairs (excluding self-correlation)\n",
    "corr_pairs = correlation_matrix.unstack()\n",
    "corr_pairs = corr_pairs[corr_pairs != 1.0]  # Remove correlation with itself\n",
    "\n",
    "# Sort by absolute value to find strongest correlations\n",
    "corr_pairs_abs = corr_pairs.abs().sort_values(ascending=False)\n",
    "\n",
    "print(\"STRONGEST CORRELATIONS:\")\n",
    "\n",
    "# Display top 10 strongest correlations (positive and negative)\n",
    "print(\"\\nTop 10 Strongest Correlations (Absolute Value):\")\n",
    "for i, (pair, corr_value) in enumerate(corr_pairs_abs.head(10).items()):\n",
    "    actual_value = corr_pairs[pair]\n",
    "    strength = \"STRONG\" if abs(actual_value) > 0.5 else \"MODERATE\" if abs(actual_value) > 0.3 else \"WEAK\"\n",
    "    direction = \"↑ POSITIVE\" if actual_value > 0 else \"↓ NEGATIVE\"\n",
    "    print(f\"  {i+1:2d}. {pair[0]:15} ↔ {pair[1]:15} : {actual_value:6.3f} ({direction} - {strength})\")"
   ]
  },
  {
   "cell_type": "code",
   "execution_count": 35,
   "id": "dkeXVoGB274X",
   "metadata": {
    "colab": {
     "base_uri": "https://localhost:8080/"
    },
    "executionInfo": {
     "elapsed": 103,
     "status": "ok",
     "timestamp": 1759239926501,
     "user": {
      "displayName": "Md Sharif Uddin Khan",
      "userId": "13262859669309775885"
     },
     "user_tz": -360
    },
    "id": "dkeXVoGB274X",
    "outputId": "f386f528-c4c5-457d-9f2a-20afe1fa2eb2"
   },
   "outputs": [
    {
     "name": "stdout",
     "output_type": "stream",
     "text": [
      "\n",
      "5. TARGET VARIABLE CORRELATION (cardio)\n",
      "------------------------------\n"
     ]
    }
   ],
   "source": [
    "# TARGET VARIABLE ANALYSIS\n",
    "\n",
    "print(\"\\n5. TARGET VARIABLE CORRELATION (cardio)\")\n",
    "print(\"-\" * 30)\n",
    "\n",
    "if 'cardio' in correlation_matrix.columns:\n",
    "    # Get correlations with target variable\n",
    "    target_correlations = correlation_matrix['cardio'].sort_values(ascending=False)\n",
    "\n",
    "    print(\"Features Most Correlated with Cardiovascular Disease:\")\n",
    "    print(\"-\" * 50)\n",
    "\n",
    "    for feature, corr_value in target_correlations.items():\n",
    "        if feature != 'cardio':  # Exclude self-correlation\n",
    "            if abs(corr_value) > 0.1:\n",
    "                importance = \"HIGH\" if abs(corr_value) > 0.2 else \"MEDIUM\" if abs(corr_value) > 0.1 else \"LOW\"\n",
    "                direction = \"increases risk\" if corr_value > 0 else \"decreases risk\"\n",
    "                print(f\"  • {feature:20} : {corr_value:6.3f} ({importance} - {direction})\")\n",
    "            else:\n",
    "                print(f\"  • {feature:20} : {corr_value:6.3f} (LOW impact)\")"
   ]
  },
  {
   "cell_type": "code",
   "execution_count": null,
   "id": "7a801b7a",
   "metadata": {},
   "outputs": [],
   "source": []
  }
 ],
 "metadata": {
  "colab": {
   "provenance": [
    {
     "file_id": "1XvR1WqbjzxOrAcIlsn6bwJXciqbR2qsG",
     "timestamp": 1759241005262
    }
   ]
  },
  "kernelspec": {
   "display_name": "venv",
   "language": "python",
   "name": "python3"
  },
  "language_info": {
   "codemirror_mode": {
    "name": "ipython",
    "version": 3
   },
   "file_extension": ".py",
   "mimetype": "text/x-python",
   "name": "python",
   "nbconvert_exporter": "python",
   "pygments_lexer": "ipython3",
   "version": "3.12.7"
  }
 },
 "nbformat": 4,
 "nbformat_minor": 5
}
