{
 "cells": [
  {
   "cell_type": "code",
   "execution_count": null,
   "id": "0",
   "metadata": {},
   "outputs": [],
   "source": [
    "from fastapi import FastAPI, HTTPException\n",
    "from pydantic import BaseModel\n",
    "import joblib  # or use pickle if you saved with pickle\n",
    "import numpy as np\n",
    "import pandas as pd\n",
    "from typing import Dict, Any"
   ]
  },
  {
   "cell_type": "code",
   "execution_count": null,
   "id": "1",
   "metadata": {},
   "outputs": [],
   "source": [
    "# Initialize FastAPI app\n",
    "app = FastAPI(title=\"Cardiovascular Risk Prediction API\", description=\"API for predicting cardiovascular risk using XGBoost model\")\n",
    "\n",
    "# Load the trained model and scaler\n",
    "# Assuming you saved them as 'xgboost_model.pkl' and 'scaler.pkl' using joblib.dump(model, 'xgboost_model.pkl')\n",
    "try:\n",
    "    model = joblib.load('xgboost_model.pkl')\n",
    "    scaler = joblib.load('scaler.pkl')\n",
    "    print(\"Model and scaler loaded successfully!\")\n",
    "except FileNotFoundError:\n",
    "    raise Exception(\"Model or scaler file not found. Please ensure 'xgboost_model.pkl' and 'scaler.pkl' are in the same directory.\")"
   ]
  },
  {
   "cell_type": "code",
   "execution_count": null,
   "id": "2",
   "metadata": {},
   "outputs": [],
   "source": [
    "# Define input schema using Pydantic for validation\n",
    "class PredictionInput(BaseModel):\n",
    "    gender: int  # 1: female, 2: male (or as per your encoding)\n",
    "    height: int  # in cm\n",
    "    ap_hi: int   # systolic blood pressure\n",
    "    ap_lo: int   # diastolic blood pressure\n",
    "    cholesterol: int  # 1: normal, 2: above normal, 3: well above normal\n",
    "    gluc: int    # 1: normal, 2: above normal, 3: well above normal\n",
    "    smoke: int   # 0: no, 1: yes\n",
    "    alco: int    # 0: no, 1: yes\n",
    "    active: int  # 0: no, 1: yes\n",
    "    age_years: int  # age in years (engineered from age)\n",
    "    BMI: float   # body mass index"
   ]
  },
  {
   "cell_type": "code",
   "execution_count": null,
   "id": "3",
   "metadata": {},
   "outputs": [],
   "source": [
    "# Define output schema\n",
    "class PredictionOutput(BaseModel):\n",
    "    risk_probability: float  # Probability of cardiovascular disease (0-1)\n",
    "    risk_class: int  # 0: low risk, 1: high risk\n",
    "    message: str  # Interpretive message"
   ]
  },
  {
   "cell_type": "code",
   "execution_count": null,
   "id": "4",
   "metadata": {},
   "outputs": [],
   "source": [
    "# Prediction endpoint\n",
    "@app.post(\"/predict\", response_model=PredictionOutput)\n",
    "async def predict_risk(input_data: PredictionInput):\n",
    "    try:\n",
    "        # Convert input to DataFrame for consistency with training\n",
    "        input_dict = input_data.dict()\n",
    "        input_df = pd.DataFrame([input_dict])\n",
    "        \n",
    "        # Ensure column order matches training (adjust if your feature order differs)\n",
    "        feature_columns = ['gender', 'height', 'ap_hi', 'ap_lo', 'cholesterol', 'gluc', \n",
    "                           'smoke', 'alco', 'active', 'age_years', 'BMI']\n",
    "        input_df = input_df[feature_columns]\n",
    "        \n",
    "        # Scale the input features (assuming scaler was fit on these exact features)\n",
    "        input_scaled = scaler.transform(input_df)\n",
    "        \n",
    "        # Make prediction: probability for class 1 (cardio risk)\n",
    "        prob = model.predict_proba(input_scaled)[0][1]  # [prob_class0, prob_class1]\n",
    "        pred_class = 1 if prob > 0.5 else 0  # Binary threshold; adjust as needed\n",
    "        \n",
    "        # Generate message\n",
    "        if pred_class == 1:\n",
    "            message = \"High risk of cardiovascular disease detected. Consult a physician immediately.\"\n",
    "        else:\n",
    "            message = \"Low risk of cardiovascular disease. Continue monitoring health.\"\n",
    "        \n",
    "        return PredictionOutput(\n",
    "            risk_probability=round(prob, 4),\n",
    "            risk_class=pred_class,\n",
    "            message=message\n",
    "        )\n",
    "    except Exception as e:\n",
    "        raise HTTPException(status_code=400, detail=f\"Prediction error: {str(e)}\")"
   ]
  },
  {
   "cell_type": "code",
   "execution_count": null,
   "id": "5",
   "metadata": {},
   "outputs": [],
   "source": [
    "# Health check endpoint\n",
    "@app.get(\"/health\")\n",
    "async def health_check():\n",
    "    return {\"status\": \"healthy\", \"model\": \"XGBoost loaded\"}\n",
    "\n",
    "# Run the app with: uvicorn main:app --reload (save this as main.py)\n",
    "if __name__ == \"__main__\":\n",
    "    import uvicorn\n",
    "    uvicorn.run(app, host=\"0.0.0.0\", port=8000)"
   ]
  }
 ],
 "metadata": {
  "kernelspec": {
   "display_name": "venv",
   "language": "python",
   "name": "python3"
  },
  "language_info": {
   "codemirror_mode": {
    "name": "ipython",
    "version": 3
   },
   "file_extension": ".py",
   "mimetype": "text/x-python",
   "name": "python",
   "nbconvert_exporter": "python",
   "pygments_lexer": "ipython3",
   "version": "3.12.6"
  }
 },
 "nbformat": 4,
 "nbformat_minor": 5
}
