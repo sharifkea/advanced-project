{
 "cells": [
  {
   "cell_type": "code",
   "execution_count": null,
   "metadata": {
    "executionInfo": {
     "elapsed": 900,
     "status": "ok",
     "timestamp": 1758724614687,
     "user": {
      "displayName": "Md Sharif Uddin Khan",
      "userId": "13262859669309775885"
     },
     "user_tz": -360
    },
    "id": "qlFBueIxH4jG"
   },
   "outputs": [],
   "source": [
    "import pandas as pd\n",
    "import numpy as np\n",
    "import matplotlib.pyplot as plt\n",
    "import seaborn as sns\n",
    "from sklearn.preprocessing import StandardScaler\n",
    "from sklearn.feature_selection import SelectKBest, f_classif"
   ]
  },
  {
   "cell_type": "code",
   "execution_count": null,
   "metadata": {
    "colab": {
     "base_uri": "https://localhost:8080/"
    },
    "executionInfo": {
     "elapsed": 145,
     "status": "ok",
     "timestamp": 1758724633206,
     "user": {
      "displayName": "Md Sharif Uddin Khan",
      "userId": "13262859669309775885"
     },
     "user_tz": -360
    },
    "id": "pdOpyUKNJ_gj",
    "outputId": "ff89d837-5910-42d8-998c-a0739128543c"
   },
   "outputs": [],
   "source": [
    "# Load the dataset\n",
    "df = pd.read_csv('cardio_train.csv', sep=';')\n",
    "\n",
    "print(\"Dataset shape:\", df.shape)\n",
    "print(\"\\nFirst few rows:\")\n",
    "print(df.head())\n",
    "print(\"\\nColumn information:\")\n",
    "print(df.info())\n",
    "print(\"\\nBasic statistics:\")\n",
    "print(df.describe())"
   ]
  },
  {
   "cell_type": "code",
   "execution_count": null,
   "metadata": {
    "colab": {
     "base_uri": "https://localhost:8080/"
    },
    "executionInfo": {
     "elapsed": 45,
     "status": "ok",
     "timestamp": 1758724658523,
     "user": {
      "displayName": "Md Sharif Uddin Khan",
      "userId": "13262859669309775885"
     },
     "user_tz": -360
    },
    "id": "-9bUk3e3KEP1",
    "outputId": "ee0b651d-f02f-4f18-98b9-d4e77dc4e6b9"
   },
   "outputs": [],
   "source": [
    "# Check for missing values\n",
    "print(\"Missing values:\")\n",
    "print(df.isnull().sum())\n",
    "\n",
    "# Check for duplicates\n",
    "print(f\"\\nDuplicate rows: {df.duplicated().sum()}\")\n",
    "\n",
    "# Check unique values for each column\n",
    "print(\"\\nUnique values per column:\")\n",
    "for col in df.columns:\n",
    "    print(f\"{col}: {df[col].nunique()} unique values\")"
   ]
  },
  {
   "cell_type": "code",
   "execution_count": null,
   "metadata": {
    "colab": {
     "base_uri": "https://localhost:8080/"
    },
    "executionInfo": {
     "elapsed": 122,
     "status": "ok",
     "timestamp": 1758724694476,
     "user": {
      "displayName": "Md Sharif Uddin Khan",
      "userId": "13262859669309775885"
     },
     "user_tz": -360
    },
    "id": "STcGur4YKLPQ",
    "outputId": "9e68f4ba-a97d-4cfc-d528-5275bfa534d7"
   },
   "outputs": [],
   "source": [
    "# Check for outliers and unrealistic values\n",
    "print(\"Blood pressure values:\")\n",
    "print(f\"ap_hi min: {df['ap_hi'].min()}, max: {df['ap_hi'].max()}\")\n",
    "print(f\"ap_lo min: {df['ap_lo'].min()}, max: {df['ap_lo'].max()}\")\n",
    "\n",
    "print(\"\\nHeight values:\")\n",
    "print(f\"height min: {df['height'].min()}, max: {df['height'].max()}\")\n",
    "\n",
    "print(\"\\nWeight values:\")\n",
    "print(f\"weight min: {df['weight'].min()}, max: {df['weight'].max()}\")\n",
    "\n",
    "# Check for biologically impossible values\n",
    "print(f\"\\nRows with ap_hi < ap_lo: {(df['ap_hi'] < df['ap_lo']).sum()}\")"
   ]
  },
  {
   "cell_type": "code",
   "execution_count": null,
   "metadata": {
    "colab": {
     "base_uri": "https://localhost:8080/"
    },
    "executionInfo": {
     "elapsed": 34,
     "status": "ok",
     "timestamp": 1758724732069,
     "user": {
      "displayName": "Md Sharif Uddin Khan",
      "userId": "13262859669309775885"
     },
     "user_tz": -360
    },
    "id": "R9jTGwZJKTFL",
    "outputId": "215e5138-353b-4eb5-a9af-c6de1cd3b4c0"
   },
   "outputs": [],
   "source": [
    "# Create a copy for cleaning\n",
    "df_clean = df.copy()\n",
    "\n",
    "# Remove biologically impossible blood pressure values\n",
    "df_clean = df_clean[(df_clean['ap_hi'] >= 60) & (df_clean['ap_hi'] <= 250)]\n",
    "df_clean = df_clean[(df_clean['ap_lo'] >= 40) & (df_clean['ap_lo'] <= 150)]\n",
    "df_clean = df_clean[df_clean['ap_hi'] >= df_clean['ap_lo']]\n",
    "\n",
    "# Remove unrealistic height and weight values\n",
    "df_clean = df_clean[(df_clean['height'] >= 140) & (df_clean['height'] <= 210)]\n",
    "df_clean = df_clean[(df_clean['weight'] >= 40) & (df_clean['weight'] <= 200)]\n",
    "\n",
    "# Calculate BMI and remove unrealistic BMI values\n",
    "df_clean['bmi'] = df_clean['weight'] / ((df_clean['height']/100) ** 2)\n",
    "df_clean = df_clean[(df_clean['bmi'] >= 15) & (df_clean['bmi'] <= 50)]\n",
    "\n",
    "print(f\"Rows after cleaning: {len(df_clean)} ({(len(df_clean)/len(df))*100:.1f}% of original data)\")"
   ]
  },
  {
   "cell_type": "code",
   "execution_count": null,
   "metadata": {},
   "outputs": [],
   "source": [
    "df_clean.describe()"
   ]
  },
  {
   "cell_type": "code",
   "execution_count": null,
   "metadata": {
    "colab": {
     "base_uri": "https://localhost:8080/"
    },
    "executionInfo": {
     "elapsed": 46,
     "status": "ok",
     "timestamp": 1758724753626,
     "user": {
      "displayName": "Md Sharif Uddin Khan",
      "userId": "13262859669309775885"
     },
     "user_tz": -360
    },
    "id": "SvMYiH32KcwJ",
    "outputId": "2c673101-8b9c-4c73-fa30-69163b2ff784"
   },
   "outputs": [],
   "source": [
    "# Prepare features and target\n",
    "features = ['age', 'gender', 'height', 'weight', 'ap_hi', 'ap_lo',\n",
    "           'cholesterol', 'gluc', 'smoke', 'alco', 'active', 'bmi']\n",
    "X = df_clean[features]\n",
    "y = df_clean['cardio']\n",
    "\n",
    "# Feature importance using correlation\n",
    "correlation_matrix = df_clean.corr()\n",
    "target_correlations = correlation_matrix['cardio'].abs().sort_values(ascending=False)\n",
    "\n",
    "print(\"Correlation with target variable (cardio):\")\n",
    "print(target_correlations)\n",
    "\n",
    "# Feature importance using ANOVA F-value\n",
    "selector = SelectKBest(score_func=f_classif, k='all')\n",
    "selector.fit(X, y)\n",
    "\n",
    "feature_scores = pd.DataFrame({\n",
    "    'feature': features,\n",
    "    'f_score': selector.scores_,\n",
    "    'p_value': selector.pvalues_\n",
    "}).sort_values('f_score', ascending=False)\n",
    "\n",
    "print(\"\\nANOVA F-scores:\")\n",
    "print(feature_scores)"
   ]
  },
  {
   "cell_type": "code",
   "execution_count": null,
   "metadata": {
    "colab": {
     "base_uri": "https://localhost:8080/",
     "height": 1000
    },
    "executionInfo": {
     "elapsed": 2281,
     "status": "ok",
     "timestamp": 1758724885750,
     "user": {
      "displayName": "Md Sharif Uddin Khan",
      "userId": "13262859669309775885"
     },
     "user_tz": -360
    },
    "id": "Y3BhnPMDKhtJ",
    "outputId": "4ba98553-d17d-4bfe-9bae-6edc6770da3d"
   },
   "outputs": [],
   "source": [
    "# Set up the plotting style\n",
    "plt.style.use('default')\n",
    "fig, axes = plt.subplots(2, 3, figsize=(15, 10))\n",
    "fig.suptitle('Key Features for Heart Disease Prediction', fontsize=16, fontweight='bold')\n",
    "\n",
    "# 1. Blood Pressure vs Cardio\n",
    "sns.boxplot(data=df_clean, x='cardio', y='ap_hi', ax=axes[0,0])\n",
    "axes[0,0].set_title('Systolic BP vs Heart Disease')\n",
    "axes[0,0].set_xlabel('Heart Disease')\n",
    "axes[0,0].set_ylabel('Systolic BP')\n",
    "\n",
    "# 2. Cholesterol vs Cardio\n",
    "sns.countplot(data=df_clean, x='cholesterol', hue='cardio', ax=axes[0,1])\n",
    "axes[0,1].set_title('Cholesterol Level vs Heart Disease')\n",
    "axes[0,1].set_xlabel('Cholesterol Level')\n",
    "axes[0,1].legend(['No Disease', 'Disease'])\n",
    "\n",
    "# 3. Age vs Cardio\n",
    "sns.boxplot(data=df_clean, x='cardio', y='age', ax=axes[0,2])\n",
    "axes[0,2].set_title('Age vs Heart Disease')\n",
    "axes[0,2].set_xlabel('Heart Disease')\n",
    "axes[0,2].set_ylabel('Age (days)')\n",
    "\n",
    "# 4. BMI vs Cardio\n",
    "sns.boxplot(data=df_clean, x='cardio', y='bmi', ax=axes[1,0])\n",
    "axes[1,0].set_title('BMI vs Heart Disease')\n",
    "axes[1,0].set_xlabel('Heart Disease')\n",
    "axes[1,0].set_ylabel('BMI')\n",
    "\n",
    "# 5. Glucose vs Cardio\n",
    "sns.countplot(data=df_clean, x='gluc', hue='cardio', ax=axes[1,1])\n",
    "axes[1,1].set_title('Glucose Level vs Heart Disease')\n",
    "axes[1,1].set_xlabel('Glucose Level')\n",
    "axes[1,1].legend(['No Disease', 'Disease'])\n",
    "\n",
    "# 6. Active Lifestyle vs Cardio\n",
    "sns.countplot(data=df_clean, x='active', hue='cardio', ax=axes[1,2])\n",
    "axes[1,2].set_title('Physical Activity vs Heart Disease')\n",
    "axes[1,2].set_xlabel('Physically Active')\n",
    "axes[1,2].legend(['No Disease', 'Disease'])\n",
    "\n",
    "plt.tight_layout()\n",
    "plt.show()\n",
    "\n",
    "# Correlation heatmap\n",
    "plt.figure(figsize=(10, 6))\n",
    "corr_matrix = df_clean[features + ['cardio']].corr()\n",
    "sns.heatmap(corr_matrix, annot=True, cmap='coolwarm', center=0, fmt='.2f')\n",
    "plt.title('Feature Correlation Matrix')\n",
    "plt.tight_layout()\n",
    "plt.show()"
   ]
  },
  {
   "cell_type": "code",
   "execution_count": null,
   "metadata": {
    "colab": {
     "base_uri": "https://localhost:8080/"
    },
    "executionInfo": {
     "elapsed": 102,
     "status": "ok",
     "timestamp": 1758724833425,
     "user": {
      "displayName": "Md Sharif Uddin Khan",
      "userId": "13262859669309775885"
     },
     "user_tz": -360
    },
    "id": "Vm7pdhXSKunE",
    "outputId": "76d07dbb-de09-4b02-cc60-348dc3616a21"
   },
   "outputs": [],
   "source": [
    "# Rank features by importance\n",
    "feature_importance = pd.DataFrame({\n",
    "    'feature': features,\n",
    "    'correlation': [abs(correlation_matrix.loc[feat, 'cardio']) for feat in features],\n",
    "    'f_score': feature_scores.set_index('feature').loc[features, 'f_score']\n",
    "})\n",
    "\n",
    "feature_importance['combined_score'] = (\n",
    "    feature_importance['correlation'] +\n",
    "    feature_importance['f_score'] / feature_importance['f_score'].max()\n",
    ")\n",
    "\n",
    "feature_importance = feature_importance.sort_values('combined_score', ascending=False)\n",
    "\n",
    "print(\"=\"*60)\n",
    "print(\"FEATURE IMPORTANCE RANKING FOR HEART DISEASE PREDICTION\")\n",
    "print(\"=\"*60)\n",
    "print(\"\\nTop 5 Most Important Features:\")\n",
    "print(feature_importance.head(5))\n",
    "\n",
    "print(\"\\n\" + \"=\"*60)\n",
    "print(\"RECOMMENDED FEATURES FOR MODEL BUILDING:\")\n",
    "print(\"=\"*60)\n",
    "for i, (idx, row) in enumerate(feature_importance.head(5).iterrows(), 1):\n",
    "    print(f\"{i}. {row['feature']} (Score: {row['combined_score']:.3f})\")\n",
    "\n",
    "print(f\"\\nDataset size after cleaning: {len(df_clean)} samples\")\n",
    "print(f\"Features available: {len(features)}\")\n",
    "print(f\"Target variable distribution:\")\n",
    "print(df_clean['cardio'].value_counts(normalize=True))"
   ]
  }
 ],
 "metadata": {
  "colab": {
   "authorship_tag": "ABX9TyNIIk04vYx5hc3g84NlsfjN",
   "provenance": []
  },
  "kernelspec": {
   "display_name": "venv",
   "language": "python",
   "name": "python3"
  },
  "language_info": {
   "codemirror_mode": {
    "name": "ipython",
    "version": 3
   },
   "file_extension": ".py",
   "mimetype": "text/x-python",
   "name": "python",
   "nbconvert_exporter": "python",
   "pygments_lexer": "ipython3",
   "version": "3.12.6"
  }
 },
 "nbformat": 4,
 "nbformat_minor": 0
}
