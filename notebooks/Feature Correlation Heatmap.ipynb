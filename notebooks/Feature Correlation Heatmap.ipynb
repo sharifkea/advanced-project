{
 "cells": [
  {
   "cell_type": "code",
   "execution_count": null,
   "id": "0",
   "metadata": {
    "executionInfo": {
     "elapsed": 2755,
     "status": "ok",
     "timestamp": 1759238149709,
     "user": {
      "displayName": "Md Sharif Uddin Khan",
      "userId": "13262859669309775885"
     },
     "user_tz": -360
    },
    "id": "f18e5af8"
   },
   "outputs": [],
   "source": [
    "import numpy as np\n",
    "import pandas as pd\n",
    "import matplotlib.pyplot as plt\n",
    "import seaborn as sns\n",
    "\n"
   ]
  },
  {
   "cell_type": "code",
   "execution_count": null,
   "id": "1",
   "metadata": {
    "colab": {
     "base_uri": "https://localhost:8080/",
     "height": 206
    },
    "executionInfo": {
     "elapsed": 484,
     "status": "ok",
     "timestamp": 1759238458061,
     "user": {
      "displayName": "Md Sharif Uddin Khan",
      "userId": "13262859669309775885"
     },
     "user_tz": -360
    },
    "id": "5014939f",
    "outputId": "f1880201-b170-44fb-b6e5-e3c683b82316"
   },
   "outputs": [],
   "source": [
    "# Load the dataset\n",
    "df = pd.read_csv(\"cardio_train.csv\", sep=\";\")\n",
    "df.head()\n"
   ]
  },
  {
   "cell_type": "markdown",
   "id": "2",
   "metadata": {
    "id": "f008fb32"
   },
   "source": [
    "## Notice that age is in days format, so we are converting those in years format."
   ]
  },
  {
   "cell_type": "code",
   "execution_count": null,
   "id": "3",
   "metadata": {
    "executionInfo": {
     "elapsed": 17,
     "status": "ok",
     "timestamp": 1759238466350,
     "user": {
      "displayName": "Md Sharif Uddin Khan",
      "userId": "13262859669309775885"
     },
     "user_tz": -360
    },
    "id": "3cee9076"
   },
   "outputs": [],
   "source": [
    "# Convert age from days to years and round to nearest integer\n",
    "df['age_years'] = (df['age'] / 365).round()\n"
   ]
  },
  {
   "cell_type": "code",
   "execution_count": null,
   "id": "4",
   "metadata": {
    "colab": {
     "base_uri": "https://localhost:8080/",
     "height": 226
    },
    "executionInfo": {
     "elapsed": 51,
     "status": "ok",
     "timestamp": 1759238469440,
     "user": {
      "displayName": "Md Sharif Uddin Khan",
      "userId": "13262859669309775885"
     },
     "user_tz": -360
    },
    "id": "a1e312e1",
    "outputId": "18eaf46f-ef79-46cf-caa4-3378992b5c0d"
   },
   "outputs": [],
   "source": [
    "df.head()"
   ]
  },
  {
   "cell_type": "code",
   "execution_count": null,
   "id": "5",
   "metadata": {
    "colab": {
     "base_uri": "https://localhost:8080/",
     "height": 320
    },
    "executionInfo": {
     "elapsed": 262,
     "status": "ok",
     "timestamp": 1759238475607,
     "user": {
      "displayName": "Md Sharif Uddin Khan",
      "userId": "13262859669309775885"
     },
     "user_tz": -360
    },
    "id": "80ce5a88",
    "outputId": "8ab60c7c-e444-49ed-d580-5c1687daa7e3"
   },
   "outputs": [],
   "source": [
    "df.describe()"
   ]
  },
  {
   "cell_type": "markdown",
   "id": "6",
   "metadata": {
    "id": "875dfc87"
   },
   "source": [
    "## Now Lets create a BMI index which might come in handy later."
   ]
  },
  {
   "cell_type": "code",
   "execution_count": null,
   "id": "7",
   "metadata": {
    "colab": {
     "base_uri": "https://localhost:8080/",
     "height": 226
    },
    "executionInfo": {
     "elapsed": 125,
     "status": "ok",
     "timestamp": 1759238480972,
     "user": {
      "displayName": "Md Sharif Uddin Khan",
      "userId": "13262859669309775885"
     },
     "user_tz": -360
    },
    "id": "58983020",
    "outputId": "f34d44ae-b9a8-4377-b7fb-0016154f3f49"
   },
   "outputs": [],
   "source": [
    "# Calculate BMI and add as a new column\n",
    "df['BMI'] = df['weight'] / ( (df['height'] / 100) ** 2 )\n",
    "df.head()\n"
   ]
  },
  {
   "cell_type": "markdown",
   "id": "8",
   "metadata": {
    "id": "1c3f2df5"
   },
   "source": [
    "## Lets add another column which will categorize the BMI index value. This way we can understand clearly where a person stands physical aspect wise."
   ]
  },
  {
   "cell_type": "code",
   "execution_count": null,
   "id": "9",
   "metadata": {
    "executionInfo": {
     "elapsed": 10,
     "status": "ok",
     "timestamp": 1759238486503,
     "user": {
      "displayName": "Md Sharif Uddin Khan",
      "userId": "13262859669309775885"
     },
     "user_tz": -360
    },
    "id": "df629dd7"
   },
   "outputs": [],
   "source": [
    "bins = [0, 18.5, 25, 30, float('inf')]\n",
    "labels = ['Underweight', 'Normal', 'Overweight', 'Obese']\n",
    "\n",
    "df['BMI_category'] = pd.cut(df['BMI'], bins=bins, labels=labels)\n"
   ]
  },
  {
   "cell_type": "code",
   "execution_count": null,
   "id": "10",
   "metadata": {
    "colab": {
     "base_uri": "https://localhost:8080/",
     "height": 226
    },
    "executionInfo": {
     "elapsed": 125,
     "status": "ok",
     "timestamp": 1759238491486,
     "user": {
      "displayName": "Md Sharif Uddin Khan",
      "userId": "13262859669309775885"
     },
     "user_tz": -360
    },
    "id": "cbf7fb16",
    "outputId": "6665b75e-f792-4504-a9dc-e4a6e8a33d0f"
   },
   "outputs": [],
   "source": [
    "df.head()"
   ]
  },
  {
   "cell_type": "markdown",
   "id": "11",
   "metadata": {
    "id": "97d6e543"
   },
   "source": [
    "## We need to convert the BMI category into numbers like 1, 2, 3 , 4 etc. This way it's easier for the model to train effectively because some ML model works better on numeric encoding."
   ]
  },
  {
   "cell_type": "code",
   "execution_count": null,
   "id": "12",
   "metadata": {
    "executionInfo": {
     "elapsed": 10,
     "status": "ok",
     "timestamp": 1759238500787,
     "user": {
      "displayName": "Md Sharif Uddin Khan",
      "userId": "13262859669309775885"
     },
     "user_tz": -360
    },
    "id": "ec4097a1"
   },
   "outputs": [],
   "source": [
    "bmi_map = {\n",
    "    'Underweight': 1,\n",
    "    'Normal': 2,\n",
    "    'Overweight': 3,\n",
    "    'Obese': 4\n",
    "}\n"
   ]
  },
  {
   "cell_type": "code",
   "execution_count": null,
   "id": "13",
   "metadata": {
    "colab": {
     "base_uri": "https://localhost:8080/",
     "height": 226
    },
    "executionInfo": {
     "elapsed": 174,
     "status": "ok",
     "timestamp": 1759238503466,
     "user": {
      "displayName": "Md Sharif Uddin Khan",
      "userId": "13262859669309775885"
     },
     "user_tz": -360
    },
    "id": "0310110b",
    "outputId": "c2740ccd-3318-4127-997c-3230cdd65488"
   },
   "outputs": [],
   "source": [
    "df['BMI_category_num'] = df['BMI_category'].map(bmi_map)\n",
    "df.head()"
   ]
  },
  {
   "cell_type": "markdown",
   "id": "14",
   "metadata": {
    "id": "c51372b1"
   },
   "source": [
    "## Now Lets focus on cleaning the dataset, this is crucial for the future steps in our project."
   ]
  },
  {
   "cell_type": "markdown",
   "id": "15",
   "metadata": {
    "id": "9d5d89c6"
   },
   "source": [
    "### Starting off with seeing if there is any missing values or not."
   ]
  },
  {
   "cell_type": "code",
   "execution_count": null,
   "id": "16",
   "metadata": {
    "colab": {
     "base_uri": "https://localhost:8080/",
     "height": 617
    },
    "executionInfo": {
     "elapsed": 62,
     "status": "ok",
     "timestamp": 1759238510015,
     "user": {
      "displayName": "Md Sharif Uddin Khan",
      "userId": "13262859669309775885"
     },
     "user_tz": -360
    },
    "id": "139bca2e",
    "outputId": "b5daef71-747b-4b81-9c5c-119c06c89b35"
   },
   "outputs": [],
   "source": [
    "df.isnull().sum()"
   ]
  },
  {
   "cell_type": "markdown",
   "id": "17",
   "metadata": {
    "id": "9b9849d9"
   },
   "source": [
    "## Looks like there isn't any missing values, but we still need to look out for abnormal values or outliers which will harm our model's accuracy."
   ]
  },
  {
   "cell_type": "code",
   "execution_count": null,
   "id": "18",
   "metadata": {
    "colab": {
     "base_uri": "https://localhost:8080/",
     "height": 226
    },
    "executionInfo": {
     "elapsed": 74,
     "status": "ok",
     "timestamp": 1759238515709,
     "user": {
      "displayName": "Md Sharif Uddin Khan",
      "userId": "13262859669309775885"
     },
     "user_tz": -360
    },
    "id": "b6f4bb6b",
    "outputId": "164ca0e6-517e-445b-ffc3-11dae69d7a84"
   },
   "outputs": [],
   "source": [
    "df_clean = df.copy() # Create a copy to preserve the original data\n",
    "df_clean.head()"
   ]
  },
  {
   "cell_type": "markdown",
   "id": "19",
   "metadata": {
    "id": "9b0a129a"
   },
   "source": [
    "### Lets look at age"
   ]
  },
  {
   "cell_type": "markdown",
   "id": "20",
   "metadata": {
    "id": "af5a87cd"
   },
   "source": [
    "Reference: World Health Organization (WHO). \"Adolescent health.\" Defines adulthood starting from 18 years.\n",
    "\n",
    "Rationale: We exclude <18 (children) and >100 (extreme outliers)."
   ]
  },
  {
   "cell_type": "code",
   "execution_count": null,
   "id": "21",
   "metadata": {
    "colab": {
     "base_uri": "https://localhost:8080/"
    },
    "executionInfo": {
     "elapsed": 12,
     "status": "ok",
     "timestamp": 1759238520994,
     "user": {
      "displayName": "Md Sharif Uddin Khan",
      "userId": "13262859669309775885"
     },
     "user_tz": -360
    },
    "id": "e78b92a0",
    "outputId": "1fede2b0-97ff-4ec9-e0e4-d547167e01cc"
   },
   "outputs": [],
   "source": [
    "\n",
    "\n",
    "# --- AGE CLEANING ---\n",
    "print(\"Min age:\", df_clean['age_years'].min())\n",
    "print(\"Max age:\", df_clean['age_years'].max())\n",
    "\n",
    "# Count abnormal ages\n",
    "abnormal_age = df_clean[(df_clean['age_years'] < 18) | (df_clean['age_years'] > 100)]\n",
    "print(\"Abnormal ages found:\", abnormal_age.shape[0])\n",
    "\n",
    "# Drop them\n",
    "df_clean = df_clean[(df_clean['age_years'] >= 18) & (df_clean['age_years'] <= 100)]\n",
    "print(\"Remaining rows after age cleaning:\", df_clean.shape[0])\n"
   ]
  },
  {
   "cell_type": "markdown",
   "id": "22",
   "metadata": {
    "id": "37920262"
   },
   "source": [
    "## Lets look at the height now."
   ]
  },
  {
   "cell_type": "markdown",
   "id": "23",
   "metadata": {
    "id": "58c9f021"
   },
   "source": [
    "Reference: Centers for Disease Control and Prevention (CDC), Anthropometric Reference Data for U.S. Adults, 2015–2018.\n",
    "\n",
    "Adult height typically ranges ~140–200 cm, but rare cases can extend beyond.\n",
    "\n",
    "Rationale: We used 80–250 cm as a broad but realistic filter to exclude data entry errors.\n",
    "\n",
    "\n",
    "\n"
   ]
  },
  {
   "cell_type": "code",
   "execution_count": null,
   "id": "24",
   "metadata": {
    "colab": {
     "base_uri": "https://localhost:8080/"
    },
    "executionInfo": {
     "elapsed": 42,
     "status": "ok",
     "timestamp": 1759238531630,
     "user": {
      "displayName": "Md Sharif Uddin Khan",
      "userId": "13262859669309775885"
     },
     "user_tz": -360
    },
    "id": "c0e3be8b",
    "outputId": "0dcbe65a-f44c-4ca5-9a33-4c4d63e5fa3b"
   },
   "outputs": [],
   "source": [
    "# --- HEIGHT CLEANING (80–250 cm) ---\n",
    "print(\"Min height:\", df_clean['height'].min())\n",
    "print(\"Max height:\", df_clean['height'].max())\n",
    "\n",
    "# Count abnormal heights\n",
    "abnormal_height = df_clean[(df_clean['height'] < 80) | (df_clean['height'] > 250)]\n",
    "print(\"Abnormal heights found:\", abnormal_height.shape[0])\n",
    "\n",
    "# Drop them\n",
    "df_clean = df_clean[(df_clean['height'] >= 80) & (df_clean['height'] <= 250)]\n",
    "print(\"Remaining rows after height cleaning:\", df_clean.shape[0])\n"
   ]
  },
  {
   "cell_type": "markdown",
   "id": "25",
   "metadata": {
    "id": "e24e383f"
   },
   "source": [
    "## Lets look at weight now."
   ]
  },
  {
   "cell_type": "markdown",
   "id": "26",
   "metadata": {
    "id": "dd3a9e93"
   },
   "source": [
    "Reference: CDC Anthropometric Reference Data 2015–2018.\n",
    "\n",
    "Adult weight distribution: ~45–120 kg for most adults, but can extend higher.\n",
    "\n",
    "Rationale: We set 40–200 kg as plausible to allow for heavier individuals while filtering errors."
   ]
  },
  {
   "cell_type": "code",
   "execution_count": null,
   "id": "27",
   "metadata": {
    "colab": {
     "base_uri": "https://localhost:8080/"
    },
    "executionInfo": {
     "elapsed": 10,
     "status": "ok",
     "timestamp": 1759238537813,
     "user": {
      "displayName": "Md Sharif Uddin Khan",
      "userId": "13262859669309775885"
     },
     "user_tz": -360
    },
    "id": "be955f41",
    "outputId": "52730c95-68f0-42dc-9395-b0523a5f1712"
   },
   "outputs": [],
   "source": [
    "\n",
    "print(\"Min weight:\", df_clean['weight'].min())\n",
    "print(\"Max weight:\", df_clean['weight'].max())\n",
    "\n",
    "# Count abnormal weights\n",
    "abnormal_weight = df_clean[(df_clean['weight'] < 40) | (df_clean['weight'] > 200)]\n",
    "print(\"Abnormal weights found:\", abnormal_weight.shape[0])\n",
    "\n",
    "# Drop them\n",
    "df_clean = df_clean[(df_clean['weight'] >= 40) & (df_clean['weight'] <= 200)]\n",
    "print(\"Remaining rows after weight cleaning:\", df_clean.shape[0])\n"
   ]
  },
  {
   "cell_type": "markdown",
   "id": "28",
   "metadata": {
    "id": "648e8199"
   },
   "source": [
    "## Lets look at blood pressure"
   ]
  },
  {
   "cell_type": "markdown",
   "id": "29",
   "metadata": {
    "id": "4eac696a"
   },
   "source": [
    "Reference: American Heart Association (AHA) – 2017 Guidelines.\n",
    "\n",
    "Physiological bounds: 60–240 systolic (ap_hi), 40–130 diastolic (ap_lo)."
   ]
  },
  {
   "cell_type": "code",
   "execution_count": null,
   "id": "30",
   "metadata": {
    "colab": {
     "base_uri": "https://localhost:8080/",
     "height": 1000
    },
    "executionInfo": {
     "elapsed": 295,
     "status": "ok",
     "timestamp": 1759238542569,
     "user": {
      "displayName": "Md Sharif Uddin Khan",
      "userId": "13262859669309775885"
     },
     "user_tz": -360
    },
    "id": "4a8355e4",
    "outputId": "db553870-272f-4e19-e742-7086aa5fa41d"
   },
   "outputs": [],
   "source": [
    "#inspecting systolic between 200 and 300\n",
    "df_clean[(df_clean['ap_hi'] > 200) & (df_clean['ap_hi'] < 300)]\n"
   ]
  },
  {
   "cell_type": "code",
   "execution_count": null,
   "id": "31",
   "metadata": {
    "colab": {
     "base_uri": "https://localhost:8080/",
     "height": 461
    },
    "executionInfo": {
     "elapsed": 99,
     "status": "ok",
     "timestamp": 1759238549972,
     "user": {
      "displayName": "Md Sharif Uddin Khan",
      "userId": "13262859669309775885"
     },
     "user_tz": -360
    },
    "id": "8ca17035",
    "outputId": "7c46f714-2839-4e6d-97f6-6e5e6a9b6733"
   },
   "outputs": [],
   "source": [
    "# Show rows where systolic blood pressure (ap_hi) is greater than 200\n",
    "high_ap_hi = df_clean[df_clean['ap_hi'] > 200]\n",
    "print(f\"Number of records with ap_hi > 200: {len(high_ap_hi)}\")\n",
    "display(high_ap_hi)\n"
   ]
  },
  {
   "cell_type": "code",
   "execution_count": null,
   "id": "32",
   "metadata": {
    "colab": {
     "base_uri": "https://localhost:8080/",
     "height": 306
    },
    "executionInfo": {
     "elapsed": 139,
     "status": "ok",
     "timestamp": 1759238555892,
     "user": {
      "displayName": "Md Sharif Uddin Khan",
      "userId": "13262859669309775885"
     },
     "user_tz": -360
    },
    "id": "07f72eee",
    "outputId": "026f2f1f-0f64-444a-e259-cee08d3cca0d"
   },
   "outputs": [],
   "source": [
    "# Show rows where systolic blood pressure (ap_hi) is less than 0\n",
    "low_ap_hi = df_clean[df_clean['ap_hi'] < 0]\n",
    "print(f\"Number of records with ap_hi < 0: {len(low_ap_hi)}\")\n",
    "display(low_ap_hi)\n"
   ]
  },
  {
   "cell_type": "code",
   "execution_count": null,
   "id": "33",
   "metadata": {
    "colab": {
     "base_uri": "https://localhost:8080/",
     "height": 126
    },
    "executionInfo": {
     "elapsed": 57,
     "status": "ok",
     "timestamp": 1759238561389,
     "user": {
      "displayName": "Md Sharif Uddin Khan",
      "userId": "13262859669309775885"
     },
     "user_tz": -360
    },
    "id": "8b9c9d29",
    "outputId": "5535e294-c95f-4182-9238-2c7625714d41"
   },
   "outputs": [],
   "source": [
    "# Show rows where diastolic blood pressure (ap_lo) is less than 0\n",
    "low_ap_lo = df_clean[df_clean['ap_lo'] < 0]\n",
    "print(f\"Number of records with ap_lo < 0: {len(low_ap_lo)}\")\n",
    "display(low_ap_lo)\n",
    "\n",
    "\n"
   ]
  },
  {
   "cell_type": "code",
   "execution_count": null,
   "id": "34",
   "metadata": {
    "colab": {
     "base_uri": "https://localhost:8080/",
     "height": 461
    },
    "executionInfo": {
     "elapsed": 46,
     "status": "ok",
     "timestamp": 1759238567363,
     "user": {
      "displayName": "Md Sharif Uddin Khan",
      "userId": "13262859669309775885"
     },
     "user_tz": -360
    },
    "id": "0f46a32b",
    "outputId": "149d2a4a-6d8e-4e06-cec2-a2202f26e7ad"
   },
   "outputs": [],
   "source": [
    "# Show rows where diastolic blood pressure (ap_lo) is greater than 200\n",
    "high_ap_lo = df_clean[df_clean['ap_lo'] > 200]\n",
    "print(f\"Number of records with ap_lo > 200: {len(high_ap_lo)}\")\n",
    "display(high_ap_lo)"
   ]
  },
  {
   "cell_type": "code",
   "execution_count": null,
   "id": "35",
   "metadata": {
    "executionInfo": {
     "elapsed": 22,
     "status": "ok",
     "timestamp": 1759238572926,
     "user": {
      "displayName": "Md Sharif Uddin Khan",
      "userId": "13262859669309775885"
     },
     "user_tz": -360
    },
    "id": "b2f0fb0e"
   },
   "outputs": [],
   "source": [
    "# (SBP: 60-240, DBP: 40-130)\n",
    "# Defining plausible limits\n",
    "MIN_SYSTOLIC  = 60\n",
    "MAX_SYSTOLIC  = 240\n",
    "MIN_DIASTOLIC = 40\n",
    "MAX_DIASTOLIC = 130\n"
   ]
  },
  {
   "cell_type": "code",
   "execution_count": null,
   "id": "36",
   "metadata": {
    "colab": {
     "base_uri": "https://localhost:8080/"
    },
    "executionInfo": {
     "elapsed": 25,
     "status": "ok",
     "timestamp": 1759238575399,
     "user": {
      "displayName": "Md Sharif Uddin Khan",
      "userId": "13262859669309775885"
     },
     "user_tz": -360
    },
    "id": "b048d2e5",
    "outputId": "8ae7c8fe-5fb3-4c9c-c82d-0503ffc70bb8"
   },
   "outputs": [],
   "source": [
    "# CORRECT THE COMMON DATA ENTRY ERROR: Missing decimal in Diastolic\n",
    "# We assume any diastolic value between 400 and 1300 with trailing '00' is meant to be divided by 10.\n",
    "suspicious_dia_range = (400, 1300)\n",
    "\n",
    "dia_error_mask = (\n",
    "    (df_clean['ap_lo'] >= suspicious_dia_range[0]) &\n",
    "    (df_clean['ap_lo'] <= suspicious_dia_range[1]) &\n",
    "    (df_clean['ap_lo'] % 100 == 0)\n",
    ")\n",
    "\n",
    "before_corr = df_clean['ap_lo'].copy()\n",
    "df_clean.loc[dia_error_mask, 'ap_lo'] = df_clean.loc[dia_error_mask, 'ap_lo'] / 10\n",
    "print(f\"Corrected {dia_error_mask.sum()} diastolic values by dividing by 10.\")\n"
   ]
  },
  {
   "cell_type": "code",
   "execution_count": null,
   "id": "37",
   "metadata": {
    "executionInfo": {
     "elapsed": 4,
     "status": "ok",
     "timestamp": 1759238580952,
     "user": {
      "displayName": "Md Sharif Uddin Khan",
      "userId": "13262859669309775885"
     },
     "user_tz": -360
    },
    "id": "e0bcd186"
   },
   "outputs": [],
   "source": [
    "# Create a boolean mask for rows that are within limits\n",
    "valid_data_mask = (\n",
    "    (df_clean['ap_hi'] >= MIN_SYSTOLIC)  &\n",
    "    (df_clean['ap_hi'] <= MAX_SYSTOLIC)  &\n",
    "    (df_clean['ap_lo'] >= MIN_DIASTOLIC) &\n",
    "    (df_clean['ap_lo'] <= MAX_DIASTOLIC)\n",
    ")\n"
   ]
  },
  {
   "cell_type": "code",
   "execution_count": null,
   "id": "38",
   "metadata": {
    "colab": {
     "base_uri": "https://localhost:8080/",
     "height": 337
    },
    "executionInfo": {
     "elapsed": 89,
     "status": "ok",
     "timestamp": 1759238586252,
     "user": {
      "displayName": "Md Sharif Uddin Khan",
      "userId": "13262859669309775885"
     },
     "user_tz": -360
    },
    "id": "17003c30",
    "outputId": "a97abdcc-f389-4786-c1bd-401ac97aec10"
   },
   "outputs": [],
   "source": [
    "# Apply the mask to get your cleaned dataset (overwrite df_clean as requested)\n",
    "before_rows = df_clean.shape[0]\n",
    "df_clean = df_clean[valid_data_mask].copy()\n",
    "after_rows = df_clean.shape[0]\n",
    "\n",
    "print(f\"Rows kept after BP bounds: {after_rows} (dropped {before_rows - after_rows})\")\n",
    "display(df_clean.describe())\n"
   ]
  },
  {
   "cell_type": "markdown",
   "id": "39",
   "metadata": {
    "id": "895bc0fd"
   },
   "source": [
    "## Lets look at BMI"
   ]
  },
  {
   "cell_type": "markdown",
   "id": "40",
   "metadata": {
    "id": "8325d535"
   },
   "source": [
    "Reference: World Health Organization (WHO) BMI classification.\n",
    "\n",
    "Rationale: Plausible BMI for adults is generally 10–60. Values outside are considered unrealistic or erroneous."
   ]
  },
  {
   "cell_type": "code",
   "execution_count": null,
   "id": "41",
   "metadata": {
    "colab": {
     "base_uri": "https://localhost:8080/"
    },
    "executionInfo": {
     "elapsed": 70,
     "status": "ok",
     "timestamp": 1759238596619,
     "user": {
      "displayName": "Md Sharif Uddin Khan",
      "userId": "13262859669309775885"
     },
     "user_tz": -360
    },
    "id": "e2726714",
    "outputId": "d396b926-5b42-4cb2-e8dd-a75f32ca02ed"
   },
   "outputs": [],
   "source": [
    "print(\"Min BMI:\", df_clean['BMI'].min())\n",
    "print(\"Max BMI:\", df_clean['BMI'].max())\n",
    "\n",
    "# Count abnormal BMI\n",
    "abnormal_bmi = df_clean[(df_clean['BMI'] < 10) | (df_clean['BMI'] > 60)]\n",
    "print(\"Abnormal BMI values found:\", abnormal_bmi.shape[0])\n"
   ]
  },
  {
   "cell_type": "code",
   "execution_count": null,
   "id": "42",
   "metadata": {
    "colab": {
     "base_uri": "https://localhost:8080/"
    },
    "executionInfo": {
     "elapsed": 28,
     "status": "ok",
     "timestamp": 1759238598437,
     "user": {
      "displayName": "Md Sharif Uddin Khan",
      "userId": "13262859669309775885"
     },
     "user_tz": -360
    },
    "id": "378d39ba",
    "outputId": "1cd968e5-9285-4f17-fe3b-749a314acf6b"
   },
   "outputs": [],
   "source": [
    "# Count rows before cleaning\n",
    "before_rows = df_clean.shape[0]\n",
    "\n",
    "# Drop abnormal BMI rows (<10 or >60)\n",
    "df_clean = df_clean[(df_clean['BMI'] >= 10) & (df_clean['BMI'] <= 60)].copy()\n",
    "\n",
    "# Count rows after cleaning\n",
    "after_rows = df_clean.shape[0]\n",
    "\n",
    "print(f\"Rows kept after BMI cleaning: {after_rows} (dropped {before_rows - after_rows})\")\n"
   ]
  },
  {
   "cell_type": "markdown",
   "id": "43",
   "metadata": {
    "id": "0fd8f6a4"
   },
   "source": [
    "## we have done the most part of the cleaning, we just need to see if there's any duplicate values or not."
   ]
  },
  {
   "cell_type": "code",
   "execution_count": null,
   "id": "44",
   "metadata": {
    "colab": {
     "base_uri": "https://localhost:8080/"
    },
    "executionInfo": {
     "elapsed": 24,
     "status": "ok",
     "timestamp": 1759238604843,
     "user": {
      "displayName": "Md Sharif Uddin Khan",
      "userId": "13262859669309775885"
     },
     "user_tz": -360
    },
    "id": "8a8089be",
    "outputId": "634d3691-6f2a-4acb-ebab-0eb2df69945f"
   },
   "outputs": [],
   "source": [
    "# Count duplicate rows in the cleaned dataframe\n",
    "duplicate_rows = df_clean.duplicated().sum()\n",
    "print(\"Duplicate rows found:\", duplicate_rows)\n"
   ]
  },
  {
   "cell_type": "code",
   "execution_count": null,
   "id": "45",
   "metadata": {
    "colab": {
     "base_uri": "https://localhost:8080/",
     "height": 226
    },
    "executionInfo": {
     "elapsed": 56,
     "status": "ok",
     "timestamp": 1759238606914,
     "user": {
      "displayName": "Md Sharif Uddin Khan",
      "userId": "13262859669309775885"
     },
     "user_tz": -360
    },
    "id": "d6f28a04",
    "outputId": "3ab146d3-86af-4073-c54f-8a7b6fdfabeb"
   },
   "outputs": [],
   "source": [
    "df_clean.info()"
   ]
  },
  {
   "cell_type": "markdown",
   "id": "46",
   "metadata": {
    "id": "9135c4d6"
   },
   "source": [
    "## Lets scale our data for the better readabilty and also our model need it so that it can train effectively"
   ]
  },
  {
   "cell_type": "code",
   "execution_count": null,
   "id": "47",
   "metadata": {
    "colab": {
     "base_uri": "https://localhost:8080/",
     "height": 461
    },
    "executionInfo": {
     "elapsed": 261,
     "status": "ok",
     "timestamp": 1759238613412,
     "user": {
      "displayName": "Md Sharif Uddin Khan",
      "userId": "13262859669309775885"
     },
     "user_tz": -360
    },
    "id": "051eec9d",
    "outputId": "a9b38024-b467-4256-9483-b93d05020ae4"
   },
   "outputs": [],
   "source": [
    "from sklearn.preprocessing import MinMaxScaler\n",
    "\n",
    "# Drop BMI_category and age (in days)\n",
    "df_to_scale = df_clean.drop(columns=['BMI_category', 'age'])\n",
    "\n",
    "# Scale all remaining features\n",
    "scaler = MinMaxScaler()\n",
    "scaled_data = scaler.fit_transform(df_to_scale)\n",
    "\n",
    "# Put back into a DataFrame\n",
    "df_scaled = pd.DataFrame(scaled_data, columns=df_to_scale.columns, index=df_to_scale.index)\n",
    "\n",
    "print(\"Scaled dataframe shape:\", df_scaled.shape)\n",
    "display(df_scaled)\n"
   ]
  },
  {
   "cell_type": "code",
   "execution_count": null,
   "id": "48",
   "metadata": {
    "colab": {
     "base_uri": "https://localhost:8080/"
    },
    "executionInfo": {
     "elapsed": 55,
     "status": "ok",
     "timestamp": 1759240022215,
     "user": {
      "displayName": "Md Sharif Uddin Khan",
      "userId": "13262859669309775885"
     },
     "user_tz": -360
    },
    "id": "0Mkovan-1HkE",
    "outputId": "43c7840b-9219-4ad9-c270-f1808d2406bf"
   },
   "outputs": [],
   "source": [
    "# DATA PREPARATION\n",
    "\n",
    "print(\"1. CHECKING DATA TYPES\")\n",
    "print(\"-\" * 30)\n",
    "\n",
    "# Display current data types\n",
    "print(\"DataFrame Info:\")\n",
    "print(df_clean.info())\n",
    "\n",
    "# Identify numerical columns only\n",
    "numerical_columns = df_clean.select_dtypes(include=['number']).columns\n",
    "print(f\"\\n Numerical columns selected: {len(numerical_columns)}\")\n",
    "print(f\"Features: {list(numerical_columns)}\")\n",
    "\n",
    "# Create numerical-only dataframe\n",
    "numerical_df = df_clean[numerical_columns]\n",
    "print(f\"Working dataset: {numerical_df.shape[0]} rows, {numerical_df.shape[1]} columns\")"
   ]
  },
  {
   "cell_type": "code",
   "execution_count": null,
   "id": "49",
   "metadata": {
    "colab": {
     "base_uri": "https://localhost:8080/"
    },
    "executionInfo": {
     "elapsed": 49,
     "status": "ok",
     "timestamp": 1759240000257,
     "user": {
      "displayName": "Md Sharif Uddin Khan",
      "userId": "13262859669309775885"
     },
     "user_tz": -360
    },
    "id": "yMbY_Ny910cd",
    "outputId": "5b3bcb7f-c3de-46d7-853d-0d9343506fd9"
   },
   "outputs": [],
   "source": [
    "# CORRELATION CALCULATION\n",
    "\n",
    "print(\"\\n2. CALCULATING CORRELATION MATRIX\")\n",
    "print(\"-\" * 30)\n",
    "\n",
    "# Calculate correlation matrix\n",
    "correlation_matrix = numerical_df.corr()\n",
    "print(f\"Correlation matrix shape: {correlation_matrix.shape}\")\n",
    "\n",
    "# Display correlation matrix values\n",
    "print(\"\\nCorrelation Matrix Values:\")\n",
    "print(correlation_matrix.round(3))"
   ]
  },
  {
   "cell_type": "code",
   "execution_count": null,
   "id": "50",
   "metadata": {
    "colab": {
     "base_uri": "https://localhost:8080/",
     "height": 826
    },
    "executionInfo": {
     "elapsed": 789,
     "status": "ok",
     "timestamp": 1759239983336,
     "user": {
      "displayName": "Md Sharif Uddin Khan",
      "userId": "13262859669309775885"
     },
     "user_tz": -360
    },
    "id": "NBuQXySo2Lpf",
    "outputId": "6aaea72c-aea4-43fc-d9f0-46f9f0823594"
   },
   "outputs": [],
   "source": [
    "# HEATMAP VISUALIZATION\n",
    "\n",
    "print(\"\\n3. CREATING CORRELATION HEATMAP\")\n",
    "print(\"-\" * 30)\n",
    "\n",
    "# Set up the figure\n",
    "plt.figure(figsize=(14, 12))\n",
    "\n",
    "# Create the heatmap\n",
    "heatmap = sns.heatmap(\n",
    "    correlation_matrix,\n",
    "    annot=True,           # Show correlation values\n",
    "    cmap='coolwarm',      # Color scheme (blue-white-red)\n",
    "    center=0,             # Center colormap at 0\n",
    "    fmt='.2f',            # Format numbers to 2 decimal places\n",
    "    linewidths=0.5,       # Add lines between cells\n",
    "    square=True,          # Make cells square\n",
    "    cbar_kws={\"shrink\": 0.8}  # Size of color bar\n",
    ")\n",
    "\n",
    "# Customize titles and labels\n",
    "plt.title('Feature Correlation Heatmap\\nCardiovascular Dataset',\n",
    "          fontsize=16, fontweight='bold', pad=20)\n",
    "plt.xticks(rotation=45, ha='right')  # Rotate x-axis labels\n",
    "plt.yticks(rotation=0)               # Keep y-axis labels horizontal\n",
    "\n",
    "plt.tight_layout()\n",
    "plt.show()"
   ]
  },
  {
   "cell_type": "code",
   "execution_count": null,
   "id": "51",
   "metadata": {
    "colab": {
     "base_uri": "https://localhost:8080/"
    },
    "executionInfo": {
     "elapsed": 16,
     "status": "ok",
     "timestamp": 1759239964799,
     "user": {
      "displayName": "Md Sharif Uddin Khan",
      "userId": "13262859669309775885"
     },
     "user_tz": -360
    },
    "id": "_GyujlF42jde",
    "outputId": "4428b97b-8a21-422f-d18c-9873113ca605"
   },
   "outputs": [],
   "source": [
    "# CORRELATION ANALYSIS\n",
    "\n",
    "print(\"\\n4. CORRELATION ANALYSIS & INSIGHTS\")\n",
    "print(\"-\" * 30)\n",
    "\n",
    "# Get all correlation pairs (excluding self-correlation)\n",
    "corr_pairs = correlation_matrix.unstack()\n",
    "corr_pairs = corr_pairs[corr_pairs != 1.0]  # Remove correlation with itself\n",
    "\n",
    "# Sort by absolute value to find strongest correlations\n",
    "corr_pairs_abs = corr_pairs.abs().sort_values(ascending=False)\n",
    "\n",
    "print(\"STRONGEST CORRELATIONS:\")\n",
    "\n",
    "# Display top 10 strongest correlations (positive and negative)\n",
    "print(\"\\nTop 10 Strongest Correlations (Absolute Value):\")\n",
    "for i, (pair, corr_value) in enumerate(corr_pairs_abs.head(10).items()):\n",
    "    actual_value = corr_pairs[pair]\n",
    "    strength = \"STRONG\" if abs(actual_value) > 0.5 else \"MODERATE\" if abs(actual_value) > 0.3 else \"WEAK\"\n",
    "    direction = \"↑ POSITIVE\" if actual_value > 0 else \"↓ NEGATIVE\"\n",
    "    print(f\"  {i+1:2d}. {pair[0]:15} ↔ {pair[1]:15} : {actual_value:6.3f} ({direction} - {strength})\")"
   ]
  },
  {
   "cell_type": "code",
   "execution_count": null,
   "id": "52",
   "metadata": {
    "colab": {
     "base_uri": "https://localhost:8080/"
    },
    "executionInfo": {
     "elapsed": 103,
     "status": "ok",
     "timestamp": 1759239926501,
     "user": {
      "displayName": "Md Sharif Uddin Khan",
      "userId": "13262859669309775885"
     },
     "user_tz": -360
    },
    "id": "dkeXVoGB274X",
    "outputId": "f386f528-c4c5-457d-9f2a-20afe1fa2eb2"
   },
   "outputs": [],
   "source": [
    "# TARGET VARIABLE ANALYSIS\n",
    "\n",
    "print(\"\\n5. TARGET VARIABLE CORRELATION (cardio)\")\n",
    "print(\"-\" * 30)\n",
    "\n",
    "if 'cardio' in correlation_matrix.columns:\n",
    "    # Get correlations with target variable\n",
    "    target_correlations = correlation_matrix['cardio'].sort_values(ascending=False)\n",
    "\n",
    "    print(\"Features Most Correlated with Cardiovascular Disease:\")\n",
    "    print(\"-\" * 50)\n",
    "\n",
    "    for feature, corr_value in target_correlations.items():\n",
    "        if feature != 'cardio':  # Exclude self-correlation\n",
    "            if abs(corr_value) > 0.1:\n",
    "                importance = \"HIGH\" if abs(corr_value) > 0.2 else \"MEDIUM\" if abs(corr_value) > 0.1 else \"LOW\"\n",
    "                direction = \"increases risk\" if corr_value > 0 else \"decreases risk\"\n",
    "                print(f\"  • {feature:20} : {corr_value:6.3f} ({importance} - {direction})\")\n",
    "            else:\n",
    "                print(f\"  • {feature:20} : {corr_value:6.3f} (LOW impact)\")"
   ]
  },
  {
   "cell_type": "code",
   "execution_count": null,
   "id": "53",
   "metadata": {
    "colab": {
     "base_uri": "https://localhost:8080/"
    },
    "executionInfo": {
     "elapsed": 17,
     "status": "ok",
     "timestamp": 1759239871143,
     "user": {
      "displayName": "Md Sharif Uddin Khan",
      "userId": "13262859669309775885"
     },
     "user_tz": -360
    },
    "id": "R7qeiZ583Lgx",
    "outputId": "8ce4e010-4a8d-465e-820d-36fa120f84ab"
   },
   "outputs": [],
   "source": [
    "# SUMMARY & KEY FINDINGS\n",
    "\n",
    "print(\"\\n6. SUMMARY & KEY FINDINGS\")\n",
    "print(\"-\" * 30)\n",
    "\n",
    "print(\"CORRELATION STRENGTH GUIDE:\")\n",
    "print(\"  • |r| > 0.7 : Very Strong\")\n",
    "print(\"  • |r| > 0.5 : Strong\")\n",
    "print(\"  • |r| > 0.3 : Moderate\")\n",
    "print(\"  • |r| > 0.1 : Weak\")\n",
    "print(\"  • |r| < 0.1 : Very Weak/Negligible\")\n",
    "\n",
    "print(f\"\\n ANALYSIS COMPLETED:\")\n",
    "print(f\"  • Dataset: {numerical_df.shape[0]} samples, {numerical_df.shape[1]} features\")\n",
    "print(f\"  • Features analyzed: {len(numerical_columns)}\")\n",
    "print(f\"  • Correlation matrix: {correlation_matrix.shape}\")\n",
    "\n",
    "# Count correlation strengths\n",
    "strong_corr = (correlation_matrix.abs() > 0.5).sum().sum() - len(correlation_matrix)  # Exclude diagonal\n",
    "moderate_corr = ((correlation_matrix.abs() > 0.3) & (correlation_matrix.abs() <= 0.5)).sum().sum()\n",
    "\n",
    "print(f\"  • Strong correlations (|r| > 0.5): {strong_corr}\")\n",
    "print(f\"  • Moderate correlations (0.3 < |r| ≤ 0.5): {moderate_corr}\")\n",
    "\n",
    "print(\"\\n RECOMMENDATION: Focus on features with moderate to strong correlations for predictive modeling.\")"
   ]
  }
 ],
 "metadata": {
  "colab": {
   "provenance": [
    {
     "file_id": "1XvR1WqbjzxOrAcIlsn6bwJXciqbR2qsG",
     "timestamp": 1759241005262
    }
   ]
  },
  "kernelspec": {
   "display_name": "venv",
   "language": "python",
   "name": "python3"
  },
  "language_info": {
   "codemirror_mode": {
    "name": "ipython",
    "version": 3
   },
   "file_extension": ".py",
   "mimetype": "text/x-python",
   "name": "python",
   "nbconvert_exporter": "python",
   "pygments_lexer": "ipython3",
   "version": "3.12.6"
  }
 },
 "nbformat": 4,
 "nbformat_minor": 5
}
