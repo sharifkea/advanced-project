{
 "cells": [
  {
   "cell_type": "code",
   "execution_count": null,
   "id": "0",
   "metadata": {},
   "outputs": [],
   "source": [
    "import numpy as np\n",
    "import pandas as pd\n",
    "import matplotlib.pyplot as plt\n",
    "import seaborn as sns"
   ]
  },
  {
   "cell_type": "code",
   "execution_count": null,
   "id": "1",
   "metadata": {},
   "outputs": [],
   "source": [
    "# Load the dataset\n",
    "df = pd.read_csv('cardio_train.csv', sep=';')"
   ]
  },
  {
   "cell_type": "code",
   "execution_count": null,
   "id": "2",
   "metadata": {},
   "outputs": [],
   "source": [
    "# Calculate age in years\n",
    "df['age_years'] = df['age'] / 365"
   ]
  },
  {
   "cell_type": "code",
   "execution_count": null,
   "id": "3",
   "metadata": {},
   "outputs": [],
   "source": [
    "# Display DataFrame information\n",
    "df.info()"
   ]
  },
  {
   "cell_type": "code",
   "execution_count": null,
   "id": "4",
   "metadata": {},
   "outputs": [],
   "source": [
    "# Describe the DataFrame\n",
    "df.describe()"
   ]
  },
  {
   "cell_type": "markdown",
   "id": "5",
   "metadata": {},
   "source": [
    "# Visualize Gender vs Cardio Counts\n",
    "\n",
    "This section visualizes the relationship between gender and cardio outcomes. The plot shows the counts of cardio outcomes (0 and 1) for each gender (1 and 2)."
   ]
  },
  {
   "cell_type": "code",
   "execution_count": null,
   "id": "6",
   "metadata": {},
   "outputs": [],
   "source": [
    "# Group data by gender and cardio outcome\n",
    "gender_cardio_counts = df.groupby(['gender', 'cardio']).size().unstack(fill_value=0)\n",
    "\n",
    "# Plot grouped bar chart\n",
    "ax = gender_cardio_counts.plot(kind='bar', stacked=False)\n",
    "plt.title('Counts of Cardio Outcomes by Gender')\n",
    "plt.xlabel('Gender (1 = Female, 2 = Male)')\n",
    "plt.ylabel('Count')\n",
    "plt.xticks([0, 1], ['Female', 'Male'], rotation=0)\n",
    "plt.legend(title='Cardio Outcome', labels=['No Disease (0)', 'Disease (1)'])\n",
    "plt.tight_layout()\n",
    "plt.show()"
   ]
  },
  {
   "cell_type": "code",
   "execution_count": null,
   "id": "7",
   "metadata": {},
   "outputs": [],
   "source": [
    "# Calculate counts and percentage of cardio infection by gender\n",
    "gender_counts = df['gender'].value_counts().sort_index()\n",
    "cardio_infection_counts = df[df['cardio'] == 1]['gender'].value_counts().sort_index()\n",
    "infection_percentage = (cardio_infection_counts / gender_counts * 100).round(2)\n",
    "\n",
    "print(\"Gender counts:\")\n",
    "print(gender_counts)\n",
    "print(\"\\nCardio infection counts (cardio=1):\")\n",
    "print(cardio_infection_counts)\n",
    "print(\"\\nPercentage of infection by gender:\")\n",
    "print(infection_percentage)"
   ]
  },
  {
   "cell_type": "code",
   "execution_count": null,
   "id": "8",
   "metadata": {},
   "outputs": [],
   "source": [
    "# Box plot of systolic blood pressure (ap_hi) by gender\n",
    "plt.figure(figsize=(8, 6))\n",
    "sns.boxplot(x='gender', y='ap_hi', data=df)\n",
    "plt.xlabel('Gender (1 = Female, 2 = Male)')\n",
    "plt.ylabel('Systolic Blood Pressure (ap_hi)')\n",
    "plt.title('Box Plot of Systolic Blood Pressure by Gender')\n",
    "plt.xticks([0, 1], ['Female', 'Male'])\n",
    "plt.tight_layout()\n",
    "plt.show()"
   ]
  },
  {
   "cell_type": "code",
   "execution_count": null,
   "id": "9",
   "metadata": {},
   "outputs": [],
   "source": [
    "# Box plot of systolic blood pressure (ap_hi) by gender\n",
    "plt.figure(figsize=(8, 6))\n",
    "sns.boxplot(x='gender', y='ap_lo', data=df)\n",
    "plt.xlabel('Gender (1 = Female, 2 = Male)')\n",
    "plt.ylabel('Systolic Blood Pressure (ap_lo)')\n",
    "plt.title('Box Plot of Systolic Blood Pressure by Gender')\n",
    "plt.xticks([0, 1], ['Female', 'Male'])\n",
    "plt.tight_layout()\n",
    "plt.show()"
   ]
  },
  {
   "cell_type": "code",
   "execution_count": null,
   "id": "10",
   "metadata": {},
   "outputs": [],
   "source": []
  }
 ],
 "metadata": {
  "kernelspec": {
   "display_name": "venv",
   "language": "python",
   "name": "python3"
  },
  "language_info": {
   "codemirror_mode": {
    "name": "ipython",
    "version": 3
   },
   "file_extension": ".py",
   "mimetype": "text/x-python",
   "name": "python",
   "nbconvert_exporter": "python",
   "pygments_lexer": "ipython3",
   "version": "3.12.6"
  }
 },
 "nbformat": 4,
 "nbformat_minor": 5
}
