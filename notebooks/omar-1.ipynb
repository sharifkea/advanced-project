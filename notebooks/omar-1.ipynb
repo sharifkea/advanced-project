{
 "cells": [
  {
   "cell_type": "code",
   "execution_count": null,
   "id": "0",
   "metadata": {},
   "outputs": [],
   "source": [
    "import numpy as np\n",
    "import pandas as pd\n",
    "import matplotlib.pyplot as plt\n",
    "import seaborn as sns"
   ]
  },
  {
   "cell_type": "code",
   "execution_count": null,
   "id": "1",
   "metadata": {},
   "outputs": [],
   "source": [
    "# Load the dataset\n",
    "df = pd.read_csv('cardio_train.csv', sep=';')"
   ]
  },
  {
   "cell_type": "code",
   "execution_count": null,
   "id": "2",
   "metadata": {},
   "outputs": [],
   "source": [
    "# Calculate age in years\n",
    "df['age_years'] = df['age'] / 365"
   ]
  },
  {
   "cell_type": "code",
   "execution_count": null,
   "id": "3",
   "metadata": {},
   "outputs": [],
   "source": [
    "# Display DataFrame information\n",
    "df.info()"
   ]
  },
  {
   "cell_type": "code",
   "execution_count": null,
   "id": "4",
   "metadata": {},
   "outputs": [],
   "source": [
    "# Describe the DataFrame\n",
    "df.describe()"
   ]
  },
  {
   "cell_type": "code",
   "execution_count": null,
   "id": "5",
   "metadata": {},
   "outputs": [],
   "source": [
    "df.isnull().sum()"
   ]
  },
  {
   "cell_type": "markdown",
   "id": "6",
   "metadata": {},
   "source": [
    "# Visualize Gender vs Cardio Counts\n",
    "\n",
    "This section visualizes the relationship between gender and cardio outcomes. The plot shows the counts of cardio outcomes (0 and 1) for each gender (1 and 2)."
   ]
  },
  {
   "cell_type": "code",
   "execution_count": null,
   "id": "7",
   "metadata": {},
   "outputs": [],
   "source": [
    "# Group data by gender and cardio outcome\n",
    "gender_cardio_counts = df.groupby(['gender', 'cardio']).size().unstack(fill_value=0)\n",
    "\n",
    "# Plot grouped bar chart\n",
    "ax = gender_cardio_counts.plot(kind='bar', stacked=False)\n",
    "plt.title('Counts of Cardio Outcomes by Gender')\n",
    "plt.xlabel('Gender (1 = Female, 2 = Male)')\n",
    "plt.ylabel('Count')\n",
    "plt.xticks([0, 1], ['Female', 'Male'], rotation=0)\n",
    "plt.legend(title='Cardio Outcome', labels=['No Disease (0)', 'Disease (1)'])\n",
    "plt.tight_layout()\n",
    "plt.show()"
   ]
  },
  {
   "cell_type": "code",
   "execution_count": null,
   "id": "8",
   "metadata": {},
   "outputs": [],
   "source": [
    "# Calculate counts and percentage of cardio infection by gender\n",
    "gender_counts = df['gender'].value_counts().sort_index()\n",
    "cardio_infection_counts = df[df['cardio'] == 1]['gender'].value_counts().sort_index()\n",
    "infection_percentage = (cardio_infection_counts / gender_counts * 100).round(2)\n",
    "\n",
    "print(\"Gender counts:\")\n",
    "print(gender_counts)\n",
    "print(\"\\nCardio infection counts (cardio=1):\")\n",
    "print(cardio_infection_counts)\n",
    "print(\"\\nPercentage of infection by gender:\")\n",
    "print(infection_percentage)"
   ]
  },
  {
   "cell_type": "code",
   "execution_count": null,
   "id": "9",
   "metadata": {},
   "outputs": [],
   "source": [
    "# Box plot of systolic blood pressure (ap_hi) by gender\n",
    "plt.figure(figsize=(8, 6))\n",
    "sns.boxplot(x='gender', y='ap_hi', data=df)\n",
    "plt.xlabel('Gender (1 = Female, 2 = Male)')\n",
    "plt.ylabel('Systolic Blood Pressure (ap_hi)')\n",
    "plt.title('Box Plot of Systolic Blood Pressure by Gender')\n",
    "plt.xticks([0, 1], ['Female', 'Male'])\n",
    "plt.tight_layout()\n",
    "plt.show()"
   ]
  },
  {
   "cell_type": "code",
   "execution_count": null,
   "id": "10",
   "metadata": {},
   "outputs": [],
   "source": [
    "# Box plot of systolic blood pressure (ap_hi) by gender\n",
    "plt.figure(figsize=(8, 6))\n",
    "sns.boxplot(x='gender', y='ap_lo', data=df)\n",
    "plt.xlabel('Gender (1 = Female, 2 = Male)')\n",
    "plt.ylabel('Systolic Blood Pressure (ap_lo)')\n",
    "plt.title('Box Plot of Systolic Blood Pressure by Gender')\n",
    "plt.xticks([0, 1], ['Female', 'Male'])\n",
    "plt.tight_layout()\n",
    "plt.show()"
   ]
  },
  {
   "cell_type": "code",
   "execution_count": null,
   "id": "11",
   "metadata": {},
   "outputs": [],
   "source": [
    "df[(df['ap_hi'] > 200) & (df['ap_hi'] < 300)]"
   ]
  },
  {
   "cell_type": "code",
   "execution_count": null,
   "id": "12",
   "metadata": {},
   "outputs": [],
   "source": [
    "# Show rows where systolic blood pressure (ap_hi) is greater than 200\n",
    "high_ap_hi = df[df['ap_hi'] > 200]\n",
    "print(f\"Number of records with ap_hi > 200: {len(high_ap_hi)}\")\n",
    "display(high_ap_hi)"
   ]
  },
  {
   "cell_type": "code",
   "execution_count": null,
   "id": "13",
   "metadata": {},
   "outputs": [],
   "source": [
    "# Show rows where diastolic blood pressure (ap_hi) is less than 0\n",
    "low_ap_hi = df[df['ap_hi'] < 0]\n",
    "print(f\"Number of records with ap_hi < 0: {len(low_ap_hi)}\")\n",
    "display(low_ap_hi)"
   ]
  },
  {
   "cell_type": "code",
   "execution_count": null,
   "id": "14",
   "metadata": {},
   "outputs": [],
   "source": [
    "# Show rows where diastolic blood pressure (ap_lo) is less than 0\n",
    "low_ap_lo = df[df['ap_lo'] < 0]\n",
    "print(f\"Number of records with ap_lo < 0: {len(low_ap_lo)}\")\n",
    "display(low_ap_lo)"
   ]
  },
  {
   "cell_type": "code",
   "execution_count": null,
   "id": "15",
   "metadata": {},
   "outputs": [],
   "source": [
    "# Show rows where diastolic blood pressure (ap_lo) is greater than 200\n",
    "high_ap_lo = df[df['ap_lo'] > 200]\n",
    "print(f\"Number of records with ap_lo > 200: {len(high_ap_lo)}\")\n",
    "display(high_ap_lo)"
   ]
  },
  {
   "cell_type": "code",
   "execution_count": null,
   "id": "16",
   "metadata": {},
   "outputs": [],
   "source": [
    "plt.hist(high_ap_lo['ap_lo'], bins=30, edgecolor='black')"
   ]
  },
  {
   "cell_type": "code",
   "execution_count": null,
   "id": "17",
   "metadata": {},
   "outputs": [],
   "source": [
    "#(SBP: 60-240, DBP: 40-130)\n",
    "# Defining plausible limits\n",
    "MIN_SYSTOLIC = 60\n",
    "MAX_SYSTOLIC = 240\n",
    "MIN_DIASTOLIC = 40\n",
    "MAX_DIASTOLIC = 130"
   ]
  },
  {
   "cell_type": "code",
   "execution_count": null,
   "id": "18",
   "metadata": {},
   "outputs": [],
   "source": [
    "# CORRECT THE COMMON DATA ENTRY ERROR: Missing decimal in Diastolic\n",
    "# Define the range of values that are likely missing a decimal point\n",
    "# We assume any diastolic value between 400 and 1300, also last two digits are 00 is meant to be divided by 10.\n",
    "suspicious_dia_range = (400, 1300)\n",
    "\n",
    "# Create a boolean mask for rows with this error\n",
    "dia_error_mask = (df['ap_lo'] >= suspicious_dia_range[0]) & (df['ap_lo'] <= suspicious_dia_range[1]) & (df['ap_lo'] % 100 == 0)\n",
    "\n",
    "# Correct those specific rows by dividing the diastolic value by 10\n",
    "df.loc[dia_error_mask, 'ap_lo'] = df.loc[dia_error_mask, 'ap_lo'] / 10\n",
    "\n",
    "print(f\"Corrected {dia_error_mask.sum()} diastolic values by dividing by 10.\")"
   ]
  },
  {
   "cell_type": "code",
   "execution_count": null,
   "id": "19",
   "metadata": {},
   "outputs": [],
   "source": [
    "# Create a boolean mask for rows that are within limits\n",
    "valid_data_mask = (\n",
    "    (df['ap_hi'] >= MIN_SYSTOLIC) &\n",
    "    (df['ap_hi'] <= MAX_SYSTOLIC) &\n",
    "    (df['ap_lo'] >= MIN_DIASTOLIC) &\n",
    "    (df['ap_lo'] <= MAX_DIASTOLIC)\n",
    ")"
   ]
  },
  {
   "cell_type": "code",
   "execution_count": null,
   "id": "20",
   "metadata": {},
   "outputs": [],
   "source": [
    "# Apply the mask to get your cleaned dataset\n",
    "cleaned_df = df[valid_data_mask].copy()"
   ]
  },
  {
   "cell_type": "code",
   "execution_count": null,
   "id": "21",
   "metadata": {},
   "outputs": [],
   "source": [
    "cleaned_df.describe()"
   ]
  },
  {
   "cell_type": "code",
   "execution_count": null,
   "id": "22",
   "metadata": {},
   "outputs": [],
   "source": [
    "# Analyze what was removed\n",
    "final_invalid_df = df[~valid_data_mask]\n",
    "print(f\"Final dataset has {len(cleaned_df)} valid rows.\")\n",
    "print(f\"Removed {len(final_invalid_df)} invalid records that could not be corrected.\")"
   ]
  },
  {
   "cell_type": "code",
   "execution_count": null,
   "id": "23",
   "metadata": {},
   "outputs": [],
   "source": [
    "# Summary statistics for ap_hi and ap_lo by cardio outcome (0 and 1)\n",
    "summary = cleaned_df.groupby('cardio')[['ap_hi', 'ap_lo']].describe(percentiles=[0.25, 0.75])\n",
    "# Extract only min, 25%, 75%, max for each group\n",
    "summary_stats = summary.loc[:, (slice(None), ['min', '25%', '75%', 'max'])]\n",
    "print(summary_stats)"
   ]
  },
  {
   "cell_type": "code",
   "execution_count": null,
   "id": "24",
   "metadata": {},
   "outputs": [],
   "source": [
    "# Box plot of ap_hi and ap_lo by cardio outcome (0 and 1)\n",
    "plt.figure(figsize=(14, 6))\n",
    "\n",
    "plt.subplot(1, 2, 1)\n",
    "sns.boxplot(x='cardio', y='ap_hi', data=cleaned_df)\n",
    "plt.xlabel('Cardio (0 = No Disease, 1 = Disease)')\n",
    "plt.ylabel('Systolic Blood Pressure (ap_hi)')\n",
    "plt.title('Box Plot of ap_hi by Cardio Outcome')\n",
    "\n",
    "plt.subplot(1, 2, 2)\n",
    "sns.boxplot(x='cardio', y='ap_lo', data=cleaned_df)\n",
    "plt.xlabel('Cardio (0 = No Disease, 1 = Disease)')\n",
    "plt.ylabel('Diastolic Blood Pressure (ap_lo)')\n",
    "plt.title('Box Plot of ap_lo by Cardio Outcome')\n",
    "\n",
    "plt.tight_layout()\n",
    "plt.show()"
   ]
  },
  {
   "cell_type": "code",
   "execution_count": null,
   "id": "25",
   "metadata": {},
   "outputs": [],
   "source": [
    "cardio_counts = cleaned_df['cardio'].value_counts().sort_index()\n",
    "print(\"Counts of cardio outcomes when ap_hi > 120:\")\n",
    "print(cardio_counts)"
   ]
  },
  {
   "cell_type": "code",
   "execution_count": null,
   "id": "26",
   "metadata": {},
   "outputs": [],
   "source": [
    "# Count of cardio outcomes when ap_hi > 120\n",
    "high_ap_hi = df[df['ap_hi'] > 120]\n",
    "cardio_counts = high_ap_hi['cardio'].value_counts().sort_index()\n",
    "print(\"Counts of cardio outcomes when ap_hi > 120:\")\n",
    "print(cardio_counts)"
   ]
  }
 ],
 "metadata": {
  "kernelspec": {
   "display_name": "venv",
   "language": "python",
   "name": "python3"
  },
  "language_info": {
   "codemirror_mode": {
    "name": "ipython",
    "version": 3
   },
   "file_extension": ".py",
   "mimetype": "text/x-python",
   "name": "python",
   "nbconvert_exporter": "python",
   "pygments_lexer": "ipython3",
   "version": "3.12.6"
  }
 },
 "nbformat": 4,
 "nbformat_minor": 5
}
