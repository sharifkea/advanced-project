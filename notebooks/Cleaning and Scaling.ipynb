{
 "cells": [
  {
   "cell_type": "code",
   "execution_count": null,
   "id": "0",
   "metadata": {},
   "outputs": [],
   "source": [
    "import numpy as np\n",
    "import pandas as pd\n",
    "import matplotlib.pyplot as plt\n",
    "import seaborn as sns   \n",
    "\n"
   ]
  },
  {
   "cell_type": "code",
   "execution_count": null,
   "id": "1",
   "metadata": {},
   "outputs": [],
   "source": [
    "# Load the dataset\n",
    "df = pd.read_csv(r\"C:\\Users\\shiha\\Downloads\\cardio_train (1).csv\", sep=\";\")\n",
    "df.head()\n"
   ]
  },
  {
   "cell_type": "markdown",
   "id": "2",
   "metadata": {},
   "source": [
    "## Notice that age is in days format, so we are converting those in years format."
   ]
  },
  {
   "cell_type": "code",
   "execution_count": null,
   "id": "3",
   "metadata": {},
   "outputs": [],
   "source": [
    "# Convert age from days to years and round to nearest integer\n",
    "df['age_years'] = (df['age'] / 365).round()\n"
   ]
  },
  {
   "cell_type": "code",
   "execution_count": null,
   "id": "4",
   "metadata": {},
   "outputs": [],
   "source": [
    "df.head()"
   ]
  },
  {
   "cell_type": "code",
   "execution_count": null,
   "id": "5",
   "metadata": {},
   "outputs": [],
   "source": [
    "df.describe()"
   ]
  },
  {
   "cell_type": "markdown",
   "id": "6",
   "metadata": {},
   "source": [
    "## Now Lets create a BMI index which might come in handy later."
   ]
  },
  {
   "cell_type": "code",
   "execution_count": null,
   "id": "7",
   "metadata": {},
   "outputs": [],
   "source": [
    "# Calculate BMI and add as a new column\n",
    "df['BMI'] = df['weight'] / ( (df['height'] / 100) ** 2 )\n",
    "df.head()\n"
   ]
  },
  {
   "cell_type": "markdown",
   "id": "8",
   "metadata": {},
   "source": [
    "## Lets add another column which will categorize the BMI index value. This way we can understand clearly where a person stands physical aspect wise."
   ]
  },
  {
   "cell_type": "code",
   "execution_count": null,
   "id": "9",
   "metadata": {},
   "outputs": [],
   "source": [
    "bins = [0, 18.5, 25, 30, float('inf')]\n",
    "labels = ['Underweight', 'Normal', 'Overweight', 'Obese']\n",
    "\n",
    "df['BMI_category'] = pd.cut(df['BMI'], bins=bins, labels=labels)\n"
   ]
  },
  {
   "cell_type": "code",
   "execution_count": null,
   "id": "10",
   "metadata": {},
   "outputs": [],
   "source": [
    "df.head()"
   ]
  },
  {
   "cell_type": "markdown",
   "id": "11",
   "metadata": {},
   "source": [
    "## We need to convert the BMI category into numbers like 1, 2, 3 , 4 etc. This way it's easier for the model to train effectively because some ML model works better on numeric encoding."
   ]
  },
  {
   "cell_type": "code",
   "execution_count": null,
   "id": "12",
   "metadata": {},
   "outputs": [],
   "source": [
    "bmi_map = {\n",
    "    'Underweight': 1,\n",
    "    'Normal': 2,\n",
    "    'Overweight': 3,\n",
    "    'Obese': 4\n",
    "}\n"
   ]
  },
  {
   "cell_type": "code",
   "execution_count": null,
   "id": "13",
   "metadata": {},
   "outputs": [],
   "source": [
    "df['BMI_category_num'] = df['BMI_category'].map(bmi_map)\n",
    "df.head()"
   ]
  },
  {
   "cell_type": "markdown",
   "id": "14",
   "metadata": {},
   "source": [
    "## Now Lets focus on cleaning the dataset, this is crucial for the future steps in our project."
   ]
  },
  {
   "cell_type": "markdown",
   "id": "15",
   "metadata": {},
   "source": [
    "### Starting off with seeing if there is any missing values or not."
   ]
  },
  {
   "cell_type": "code",
   "execution_count": null,
   "id": "16",
   "metadata": {},
   "outputs": [],
   "source": [
    "df.isnull().sum()"
   ]
  },
  {
   "cell_type": "markdown",
   "id": "17",
   "metadata": {},
   "source": [
    "## Looks like there isn't any missing values, but we still need to look out for abnormal values or outliers which will harm our model's accuracy."
   ]
  },
  {
   "cell_type": "code",
   "execution_count": null,
   "id": "18",
   "metadata": {},
   "outputs": [],
   "source": [
    "df_clean = df.copy() # Create a copy to preserve the original data\n",
    "df_clean.head()"
   ]
  },
  {
   "cell_type": "markdown",
   "id": "19",
   "metadata": {},
   "source": [
    "### Lets look at age"
   ]
  },
  {
   "cell_type": "markdown",
   "id": "20",
   "metadata": {},
   "source": [
    "Reference: World Health Organization (WHO). \"Adolescent health.\" Defines adulthood starting from 18 years.\n",
    "\n",
    "Rationale: We exclude <18 (children) and >100 (extreme outliers)."
   ]
  },
  {
   "cell_type": "code",
   "execution_count": null,
   "id": "21",
   "metadata": {},
   "outputs": [],
   "source": [
    "\n",
    "\n",
    "# --- AGE CLEANING ---\n",
    "print(\"Min age:\", df_clean['age_years'].min())\n",
    "print(\"Max age:\", df_clean['age_years'].max())\n",
    "\n",
    "# Count abnormal ages\n",
    "abnormal_age = df_clean[(df_clean['age_years'] < 18) | (df_clean['age_years'] > 100)]\n",
    "print(\"Abnormal ages found:\", abnormal_age.shape[0])\n",
    "\n",
    "# Drop them\n",
    "df_clean = df_clean[(df_clean['age_years'] >= 18) & (df_clean['age_years'] <= 100)]\n",
    "print(\"Remaining rows after age cleaning:\", df_clean.shape[0])\n"
   ]
  },
  {
   "cell_type": "markdown",
   "id": "22",
   "metadata": {},
   "source": [
    "## Lets look at the height now."
   ]
  },
  {
   "cell_type": "markdown",
   "id": "23",
   "metadata": {},
   "source": [
    "Reference: Centers for Disease Control and Prevention (CDC), Anthropometric Reference Data for U.S. Adults, 2015–2018.\n",
    "\n",
    "Adult height typically ranges ~140–200 cm, but rare cases can extend beyond.\n",
    "\n",
    "Rationale: We used 80–250 cm as a broad but realistic filter to exclude data entry errors.\n",
    "\n",
    "\n",
    "\n"
   ]
  },
  {
   "cell_type": "code",
   "execution_count": null,
   "id": "24",
   "metadata": {},
   "outputs": [],
   "source": [
    "# --- HEIGHT CLEANING (80–250 cm) ---\n",
    "print(\"Min height:\", df_clean['height'].min())\n",
    "print(\"Max height:\", df_clean['height'].max())\n",
    "\n",
    "# Count abnormal heights\n",
    "abnormal_height = df_clean[(df_clean['height'] < 80) | (df_clean['height'] > 250)]\n",
    "print(\"Abnormal heights found:\", abnormal_height.shape[0])\n",
    "\n",
    "# Drop them\n",
    "df_clean = df_clean[(df_clean['height'] >= 80) & (df_clean['height'] <= 250)]\n",
    "print(\"Remaining rows after height cleaning:\", df_clean.shape[0])\n"
   ]
  },
  {
   "cell_type": "markdown",
   "id": "25",
   "metadata": {},
   "source": [
    "## Lets look at weight now."
   ]
  },
  {
   "cell_type": "markdown",
   "id": "26",
   "metadata": {},
   "source": [
    "Reference: CDC Anthropometric Reference Data 2015–2018.\n",
    "\n",
    "Adult weight distribution: ~45–120 kg for most adults, but can extend higher.\n",
    "\n",
    "Rationale: We set 40–200 kg as plausible to allow for heavier individuals while filtering errors."
   ]
  },
  {
   "cell_type": "code",
   "execution_count": null,
   "id": "27",
   "metadata": {},
   "outputs": [],
   "source": [
    "\n",
    "print(\"Min weight:\", df_clean['weight'].min())\n",
    "print(\"Max weight:\", df_clean['weight'].max())\n",
    "\n",
    "# Count abnormal weights\n",
    "abnormal_weight = df_clean[(df_clean['weight'] < 40) | (df_clean['weight'] > 200)]\n",
    "print(\"Abnormal weights found:\", abnormal_weight.shape[0])\n",
    "\n",
    "# Drop them\n",
    "df_clean = df_clean[(df_clean['weight'] >= 40) & (df_clean['weight'] <= 200)]\n",
    "print(\"Remaining rows after weight cleaning:\", df_clean.shape[0])\n"
   ]
  },
  {
   "cell_type": "markdown",
   "id": "28",
   "metadata": {},
   "source": [
    "## Lets look at blood pressure"
   ]
  },
  {
   "cell_type": "markdown",
   "id": "29",
   "metadata": {},
   "source": [
    "Reference: American Heart Association (AHA) – 2017 Guidelines.\n",
    "\n",
    "Physiological bounds: 60–240 systolic (ap_hi), 40–130 diastolic (ap_lo)."
   ]
  },
  {
   "cell_type": "code",
   "execution_count": null,
   "id": "30",
   "metadata": {},
   "outputs": [],
   "source": [
    "#inspecting systolic between 200 and 300\n",
    "df_clean[(df_clean['ap_hi'] > 200) & (df_clean['ap_hi'] < 300)]\n"
   ]
  },
  {
   "cell_type": "code",
   "execution_count": null,
   "id": "31",
   "metadata": {},
   "outputs": [],
   "source": [
    "# Show rows where systolic blood pressure (ap_hi) is greater than 200\n",
    "high_ap_hi = df_clean[df_clean['ap_hi'] > 200]\n",
    "print(f\"Number of records with ap_hi > 200: {len(high_ap_hi)}\")\n",
    "display(high_ap_hi)\n"
   ]
  },
  {
   "cell_type": "code",
   "execution_count": null,
   "id": "32",
   "metadata": {},
   "outputs": [],
   "source": [
    "# Show rows where systolic blood pressure (ap_hi) is less than 0\n",
    "low_ap_hi = df_clean[df_clean['ap_hi'] < 0]\n",
    "print(f\"Number of records with ap_hi < 0: {len(low_ap_hi)}\")\n",
    "display(low_ap_hi)\n"
   ]
  },
  {
   "cell_type": "code",
   "execution_count": null,
   "id": "33",
   "metadata": {},
   "outputs": [],
   "source": [
    "# Show rows where diastolic blood pressure (ap_lo) is less than 0\n",
    "low_ap_lo = df_clean[df_clean['ap_lo'] < 0]\n",
    "print(f\"Number of records with ap_lo < 0: {len(low_ap_lo)}\")\n",
    "display(low_ap_lo)\n",
    "\n",
    "\n"
   ]
  },
  {
   "cell_type": "code",
   "execution_count": null,
   "id": "34",
   "metadata": {},
   "outputs": [],
   "source": [
    "# Show rows where diastolic blood pressure (ap_lo) is greater than 200\n",
    "high_ap_lo = df_clean[df_clean['ap_lo'] > 200]\n",
    "print(f\"Number of records with ap_lo > 200: {len(high_ap_lo)}\")\n",
    "display(high_ap_lo)"
   ]
  },
  {
   "cell_type": "code",
   "execution_count": null,
   "id": "35",
   "metadata": {},
   "outputs": [],
   "source": [
    "# (SBP: 60-240, DBP: 40-130)\n",
    "# Defining plausible limits\n",
    "MIN_SYSTOLIC  = 60\n",
    "MAX_SYSTOLIC  = 240\n",
    "MIN_DIASTOLIC = 40\n",
    "MAX_DIASTOLIC = 130\n"
   ]
  },
  {
   "cell_type": "code",
   "execution_count": null,
   "id": "36",
   "metadata": {},
   "outputs": [],
   "source": [
    "# CORRECT THE COMMON DATA ENTRY ERROR: Missing decimal in Diastolic\n",
    "# We assume any diastolic value between 400 and 1300 with trailing '00' is meant to be divided by 10.\n",
    "suspicious_dia_range = (400, 1300)\n",
    "\n",
    "dia_error_mask = (\n",
    "    (df_clean['ap_lo'] >= suspicious_dia_range[0]) &\n",
    "    (df_clean['ap_lo'] <= suspicious_dia_range[1]) &\n",
    "    (df_clean['ap_lo'] % 100 == 0)\n",
    ")\n",
    "\n",
    "before_corr = df_clean['ap_lo'].copy()\n",
    "df_clean.loc[dia_error_mask, 'ap_lo'] = df_clean.loc[dia_error_mask, 'ap_lo'] / 10\n",
    "print(f\"Corrected {dia_error_mask.sum()} diastolic values by dividing by 10.\")\n"
   ]
  },
  {
   "cell_type": "code",
   "execution_count": null,
   "id": "37",
   "metadata": {},
   "outputs": [],
   "source": [
    "# Create a boolean mask for rows that are within limits\n",
    "valid_data_mask = (\n",
    "    (df_clean['ap_hi'] >= MIN_SYSTOLIC)  &\n",
    "    (df_clean['ap_hi'] <= MAX_SYSTOLIC)  &\n",
    "    (df_clean['ap_lo'] >= MIN_DIASTOLIC) &\n",
    "    (df_clean['ap_lo'] <= MAX_DIASTOLIC)\n",
    ")\n"
   ]
  },
  {
   "cell_type": "code",
   "execution_count": null,
   "id": "38",
   "metadata": {},
   "outputs": [],
   "source": [
    "# Apply the mask to get your cleaned dataset (overwrite df_clean as requested)\n",
    "before_rows = df_clean.shape[0]\n",
    "df_clean = df_clean[valid_data_mask].copy()\n",
    "after_rows = df_clean.shape[0]\n",
    "\n",
    "print(f\"Rows kept after BP bounds: {after_rows} (dropped {before_rows - after_rows})\")\n",
    "display(df_clean.describe())\n"
   ]
  },
  {
   "cell_type": "markdown",
   "id": "39",
   "metadata": {},
   "source": [
    "## Lets look at BMI"
   ]
  },
  {
   "cell_type": "markdown",
   "id": "40",
   "metadata": {},
   "source": [
    "Reference: World Health Organization (WHO) BMI classification.\n",
    "\n",
    "Rationale: Plausible BMI for adults is generally 10–60. Values outside are considered unrealistic or erroneous."
   ]
  },
  {
   "cell_type": "code",
   "execution_count": null,
   "id": "41",
   "metadata": {},
   "outputs": [],
   "source": [
    "print(\"Min BMI:\", df_clean['BMI'].min())\n",
    "print(\"Max BMI:\", df_clean['BMI'].max())\n",
    "\n",
    "# Count abnormal BMI\n",
    "abnormal_bmi = df_clean[(df_clean['BMI'] < 10) | (df_clean['BMI'] > 60)]\n",
    "print(\"Abnormal BMI values found:\", abnormal_bmi.shape[0])\n"
   ]
  },
  {
   "cell_type": "code",
   "execution_count": null,
   "id": "42",
   "metadata": {},
   "outputs": [],
   "source": [
    "# Count rows before cleaning\n",
    "before_rows = df_clean.shape[0]\n",
    "\n",
    "# Drop abnormal BMI rows (<10 or >60)\n",
    "df_clean = df_clean[(df_clean['BMI'] >= 10) & (df_clean['BMI'] <= 60)].copy()\n",
    "\n",
    "# Count rows after cleaning\n",
    "after_rows = df_clean.shape[0]\n",
    "\n",
    "print(f\"Rows kept after BMI cleaning: {after_rows} (dropped {before_rows - after_rows})\")\n"
   ]
  },
  {
   "cell_type": "markdown",
   "id": "43",
   "metadata": {},
   "source": [
    "## we have done the most part of the cleaning, we just need to see if there's any duplicate values or not. "
   ]
  },
  {
   "cell_type": "code",
   "execution_count": null,
   "id": "44",
   "metadata": {},
   "outputs": [],
   "source": [
    "# Count duplicate rows in the cleaned dataframe\n",
    "duplicate_rows = df_clean.duplicated().sum()\n",
    "print(\"Duplicate rows found:\", duplicate_rows)\n"
   ]
  },
  {
   "cell_type": "code",
   "execution_count": null,
   "id": "45",
   "metadata": {},
   "outputs": [],
   "source": [
    "df_clean.head()"
   ]
  },
  {
   "cell_type": "markdown",
   "id": "46",
   "metadata": {},
   "source": [
    "## Lets scale our data for the better readabilty and also our model need it so that it can train effectively"
   ]
  },
  {
   "cell_type": "code",
   "execution_count": null,
   "id": "47",
   "metadata": {},
   "outputs": [],
   "source": [
    "from sklearn.preprocessing import MinMaxScaler\n",
    "\n",
    "# Drop BMI_category and age (in days)\n",
    "df_to_scale = df_clean.drop(columns=['BMI_category', 'age'])\n",
    "\n",
    "# Scale all remaining features\n",
    "scaler = MinMaxScaler()\n",
    "scaled_data = scaler.fit_transform(df_to_scale)\n",
    "\n",
    "# Put back into a DataFrame\n",
    "df_scaled = pd.DataFrame(scaled_data, columns=df_to_scale.columns, index=df_to_scale.index)\n",
    "\n",
    "print(\"Scaled dataframe shape:\", df_scaled.shape)\n",
    "display(df_scaled)\n"
   ]
  }
 ],
 "metadata": {
  "kernelspec": {
   "display_name": "venv312",
   "language": "python",
   "name": "python3"
  },
  "language_info": {
   "codemirror_mode": {
    "name": "ipython",
    "version": 3
   },
   "file_extension": ".py",
   "mimetype": "text/x-python",
   "name": "python",
   "nbconvert_exporter": "python",
   "pygments_lexer": "ipython3",
   "version": "3.12.6"
  }
 },
 "nbformat": 4,
 "nbformat_minor": 5
}
